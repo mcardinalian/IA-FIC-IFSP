{
 "cells": [
  {
   "cell_type": "markdown",
   "id": "82c993a3",
   "metadata": {},
   "source": [
    "# Aula 05 - KNN, Naive Bayes\n",
    "\n",
    "Tópicos abordados na aula de hoje:\n",
    "\n",
    "* Overfit\n",
    "\n",
    "* Classificador KNN\n",
    "\n",
    "* Treino - teste - validação\n",
    "\n",
    "* K-fold Validation\n",
    "\n",
    "* Naive Bayes\n",
    "\n",
    "* Matriz de Confusão\n",
    "\n",
    "* Visualização dos dados\n",
    "\n",
    "* Train test split"
   ]
  },
  {
   "cell_type": "code",
   "execution_count": 5,
   "id": "c63e3edd",
   "metadata": {},
   "outputs": [],
   "source": [
    "import numpy as np\n",
    "import pandas as pd\n",
    "import seaborn as sns\n",
    "from tqdm import tqdm\n",
    "\n",
    "import plotly.express as px\n",
    "from plotly.subplots import make_subplots\n",
    "import plotly.graph_objects as go\n",
    "import seaborn as sns\n",
    "\n",
    "from sklearn.datasets import load_iris\n",
    "from sklearn.naive_bayes import GaussianNB\n",
    "from sklearn.metrics import mean_squared_error, accuracy_score, confusion_matrix, confusion_matrix, classification_report, ConfusionMatrixDisplay\n",
    "from sklearn.model_selection import train_test_split, cross_val_score, ShuffleSplit\n",
    "from sklearn.preprocessing import LabelEncoder\n",
    "from sklearn.neighbors import KNeighborsClassifier\n"
   ]
  },
  {
   "cell_type": "markdown",
   "id": "72887686",
   "metadata": {},
   "source": [
    "## Overfit\n",
    "\n",
    "\n",
    "Supondo uma relação linear \n",
    "\n",
    "\n",
    "$$ \\Large y(x) = 3x + 5 $$\n",
    "\n",
    "\n",
    "Poucos dados, espalhando e com ruido"
   ]
  },
  {
   "cell_type": "code",
   "execution_count": 6,
   "id": "e3dd7abc",
   "metadata": {},
   "outputs": [],
   "source": [
    "ruido = 20\n",
    "n = 20\n",
    "x = 10 + 5*np.random.randn(n)\n",
    "y = 3*x + 5 + ruido*np.random.rand(n)"
   ]
  },
  {
   "cell_type": "code",
   "execution_count": 7,
   "id": "d61957b8",
   "metadata": {},
   "outputs": [
    {
     "data": {
      "application/vnd.plotly.v1+json": {
       "config": {
        "plotlyServerURL": "https://plot.ly"
       },
       "data": [
        {
         "hovertemplate": "x=%{x}<br>y=%{y}<extra></extra>",
         "legendgroup": "",
         "marker": {
          "color": "#636efa",
          "symbol": "circle"
         },
         "mode": "markers",
         "name": "",
         "orientation": "v",
         "showlegend": false,
         "type": "scatter",
         "x": {
          "bdata": "u04RIqbnJUCJxeRISQgxQFTv90MtXiBAbGM6z+mrMEBaY1ZAeG0lQHxlGKPoSSBAV8iKPf+sGUApibyDuWUUQKo1CHnaxBdA5MCq732nM0DQqTorc5UuQAT2ZAX2fDdADFxmsmooK0CaImtf9gAtQE1VIHRG0hdAE+jAwrMJGkBwI4Ps4gEpQJojGnGH+ytACu6n4q4EMED4JjxmrHMuQA==",
          "dtype": "f8"
         },
         "xaxis": "x",
         "y": {
          "bdata": "BZWBOb+KSUCbWnW+HP1NQB8WElJGc0NArzQP2/IWUUBt8w8aXXZKQLp45ngyIUdAjhHZnSbVOUDG5GZy1II7QL01kRn5uT9AR1eDSNrqUEBK8syPtN5MQF5rRtsW1lZAf3COWeAvT0AVI8b3y/FJQKjMWv2mLUNAKz3EJWOWPED8NwHjrvRJQFnT7QhINFBArWfWwPjAUEDfLiE6A6JLQA==",
          "dtype": "f8"
         },
         "yaxis": "y"
        }
       ],
       "layout": {
        "height": 600,
        "legend": {
         "tracegroupgap": 0
        },
        "margin": {
         "t": 60
        },
        "template": {
         "data": {
          "bar": [
           {
            "error_x": {
             "color": "#2a3f5f"
            },
            "error_y": {
             "color": "#2a3f5f"
            },
            "marker": {
             "line": {
              "color": "#E5ECF6",
              "width": 0.5
             },
             "pattern": {
              "fillmode": "overlay",
              "size": 10,
              "solidity": 0.2
             }
            },
            "type": "bar"
           }
          ],
          "barpolar": [
           {
            "marker": {
             "line": {
              "color": "#E5ECF6",
              "width": 0.5
             },
             "pattern": {
              "fillmode": "overlay",
              "size": 10,
              "solidity": 0.2
             }
            },
            "type": "barpolar"
           }
          ],
          "carpet": [
           {
            "aaxis": {
             "endlinecolor": "#2a3f5f",
             "gridcolor": "white",
             "linecolor": "white",
             "minorgridcolor": "white",
             "startlinecolor": "#2a3f5f"
            },
            "baxis": {
             "endlinecolor": "#2a3f5f",
             "gridcolor": "white",
             "linecolor": "white",
             "minorgridcolor": "white",
             "startlinecolor": "#2a3f5f"
            },
            "type": "carpet"
           }
          ],
          "choropleth": [
           {
            "colorbar": {
             "outlinewidth": 0,
             "ticks": ""
            },
            "type": "choropleth"
           }
          ],
          "contour": [
           {
            "colorbar": {
             "outlinewidth": 0,
             "ticks": ""
            },
            "colorscale": [
             [
              0,
              "#0d0887"
             ],
             [
              0.1111111111111111,
              "#46039f"
             ],
             [
              0.2222222222222222,
              "#7201a8"
             ],
             [
              0.3333333333333333,
              "#9c179e"
             ],
             [
              0.4444444444444444,
              "#bd3786"
             ],
             [
              0.5555555555555556,
              "#d8576b"
             ],
             [
              0.6666666666666666,
              "#ed7953"
             ],
             [
              0.7777777777777778,
              "#fb9f3a"
             ],
             [
              0.8888888888888888,
              "#fdca26"
             ],
             [
              1,
              "#f0f921"
             ]
            ],
            "type": "contour"
           }
          ],
          "contourcarpet": [
           {
            "colorbar": {
             "outlinewidth": 0,
             "ticks": ""
            },
            "type": "contourcarpet"
           }
          ],
          "heatmap": [
           {
            "colorbar": {
             "outlinewidth": 0,
             "ticks": ""
            },
            "colorscale": [
             [
              0,
              "#0d0887"
             ],
             [
              0.1111111111111111,
              "#46039f"
             ],
             [
              0.2222222222222222,
              "#7201a8"
             ],
             [
              0.3333333333333333,
              "#9c179e"
             ],
             [
              0.4444444444444444,
              "#bd3786"
             ],
             [
              0.5555555555555556,
              "#d8576b"
             ],
             [
              0.6666666666666666,
              "#ed7953"
             ],
             [
              0.7777777777777778,
              "#fb9f3a"
             ],
             [
              0.8888888888888888,
              "#fdca26"
             ],
             [
              1,
              "#f0f921"
             ]
            ],
            "type": "heatmap"
           }
          ],
          "histogram": [
           {
            "marker": {
             "pattern": {
              "fillmode": "overlay",
              "size": 10,
              "solidity": 0.2
             }
            },
            "type": "histogram"
           }
          ],
          "histogram2d": [
           {
            "colorbar": {
             "outlinewidth": 0,
             "ticks": ""
            },
            "colorscale": [
             [
              0,
              "#0d0887"
             ],
             [
              0.1111111111111111,
              "#46039f"
             ],
             [
              0.2222222222222222,
              "#7201a8"
             ],
             [
              0.3333333333333333,
              "#9c179e"
             ],
             [
              0.4444444444444444,
              "#bd3786"
             ],
             [
              0.5555555555555556,
              "#d8576b"
             ],
             [
              0.6666666666666666,
              "#ed7953"
             ],
             [
              0.7777777777777778,
              "#fb9f3a"
             ],
             [
              0.8888888888888888,
              "#fdca26"
             ],
             [
              1,
              "#f0f921"
             ]
            ],
            "type": "histogram2d"
           }
          ],
          "histogram2dcontour": [
           {
            "colorbar": {
             "outlinewidth": 0,
             "ticks": ""
            },
            "colorscale": [
             [
              0,
              "#0d0887"
             ],
             [
              0.1111111111111111,
              "#46039f"
             ],
             [
              0.2222222222222222,
              "#7201a8"
             ],
             [
              0.3333333333333333,
              "#9c179e"
             ],
             [
              0.4444444444444444,
              "#bd3786"
             ],
             [
              0.5555555555555556,
              "#d8576b"
             ],
             [
              0.6666666666666666,
              "#ed7953"
             ],
             [
              0.7777777777777778,
              "#fb9f3a"
             ],
             [
              0.8888888888888888,
              "#fdca26"
             ],
             [
              1,
              "#f0f921"
             ]
            ],
            "type": "histogram2dcontour"
           }
          ],
          "mesh3d": [
           {
            "colorbar": {
             "outlinewidth": 0,
             "ticks": ""
            },
            "type": "mesh3d"
           }
          ],
          "parcoords": [
           {
            "line": {
             "colorbar": {
              "outlinewidth": 0,
              "ticks": ""
             }
            },
            "type": "parcoords"
           }
          ],
          "pie": [
           {
            "automargin": true,
            "type": "pie"
           }
          ],
          "scatter": [
           {
            "fillpattern": {
             "fillmode": "overlay",
             "size": 10,
             "solidity": 0.2
            },
            "type": "scatter"
           }
          ],
          "scatter3d": [
           {
            "line": {
             "colorbar": {
              "outlinewidth": 0,
              "ticks": ""
             }
            },
            "marker": {
             "colorbar": {
              "outlinewidth": 0,
              "ticks": ""
             }
            },
            "type": "scatter3d"
           }
          ],
          "scattercarpet": [
           {
            "marker": {
             "colorbar": {
              "outlinewidth": 0,
              "ticks": ""
             }
            },
            "type": "scattercarpet"
           }
          ],
          "scattergeo": [
           {
            "marker": {
             "colorbar": {
              "outlinewidth": 0,
              "ticks": ""
             }
            },
            "type": "scattergeo"
           }
          ],
          "scattergl": [
           {
            "marker": {
             "colorbar": {
              "outlinewidth": 0,
              "ticks": ""
             }
            },
            "type": "scattergl"
           }
          ],
          "scattermap": [
           {
            "marker": {
             "colorbar": {
              "outlinewidth": 0,
              "ticks": ""
             }
            },
            "type": "scattermap"
           }
          ],
          "scattermapbox": [
           {
            "marker": {
             "colorbar": {
              "outlinewidth": 0,
              "ticks": ""
             }
            },
            "type": "scattermapbox"
           }
          ],
          "scatterpolar": [
           {
            "marker": {
             "colorbar": {
              "outlinewidth": 0,
              "ticks": ""
             }
            },
            "type": "scatterpolar"
           }
          ],
          "scatterpolargl": [
           {
            "marker": {
             "colorbar": {
              "outlinewidth": 0,
              "ticks": ""
             }
            },
            "type": "scatterpolargl"
           }
          ],
          "scatterternary": [
           {
            "marker": {
             "colorbar": {
              "outlinewidth": 0,
              "ticks": ""
             }
            },
            "type": "scatterternary"
           }
          ],
          "surface": [
           {
            "colorbar": {
             "outlinewidth": 0,
             "ticks": ""
            },
            "colorscale": [
             [
              0,
              "#0d0887"
             ],
             [
              0.1111111111111111,
              "#46039f"
             ],
             [
              0.2222222222222222,
              "#7201a8"
             ],
             [
              0.3333333333333333,
              "#9c179e"
             ],
             [
              0.4444444444444444,
              "#bd3786"
             ],
             [
              0.5555555555555556,
              "#d8576b"
             ],
             [
              0.6666666666666666,
              "#ed7953"
             ],
             [
              0.7777777777777778,
              "#fb9f3a"
             ],
             [
              0.8888888888888888,
              "#fdca26"
             ],
             [
              1,
              "#f0f921"
             ]
            ],
            "type": "surface"
           }
          ],
          "table": [
           {
            "cells": {
             "fill": {
              "color": "#EBF0F8"
             },
             "line": {
              "color": "white"
             }
            },
            "header": {
             "fill": {
              "color": "#C8D4E3"
             },
             "line": {
              "color": "white"
             }
            },
            "type": "table"
           }
          ]
         },
         "layout": {
          "annotationdefaults": {
           "arrowcolor": "#2a3f5f",
           "arrowhead": 0,
           "arrowwidth": 1
          },
          "autotypenumbers": "strict",
          "coloraxis": {
           "colorbar": {
            "outlinewidth": 0,
            "ticks": ""
           }
          },
          "colorscale": {
           "diverging": [
            [
             0,
             "#8e0152"
            ],
            [
             0.1,
             "#c51b7d"
            ],
            [
             0.2,
             "#de77ae"
            ],
            [
             0.3,
             "#f1b6da"
            ],
            [
             0.4,
             "#fde0ef"
            ],
            [
             0.5,
             "#f7f7f7"
            ],
            [
             0.6,
             "#e6f5d0"
            ],
            [
             0.7,
             "#b8e186"
            ],
            [
             0.8,
             "#7fbc41"
            ],
            [
             0.9,
             "#4d9221"
            ],
            [
             1,
             "#276419"
            ]
           ],
           "sequential": [
            [
             0,
             "#0d0887"
            ],
            [
             0.1111111111111111,
             "#46039f"
            ],
            [
             0.2222222222222222,
             "#7201a8"
            ],
            [
             0.3333333333333333,
             "#9c179e"
            ],
            [
             0.4444444444444444,
             "#bd3786"
            ],
            [
             0.5555555555555556,
             "#d8576b"
            ],
            [
             0.6666666666666666,
             "#ed7953"
            ],
            [
             0.7777777777777778,
             "#fb9f3a"
            ],
            [
             0.8888888888888888,
             "#fdca26"
            ],
            [
             1,
             "#f0f921"
            ]
           ],
           "sequentialminus": [
            [
             0,
             "#0d0887"
            ],
            [
             0.1111111111111111,
             "#46039f"
            ],
            [
             0.2222222222222222,
             "#7201a8"
            ],
            [
             0.3333333333333333,
             "#9c179e"
            ],
            [
             0.4444444444444444,
             "#bd3786"
            ],
            [
             0.5555555555555556,
             "#d8576b"
            ],
            [
             0.6666666666666666,
             "#ed7953"
            ],
            [
             0.7777777777777778,
             "#fb9f3a"
            ],
            [
             0.8888888888888888,
             "#fdca26"
            ],
            [
             1,
             "#f0f921"
            ]
           ]
          },
          "colorway": [
           "#636efa",
           "#EF553B",
           "#00cc96",
           "#ab63fa",
           "#FFA15A",
           "#19d3f3",
           "#FF6692",
           "#B6E880",
           "#FF97FF",
           "#FECB52"
          ],
          "font": {
           "color": "#2a3f5f"
          },
          "geo": {
           "bgcolor": "white",
           "lakecolor": "white",
           "landcolor": "#E5ECF6",
           "showlakes": true,
           "showland": true,
           "subunitcolor": "white"
          },
          "hoverlabel": {
           "align": "left"
          },
          "hovermode": "closest",
          "mapbox": {
           "style": "light"
          },
          "paper_bgcolor": "white",
          "plot_bgcolor": "#E5ECF6",
          "polar": {
           "angularaxis": {
            "gridcolor": "white",
            "linecolor": "white",
            "ticks": ""
           },
           "bgcolor": "#E5ECF6",
           "radialaxis": {
            "gridcolor": "white",
            "linecolor": "white",
            "ticks": ""
           }
          },
          "scene": {
           "xaxis": {
            "backgroundcolor": "#E5ECF6",
            "gridcolor": "white",
            "gridwidth": 2,
            "linecolor": "white",
            "showbackground": true,
            "ticks": "",
            "zerolinecolor": "white"
           },
           "yaxis": {
            "backgroundcolor": "#E5ECF6",
            "gridcolor": "white",
            "gridwidth": 2,
            "linecolor": "white",
            "showbackground": true,
            "ticks": "",
            "zerolinecolor": "white"
           },
           "zaxis": {
            "backgroundcolor": "#E5ECF6",
            "gridcolor": "white",
            "gridwidth": 2,
            "linecolor": "white",
            "showbackground": true,
            "ticks": "",
            "zerolinecolor": "white"
           }
          },
          "shapedefaults": {
           "line": {
            "color": "#2a3f5f"
           }
          },
          "ternary": {
           "aaxis": {
            "gridcolor": "white",
            "linecolor": "white",
            "ticks": ""
           },
           "baxis": {
            "gridcolor": "white",
            "linecolor": "white",
            "ticks": ""
           },
           "bgcolor": "#E5ECF6",
           "caxis": {
            "gridcolor": "white",
            "linecolor": "white",
            "ticks": ""
           }
          },
          "title": {
           "x": 0.05
          },
          "xaxis": {
           "automargin": true,
           "gridcolor": "white",
           "linecolor": "white",
           "ticks": "",
           "title": {
            "standoff": 15
           },
           "zerolinecolor": "white",
           "zerolinewidth": 2
          },
          "yaxis": {
           "automargin": true,
           "gridcolor": "white",
           "linecolor": "white",
           "ticks": "",
           "title": {
            "standoff": 15
           },
           "zerolinecolor": "white",
           "zerolinewidth": 2
          }
         }
        },
        "xaxis": {
         "anchor": "y",
         "domain": [
          0,
          1
         ],
         "title": {
          "text": "x"
         }
        },
        "yaxis": {
         "anchor": "x",
         "domain": [
          0,
          1
         ],
         "title": {
          "text": "y"
         }
        }
       }
      }
     },
     "metadata": {},
     "output_type": "display_data"
    }
   ],
   "source": [
    "px.scatter(x=x, y=y, height=600)"
   ]
  },
  {
   "cell_type": "code",
   "execution_count": 20,
   "id": "2a2f412b",
   "metadata": {},
   "outputs": [
    {
     "name": "stderr",
     "output_type": "stream",
     "text": [
      "C:\\Users\\Gustavo\\AppData\\Local\\Temp\\ipykernel_52880\\3344867784.py:1: RankWarning:\n",
      "\n",
      "Polyfit may be poorly conditioned\n",
      "\n"
     ]
    }
   ],
   "source": [
    "pol = np.polyfit(x, y, 20)\n",
    "x_pred_pol = np.linspace(x.min(), x.max(), 1000)\n",
    "y_pred_pol = np.polyval(pol, x_pred_pol)"
   ]
  },
  {
   "cell_type": "code",
   "execution_count": 21,
   "id": "b7549f52",
   "metadata": {},
   "outputs": [],
   "source": [
    "lin = np.polyfit(x, y, 1)\n",
    "x_pred_lin = np.linspace(x.min(), x.max(), 1000)\n",
    "y_pred_lin = np.polyval(lin, x_pred_lin)"
   ]
  },
  {
   "cell_type": "code",
   "execution_count": 22,
   "id": "16dd1e07",
   "metadata": {},
   "outputs": [
    {
     "data": {
      "application/vnd.plotly.v1+json": {
       "config": {
        "plotlyServerURL": "https://plot.ly"
       },
       "data": [
        {
         "mode": "markers",
         "type": "scatter",
         "x": {
          "bdata": "u04RIqbnJUCJxeRISQgxQFTv90MtXiBAbGM6z+mrMEBaY1ZAeG0lQHxlGKPoSSBAV8iKPf+sGUApibyDuWUUQKo1CHnaxBdA5MCq732nM0DQqTorc5UuQAT2ZAX2fDdADFxmsmooK0CaImtf9gAtQE1VIHRG0hdAE+jAwrMJGkBwI4Ps4gEpQJojGnGH+ytACu6n4q4EMED4JjxmrHMuQA==",
          "dtype": "f8"
         },
         "y": {
          "bdata": "BZWBOb+KSUCbWnW+HP1NQB8WElJGc0NArzQP2/IWUUBt8w8aXXZKQLp45ngyIUdAjhHZnSbVOUDG5GZy1II7QL01kRn5uT9AR1eDSNrqUEBK8syPtN5MQF5rRtsW1lZAf3COWeAvT0AVI8b3y/FJQKjMWv2mLUNAKz3EJWOWPED8NwHjrvRJQFnT7QhINFBArWfWwPjAUEDfLiE6A6JLQA==",
          "dtype": "f8"
         }
        },
        {
         "type": "scatter",
         "x": {
          "bdata": "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",
          "dtype": "f8"
         },
         "y": {
          "bdata": "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",
          "dtype": "f8"
         }
        },
        {
         "type": "scatter",
         "x": {
          "bdata": "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",
          "dtype": "f8"
         },
         "y": {
          "bdata": "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",
          "dtype": "f8"
         }
        }
       ],
       "layout": {
        "template": {
         "data": {
          "bar": [
           {
            "error_x": {
             "color": "#2a3f5f"
            },
            "error_y": {
             "color": "#2a3f5f"
            },
            "marker": {
             "line": {
              "color": "#E5ECF6",
              "width": 0.5
             },
             "pattern": {
              "fillmode": "overlay",
              "size": 10,
              "solidity": 0.2
             }
            },
            "type": "bar"
           }
          ],
          "barpolar": [
           {
            "marker": {
             "line": {
              "color": "#E5ECF6",
              "width": 0.5
             },
             "pattern": {
              "fillmode": "overlay",
              "size": 10,
              "solidity": 0.2
             }
            },
            "type": "barpolar"
           }
          ],
          "carpet": [
           {
            "aaxis": {
             "endlinecolor": "#2a3f5f",
             "gridcolor": "white",
             "linecolor": "white",
             "minorgridcolor": "white",
             "startlinecolor": "#2a3f5f"
            },
            "baxis": {
             "endlinecolor": "#2a3f5f",
             "gridcolor": "white",
             "linecolor": "white",
             "minorgridcolor": "white",
             "startlinecolor": "#2a3f5f"
            },
            "type": "carpet"
           }
          ],
          "choropleth": [
           {
            "colorbar": {
             "outlinewidth": 0,
             "ticks": ""
            },
            "type": "choropleth"
           }
          ],
          "contour": [
           {
            "colorbar": {
             "outlinewidth": 0,
             "ticks": ""
            },
            "colorscale": [
             [
              0,
              "#0d0887"
             ],
             [
              0.1111111111111111,
              "#46039f"
             ],
             [
              0.2222222222222222,
              "#7201a8"
             ],
             [
              0.3333333333333333,
              "#9c179e"
             ],
             [
              0.4444444444444444,
              "#bd3786"
             ],
             [
              0.5555555555555556,
              "#d8576b"
             ],
             [
              0.6666666666666666,
              "#ed7953"
             ],
             [
              0.7777777777777778,
              "#fb9f3a"
             ],
             [
              0.8888888888888888,
              "#fdca26"
             ],
             [
              1,
              "#f0f921"
             ]
            ],
            "type": "contour"
           }
          ],
          "contourcarpet": [
           {
            "colorbar": {
             "outlinewidth": 0,
             "ticks": ""
            },
            "type": "contourcarpet"
           }
          ],
          "heatmap": [
           {
            "colorbar": {
             "outlinewidth": 0,
             "ticks": ""
            },
            "colorscale": [
             [
              0,
              "#0d0887"
             ],
             [
              0.1111111111111111,
              "#46039f"
             ],
             [
              0.2222222222222222,
              "#7201a8"
             ],
             [
              0.3333333333333333,
              "#9c179e"
             ],
             [
              0.4444444444444444,
              "#bd3786"
             ],
             [
              0.5555555555555556,
              "#d8576b"
             ],
             [
              0.6666666666666666,
              "#ed7953"
             ],
             [
              0.7777777777777778,
              "#fb9f3a"
             ],
             [
              0.8888888888888888,
              "#fdca26"
             ],
             [
              1,
              "#f0f921"
             ]
            ],
            "type": "heatmap"
           }
          ],
          "histogram": [
           {
            "marker": {
             "pattern": {
              "fillmode": "overlay",
              "size": 10,
              "solidity": 0.2
             }
            },
            "type": "histogram"
           }
          ],
          "histogram2d": [
           {
            "colorbar": {
             "outlinewidth": 0,
             "ticks": ""
            },
            "colorscale": [
             [
              0,
              "#0d0887"
             ],
             [
              0.1111111111111111,
              "#46039f"
             ],
             [
              0.2222222222222222,
              "#7201a8"
             ],
             [
              0.3333333333333333,
              "#9c179e"
             ],
             [
              0.4444444444444444,
              "#bd3786"
             ],
             [
              0.5555555555555556,
              "#d8576b"
             ],
             [
              0.6666666666666666,
              "#ed7953"
             ],
             [
              0.7777777777777778,
              "#fb9f3a"
             ],
             [
              0.8888888888888888,
              "#fdca26"
             ],
             [
              1,
              "#f0f921"
             ]
            ],
            "type": "histogram2d"
           }
          ],
          "histogram2dcontour": [
           {
            "colorbar": {
             "outlinewidth": 0,
             "ticks": ""
            },
            "colorscale": [
             [
              0,
              "#0d0887"
             ],
             [
              0.1111111111111111,
              "#46039f"
             ],
             [
              0.2222222222222222,
              "#7201a8"
             ],
             [
              0.3333333333333333,
              "#9c179e"
             ],
             [
              0.4444444444444444,
              "#bd3786"
             ],
             [
              0.5555555555555556,
              "#d8576b"
             ],
             [
              0.6666666666666666,
              "#ed7953"
             ],
             [
              0.7777777777777778,
              "#fb9f3a"
             ],
             [
              0.8888888888888888,
              "#fdca26"
             ],
             [
              1,
              "#f0f921"
             ]
            ],
            "type": "histogram2dcontour"
           }
          ],
          "mesh3d": [
           {
            "colorbar": {
             "outlinewidth": 0,
             "ticks": ""
            },
            "type": "mesh3d"
           }
          ],
          "parcoords": [
           {
            "line": {
             "colorbar": {
              "outlinewidth": 0,
              "ticks": ""
             }
            },
            "type": "parcoords"
           }
          ],
          "pie": [
           {
            "automargin": true,
            "type": "pie"
           }
          ],
          "scatter": [
           {
            "fillpattern": {
             "fillmode": "overlay",
             "size": 10,
             "solidity": 0.2
            },
            "type": "scatter"
           }
          ],
          "scatter3d": [
           {
            "line": {
             "colorbar": {
              "outlinewidth": 0,
              "ticks": ""
             }
            },
            "marker": {
             "colorbar": {
              "outlinewidth": 0,
              "ticks": ""
             }
            },
            "type": "scatter3d"
           }
          ],
          "scattercarpet": [
           {
            "marker": {
             "colorbar": {
              "outlinewidth": 0,
              "ticks": ""
             }
            },
            "type": "scattercarpet"
           }
          ],
          "scattergeo": [
           {
            "marker": {
             "colorbar": {
              "outlinewidth": 0,
              "ticks": ""
             }
            },
            "type": "scattergeo"
           }
          ],
          "scattergl": [
           {
            "marker": {
             "colorbar": {
              "outlinewidth": 0,
              "ticks": ""
             }
            },
            "type": "scattergl"
           }
          ],
          "scattermap": [
           {
            "marker": {
             "colorbar": {
              "outlinewidth": 0,
              "ticks": ""
             }
            },
            "type": "scattermap"
           }
          ],
          "scattermapbox": [
           {
            "marker": {
             "colorbar": {
              "outlinewidth": 0,
              "ticks": ""
             }
            },
            "type": "scattermapbox"
           }
          ],
          "scatterpolar": [
           {
            "marker": {
             "colorbar": {
              "outlinewidth": 0,
              "ticks": ""
             }
            },
            "type": "scatterpolar"
           }
          ],
          "scatterpolargl": [
           {
            "marker": {
             "colorbar": {
              "outlinewidth": 0,
              "ticks": ""
             }
            },
            "type": "scatterpolargl"
           }
          ],
          "scatterternary": [
           {
            "marker": {
             "colorbar": {
              "outlinewidth": 0,
              "ticks": ""
             }
            },
            "type": "scatterternary"
           }
          ],
          "surface": [
           {
            "colorbar": {
             "outlinewidth": 0,
             "ticks": ""
            },
            "colorscale": [
             [
              0,
              "#0d0887"
             ],
             [
              0.1111111111111111,
              "#46039f"
             ],
             [
              0.2222222222222222,
              "#7201a8"
             ],
             [
              0.3333333333333333,
              "#9c179e"
             ],
             [
              0.4444444444444444,
              "#bd3786"
             ],
             [
              0.5555555555555556,
              "#d8576b"
             ],
             [
              0.6666666666666666,
              "#ed7953"
             ],
             [
              0.7777777777777778,
              "#fb9f3a"
             ],
             [
              0.8888888888888888,
              "#fdca26"
             ],
             [
              1,
              "#f0f921"
             ]
            ],
            "type": "surface"
           }
          ],
          "table": [
           {
            "cells": {
             "fill": {
              "color": "#EBF0F8"
             },
             "line": {
              "color": "white"
             }
            },
            "header": {
             "fill": {
              "color": "#C8D4E3"
             },
             "line": {
              "color": "white"
             }
            },
            "type": "table"
           }
          ]
         },
         "layout": {
          "annotationdefaults": {
           "arrowcolor": "#2a3f5f",
           "arrowhead": 0,
           "arrowwidth": 1
          },
          "autotypenumbers": "strict",
          "coloraxis": {
           "colorbar": {
            "outlinewidth": 0,
            "ticks": ""
           }
          },
          "colorscale": {
           "diverging": [
            [
             0,
             "#8e0152"
            ],
            [
             0.1,
             "#c51b7d"
            ],
            [
             0.2,
             "#de77ae"
            ],
            [
             0.3,
             "#f1b6da"
            ],
            [
             0.4,
             "#fde0ef"
            ],
            [
             0.5,
             "#f7f7f7"
            ],
            [
             0.6,
             "#e6f5d0"
            ],
            [
             0.7,
             "#b8e186"
            ],
            [
             0.8,
             "#7fbc41"
            ],
            [
             0.9,
             "#4d9221"
            ],
            [
             1,
             "#276419"
            ]
           ],
           "sequential": [
            [
             0,
             "#0d0887"
            ],
            [
             0.1111111111111111,
             "#46039f"
            ],
            [
             0.2222222222222222,
             "#7201a8"
            ],
            [
             0.3333333333333333,
             "#9c179e"
            ],
            [
             0.4444444444444444,
             "#bd3786"
            ],
            [
             0.5555555555555556,
             "#d8576b"
            ],
            [
             0.6666666666666666,
             "#ed7953"
            ],
            [
             0.7777777777777778,
             "#fb9f3a"
            ],
            [
             0.8888888888888888,
             "#fdca26"
            ],
            [
             1,
             "#f0f921"
            ]
           ],
           "sequentialminus": [
            [
             0,
             "#0d0887"
            ],
            [
             0.1111111111111111,
             "#46039f"
            ],
            [
             0.2222222222222222,
             "#7201a8"
            ],
            [
             0.3333333333333333,
             "#9c179e"
            ],
            [
             0.4444444444444444,
             "#bd3786"
            ],
            [
             0.5555555555555556,
             "#d8576b"
            ],
            [
             0.6666666666666666,
             "#ed7953"
            ],
            [
             0.7777777777777778,
             "#fb9f3a"
            ],
            [
             0.8888888888888888,
             "#fdca26"
            ],
            [
             1,
             "#f0f921"
            ]
           ]
          },
          "colorway": [
           "#636efa",
           "#EF553B",
           "#00cc96",
           "#ab63fa",
           "#FFA15A",
           "#19d3f3",
           "#FF6692",
           "#B6E880",
           "#FF97FF",
           "#FECB52"
          ],
          "font": {
           "color": "#2a3f5f"
          },
          "geo": {
           "bgcolor": "white",
           "lakecolor": "white",
           "landcolor": "#E5ECF6",
           "showlakes": true,
           "showland": true,
           "subunitcolor": "white"
          },
          "hoverlabel": {
           "align": "left"
          },
          "hovermode": "closest",
          "mapbox": {
           "style": "light"
          },
          "paper_bgcolor": "white",
          "plot_bgcolor": "#E5ECF6",
          "polar": {
           "angularaxis": {
            "gridcolor": "white",
            "linecolor": "white",
            "ticks": ""
           },
           "bgcolor": "#E5ECF6",
           "radialaxis": {
            "gridcolor": "white",
            "linecolor": "white",
            "ticks": ""
           }
          },
          "scene": {
           "xaxis": {
            "backgroundcolor": "#E5ECF6",
            "gridcolor": "white",
            "gridwidth": 2,
            "linecolor": "white",
            "showbackground": true,
            "ticks": "",
            "zerolinecolor": "white"
           },
           "yaxis": {
            "backgroundcolor": "#E5ECF6",
            "gridcolor": "white",
            "gridwidth": 2,
            "linecolor": "white",
            "showbackground": true,
            "ticks": "",
            "zerolinecolor": "white"
           },
           "zaxis": {
            "backgroundcolor": "#E5ECF6",
            "gridcolor": "white",
            "gridwidth": 2,
            "linecolor": "white",
            "showbackground": true,
            "ticks": "",
            "zerolinecolor": "white"
           }
          },
          "shapedefaults": {
           "line": {
            "color": "#2a3f5f"
           }
          },
          "ternary": {
           "aaxis": {
            "gridcolor": "white",
            "linecolor": "white",
            "ticks": ""
           },
           "baxis": {
            "gridcolor": "white",
            "linecolor": "white",
            "ticks": ""
           },
           "bgcolor": "#E5ECF6",
           "caxis": {
            "gridcolor": "white",
            "linecolor": "white",
            "ticks": ""
           }
          },
          "title": {
           "x": 0.05
          },
          "xaxis": {
           "automargin": true,
           "gridcolor": "white",
           "linecolor": "white",
           "ticks": "",
           "title": {
            "standoff": 15
           },
           "zerolinecolor": "white",
           "zerolinewidth": 2
          },
          "yaxis": {
           "automargin": true,
           "gridcolor": "white",
           "linecolor": "white",
           "ticks": "",
           "title": {
            "standoff": 15
           },
           "zerolinecolor": "white",
           "zerolinewidth": 2
          }
         }
        },
        "yaxis": {
         "range": [
          -10,
          80
         ]
        }
       }
      }
     },
     "metadata": {},
     "output_type": "display_data"
    }
   ],
   "source": [
    "fig = go.Figure()\n",
    "\n",
    "fig.add_scatter(x=x, y=y, mode='markers')\n",
    "fig.add_scatter(x=x_pred_pol, y=y_pred_pol)\n",
    "fig.add_scatter(x=x_pred_lin, y=y_pred_lin)\n",
    "fig.update(layout_yaxis_range = [-10,80])"
   ]
  },
  {
   "cell_type": "markdown",
   "id": "dbae965d",
   "metadata": {},
   "source": [
    "## Validação Cruzada"
   ]
  },
  {
   "cell_type": "markdown",
   "id": "a2fba0bd",
   "metadata": {},
   "source": [
    "![Cross Validation](https://scikit-learn.org/stable/_images/grid_search_workflow.png)"
   ]
  },
  {
   "cell_type": "markdown",
   "id": "9fc985a1",
   "metadata": {},
   "source": [
    "## k-fold Cross Validation"
   ]
  },
  {
   "cell_type": "markdown",
   "id": "d2a57247",
   "metadata": {},
   "source": [
    "![5 fold cross validation - sklearn image](https://scikit-learn.org/stable/_images/grid_search_cross_validation.png)"
   ]
  },
  {
   "cell_type": "code",
   "execution_count": 24,
   "id": "419806ba",
   "metadata": {},
   "outputs": [],
   "source": [
    "ruido = 20\n",
    "n = 100\n",
    "x = 10 + 5*np.random.randn(n)\n",
    "y = 3*x + 5 + ruido*np.random.rand(n)"
   ]
  },
  {
   "cell_type": "code",
   "execution_count": 25,
   "id": "0a629a76",
   "metadata": {},
   "outputs": [],
   "source": [
    "k = 5\n",
    "x_k, y_k = [], []\n",
    "nk = int(n/k)\n",
    " \n",
    "for i in range(k):\n",
    "    x_k.append(x[i*nk: (i+1)*nk])\n",
    "    y_k.append(y[i*nk: (i+1)*nk])"
   ]
  },
  {
   "cell_type": "code",
   "execution_count": 29,
   "id": "3008388a",
   "metadata": {},
   "outputs": [
    {
     "data": {
      "text/plain": [
       "array([11.23993867,  3.64776123, 12.92253269,  7.94438934, 11.4682702 ,\n",
       "        3.54615026, 11.89816597, 11.02220285,  5.73480399,  9.50862859,\n",
       "       12.0864672 , 16.76000948, 16.04216684,  6.12728407,  8.56200706,\n",
       "        8.14709108, 10.01569528, 10.27916597, 13.99083843, -0.32737038])"
      ]
     },
     "execution_count": 29,
     "metadata": {},
     "output_type": "execute_result"
    }
   ],
   "source": [
    "x_k[0]"
   ]
  },
  {
   "cell_type": "code",
   "execution_count": 30,
   "id": "14a0aa9d",
   "metadata": {},
   "outputs": [
    {
     "data": {
      "text/plain": [
       "array([39.86321406, 35.56613462, 59.79110418, 44.40940026, 47.27127478,\n",
       "       29.59304602, 55.95710979, 53.32358897, 32.9087504 , 45.44465739,\n",
       "       60.44368312, 66.69873732, 67.87848047, 25.97926951, 49.65398803,\n",
       "       37.30195121, 50.35627534, 40.77490311, 47.94315252,  6.46558835])"
      ]
     },
     "execution_count": 30,
     "metadata": {},
     "output_type": "execute_result"
    }
   ],
   "source": [
    "y_k[0]"
   ]
  },
  {
   "cell_type": "markdown",
   "id": "7141859d",
   "metadata": {},
   "source": [
    "## KNN   K Nearest Neighbours"
   ]
  },
  {
   "cell_type": "markdown",
   "id": "25a366a0",
   "metadata": {},
   "source": [
    "Titanic dataset\n",
    "\n",
    "https://www.kaggle.com/c/titanic"
   ]
  },
  {
   "cell_type": "code",
   "execution_count": 32,
   "id": "ea457c7f",
   "metadata": {},
   "outputs": [
    {
     "data": {
      "text/html": [
       "<div>\n",
       "<style scoped>\n",
       "    .dataframe tbody tr th:only-of-type {\n",
       "        vertical-align: middle;\n",
       "    }\n",
       "\n",
       "    .dataframe tbody tr th {\n",
       "        vertical-align: top;\n",
       "    }\n",
       "\n",
       "    .dataframe thead th {\n",
       "        text-align: right;\n",
       "    }\n",
       "</style>\n",
       "<table border=\"1\" class=\"dataframe\">\n",
       "  <thead>\n",
       "    <tr style=\"text-align: right;\">\n",
       "      <th></th>\n",
       "      <th>PassengerId</th>\n",
       "      <th>Survived</th>\n",
       "      <th>Pclass</th>\n",
       "      <th>Name</th>\n",
       "      <th>Sex</th>\n",
       "      <th>Age</th>\n",
       "      <th>SibSp</th>\n",
       "      <th>Parch</th>\n",
       "      <th>Ticket</th>\n",
       "      <th>Fare</th>\n",
       "      <th>Cabin</th>\n",
       "      <th>Embarked</th>\n",
       "    </tr>\n",
       "  </thead>\n",
       "  <tbody>\n",
       "    <tr>\n",
       "      <th>0</th>\n",
       "      <td>1</td>\n",
       "      <td>0</td>\n",
       "      <td>3</td>\n",
       "      <td>Braund, Mr. Owen Harris</td>\n",
       "      <td>male</td>\n",
       "      <td>22.0</td>\n",
       "      <td>1</td>\n",
       "      <td>0</td>\n",
       "      <td>A/5 21171</td>\n",
       "      <td>7.2500</td>\n",
       "      <td>NaN</td>\n",
       "      <td>S</td>\n",
       "    </tr>\n",
       "    <tr>\n",
       "      <th>1</th>\n",
       "      <td>2</td>\n",
       "      <td>1</td>\n",
       "      <td>1</td>\n",
       "      <td>Cumings, Mrs. John Bradley (Florence Briggs Th...</td>\n",
       "      <td>female</td>\n",
       "      <td>38.0</td>\n",
       "      <td>1</td>\n",
       "      <td>0</td>\n",
       "      <td>PC 17599</td>\n",
       "      <td>71.2833</td>\n",
       "      <td>C85</td>\n",
       "      <td>C</td>\n",
       "    </tr>\n",
       "    <tr>\n",
       "      <th>2</th>\n",
       "      <td>3</td>\n",
       "      <td>1</td>\n",
       "      <td>3</td>\n",
       "      <td>Heikkinen, Miss. Laina</td>\n",
       "      <td>female</td>\n",
       "      <td>26.0</td>\n",
       "      <td>0</td>\n",
       "      <td>0</td>\n",
       "      <td>STON/O2. 3101282</td>\n",
       "      <td>7.9250</td>\n",
       "      <td>NaN</td>\n",
       "      <td>S</td>\n",
       "    </tr>\n",
       "    <tr>\n",
       "      <th>3</th>\n",
       "      <td>4</td>\n",
       "      <td>1</td>\n",
       "      <td>1</td>\n",
       "      <td>Futrelle, Mrs. Jacques Heath (Lily May Peel)</td>\n",
       "      <td>female</td>\n",
       "      <td>35.0</td>\n",
       "      <td>1</td>\n",
       "      <td>0</td>\n",
       "      <td>113803</td>\n",
       "      <td>53.1000</td>\n",
       "      <td>C123</td>\n",
       "      <td>S</td>\n",
       "    </tr>\n",
       "    <tr>\n",
       "      <th>4</th>\n",
       "      <td>5</td>\n",
       "      <td>0</td>\n",
       "      <td>3</td>\n",
       "      <td>Allen, Mr. William Henry</td>\n",
       "      <td>male</td>\n",
       "      <td>35.0</td>\n",
       "      <td>0</td>\n",
       "      <td>0</td>\n",
       "      <td>373450</td>\n",
       "      <td>8.0500</td>\n",
       "      <td>NaN</td>\n",
       "      <td>S</td>\n",
       "    </tr>\n",
       "  </tbody>\n",
       "</table>\n",
       "</div>"
      ],
      "text/plain": [
       "   PassengerId  Survived  Pclass  \\\n",
       "0            1         0       3   \n",
       "1            2         1       1   \n",
       "2            3         1       3   \n",
       "3            4         1       1   \n",
       "4            5         0       3   \n",
       "\n",
       "                                                Name     Sex   Age  SibSp  \\\n",
       "0                            Braund, Mr. Owen Harris    male  22.0      1   \n",
       "1  Cumings, Mrs. John Bradley (Florence Briggs Th...  female  38.0      1   \n",
       "2                             Heikkinen, Miss. Laina  female  26.0      0   \n",
       "3       Futrelle, Mrs. Jacques Heath (Lily May Peel)  female  35.0      1   \n",
       "4                           Allen, Mr. William Henry    male  35.0      0   \n",
       "\n",
       "   Parch            Ticket     Fare Cabin Embarked  \n",
       "0      0         A/5 21171   7.2500   NaN        S  \n",
       "1      0          PC 17599  71.2833   C85        C  \n",
       "2      0  STON/O2. 3101282   7.9250   NaN        S  \n",
       "3      0            113803  53.1000  C123        S  \n",
       "4      0            373450   8.0500   NaN        S  "
      ]
     },
     "execution_count": 32,
     "metadata": {},
     "output_type": "execute_result"
    }
   ],
   "source": [
    "df_train = pd.read_csv('train.csv')\n",
    "df_train.head()"
   ]
  },
  {
   "cell_type": "code",
   "execution_count": 33,
   "id": "cdf35345",
   "metadata": {},
   "outputs": [
    {
     "name": "stdout",
     "output_type": "stream",
     "text": [
      "<class 'pandas.core.frame.DataFrame'>\n",
      "RangeIndex: 891 entries, 0 to 890\n",
      "Data columns (total 12 columns):\n",
      " #   Column       Non-Null Count  Dtype  \n",
      "---  ------       --------------  -----  \n",
      " 0   PassengerId  891 non-null    int64  \n",
      " 1   Survived     891 non-null    int64  \n",
      " 2   Pclass       891 non-null    int64  \n",
      " 3   Name         891 non-null    object \n",
      " 4   Sex          891 non-null    object \n",
      " 5   Age          714 non-null    float64\n",
      " 6   SibSp        891 non-null    int64  \n",
      " 7   Parch        891 non-null    int64  \n",
      " 8   Ticket       891 non-null    object \n",
      " 9   Fare         891 non-null    float64\n",
      " 10  Cabin        204 non-null    object \n",
      " 11  Embarked     889 non-null    object \n",
      "dtypes: float64(2), int64(5), object(5)\n",
      "memory usage: 83.7+ KB\n"
     ]
    }
   ],
   "source": [
    "df_train.info()"
   ]
  },
  {
   "cell_type": "code",
   "execution_count": 35,
   "id": "a3aeb679",
   "metadata": {},
   "outputs": [
    {
     "data": {
      "text/plain": [
       "PassengerId   -0.005007\n",
       "Survived       1.000000\n",
       "Pclass        -0.338481\n",
       "Age           -0.077221\n",
       "SibSp         -0.035322\n",
       "Parch          0.081629\n",
       "Fare           0.257307\n",
       "Name: Survived, dtype: float64"
      ]
     },
     "execution_count": 35,
     "metadata": {},
     "output_type": "execute_result"
    }
   ],
   "source": [
    "corr_matrix = df_train.corr(numeric_only=True)\n",
    "corr_matrix[\"Survived\"]"
   ]
  },
  {
   "cell_type": "code",
   "execution_count": 36,
   "id": "c929419d",
   "metadata": {},
   "outputs": [
    {
     "data": {
      "application/vnd.plotly.v1+json": {
       "config": {
        "plotlyServerURL": "https://plot.ly"
       },
       "data": [
        {
         "hovertemplate": "Embarked=%{x}<br>Survived=%{y}<extra></extra>",
         "legendgroup": "",
         "marker": {
          "color": "#636efa",
          "pattern": {
           "shape": ""
          }
         },
         "name": "",
         "orientation": "v",
         "showlegend": false,
         "textposition": "auto",
         "type": "bar",
         "x": [
          "S",
          "C",
          "S",
          "S",
          "S",
          "Q",
          "S",
          "S",
          "S",
          "C",
          "S",
          "S",
          "S",
          "S",
          "S",
          "S",
          "Q",
          "S",
          "S",
          "C",
          "S",
          "S",
          "Q",
          "S",
          "S",
          "S",
          "C",
          "S",
          "Q",
          "S",
          "C",
          "C",
          "Q",
          "S",
          "C",
          "S",
          "C",
          "S",
          "S",
          "C",
          "S",
          "S",
          "C",
          "C",
          "Q",
          "S",
          "Q",
          "Q",
          "C",
          "S",
          "S",
          "S",
          "C",
          "S",
          "C",
          "S",
          "S",
          "C",
          "S",
          "S",
          "C",
          null,
          "S",
          "S",
          "C",
          "C",
          "S",
          "S",
          "S",
          "S",
          "S",
          "S",
          "S",
          "C",
          "S",
          "S",
          "S",
          "S",
          "S",
          "S",
          "S",
          "S",
          "Q",
          "S",
          "S",
          "S",
          "S",
          "S",
          "S",
          "S",
          "S",
          "S",
          "S",
          "S",
          "S",
          "S",
          "C",
          "C",
          "S",
          "S",
          "S",
          "S",
          "S",
          "S",
          "S",
          "S",
          "S",
          "S",
          "S",
          "Q",
          "S",
          "C",
          "S",
          "S",
          "C",
          "S",
          "Q",
          "S",
          "C",
          "S",
          "S",
          "S",
          "C",
          "S",
          "S",
          "C",
          "Q",
          "S",
          "C",
          "S",
          "C",
          "S",
          "S",
          "S",
          "S",
          "C",
          "S",
          "S",
          "S",
          "C",
          "C",
          "S",
          "S",
          "Q",
          "S",
          "S",
          "S",
          "S",
          "S",
          "S",
          "S",
          "S",
          "S",
          "S",
          "S",
          "C",
          "Q",
          "S",
          "S",
          "S",
          "S",
          "S",
          "S",
          "S",
          "S",
          "S",
          "S",
          "S",
          "S",
          "S",
          "S",
          "Q",
          "S",
          "S",
          "C",
          "S",
          "S",
          "C",
          "S",
          "S",
          "S",
          "C",
          "S",
          "S",
          "S",
          "S",
          "Q",
          "S",
          "Q",
          "S",
          "S",
          "S",
          "S",
          "S",
          "C",
          "C",
          "Q",
          "S",
          "Q",
          "S",
          "S",
          "S",
          "S",
          "C",
          "S",
          "S",
          "S",
          "C",
          "Q",
          "C",
          "S",
          "S",
          "S",
          "S",
          "Q",
          "C",
          "S",
          "S",
          "C",
          "S",
          "S",
          "S",
          "S",
          "S",
          "S",
          "S",
          "S",
          "S",
          "S",
          "S",
          "S",
          "S",
          "S",
          "S",
          "S",
          "S",
          "S",
          "S",
          "S",
          "S",
          "C",
          "Q",
          "S",
          "S",
          "C",
          "Q",
          "S",
          "S",
          "S",
          "S",
          "S",
          "S",
          "S",
          "S",
          "S",
          "C",
          "C",
          "S",
          "C",
          "S",
          "Q",
          "S",
          "S",
          "S",
          "Q",
          "S",
          "S",
          "S",
          "S",
          "S",
          "S",
          "S",
          "S",
          "C",
          "Q",
          "S",
          "S",
          "S",
          "Q",
          "S",
          "Q",
          "S",
          "S",
          "S",
          "S",
          "C",
          "S",
          "S",
          "S",
          "Q",
          "S",
          "C",
          "C",
          "S",
          "S",
          "C",
          "C",
          "S",
          "S",
          "C",
          "Q",
          "Q",
          "S",
          "Q",
          "S",
          "S",
          "C",
          "C",
          "C",
          "C",
          "C",
          "C",
          "S",
          "S",
          "S",
          "S",
          "S",
          "S",
          "S",
          "C",
          "S",
          "S",
          "Q",
          "S",
          "S",
          "C",
          "S",
          "S",
          "S",
          "C",
          "Q",
          "S",
          "S",
          "S",
          "S",
          "S",
          "S",
          "C",
          "S",
          "S",
          "S",
          "S",
          "S",
          "S",
          "S",
          "S",
          "S",
          "S",
          "S",
          "S",
          "S",
          "S",
          "C",
          "S",
          "C",
          "S",
          "S",
          "S",
          "Q",
          "Q",
          "S",
          "C",
          "C",
          "S",
          "Q",
          "S",
          "C",
          "C",
          "Q",
          "C",
          "C",
          "S",
          "S",
          "C",
          "S",
          "C",
          "S",
          "C",
          "C",
          "S",
          "C",
          "C",
          "S",
          "S",
          "S",
          "S",
          "S",
          "S",
          "Q",
          "C",
          "S",
          "S",
          "S",
          "C",
          "S",
          "S",
          "S",
          "S",
          "S",
          "S",
          "S",
          "S",
          "S",
          "S",
          "S",
          "S",
          "S",
          "S",
          "S",
          "S",
          "S",
          "Q",
          "Q",
          "S",
          "S",
          "S",
          "S",
          "S",
          "S",
          "S",
          "C",
          "Q",
          "S",
          "S",
          "S",
          "S",
          "S",
          "S",
          "Q",
          "S",
          "S",
          "S",
          "S",
          "S",
          "S",
          "S",
          "S",
          "S",
          "S",
          "S",
          "S",
          "S",
          "S",
          "S",
          "S",
          "S",
          "S",
          "S",
          "C",
          "S",
          "S",
          "S",
          "C",
          "C",
          "S",
          "C",
          "S",
          "S",
          "S",
          "Q",
          "S",
          "S",
          "S",
          "S",
          "S",
          "S",
          "S",
          "S",
          "Q",
          "C",
          "S",
          "S",
          "S",
          "C",
          "S",
          "S",
          "S",
          "S",
          "S",
          "S",
          "S",
          "S",
          "S",
          "S",
          "C",
          "S",
          "S",
          "C",
          "S",
          "S",
          "S",
          "S",
          "S",
          "C",
          "S",
          "C",
          "C",
          "S",
          "S",
          "S",
          "S",
          "Q",
          "Q",
          "S",
          "S",
          "C",
          "S",
          "S",
          "S",
          "S",
          "Q",
          "S",
          "S",
          "C",
          "S",
          "S",
          "S",
          "Q",
          "S",
          "S",
          "S",
          "S",
          "C",
          "C",
          "C",
          "Q",
          "S",
          "S",
          "S",
          "S",
          "S",
          "C",
          "C",
          "C",
          "S",
          "S",
          "S",
          "C",
          "S",
          "C",
          "S",
          "S",
          "S",
          "S",
          "C",
          "S",
          "S",
          "C",
          "S",
          "S",
          "C",
          "S",
          "Q",
          "C",
          "S",
          "S",
          "C",
          "C",
          "S",
          "S",
          "Q",
          "S",
          "S",
          "S",
          "S",
          "S",
          "S",
          "S",
          "C",
          "S",
          "S",
          "S",
          "S",
          "Q",
          "S",
          "S",
          "S",
          "S",
          "C",
          "S",
          "S",
          "C",
          "S",
          "C",
          "C",
          "S",
          "S",
          "C",
          "S",
          "S",
          "S",
          "C",
          "S",
          "Q",
          "S",
          "S",
          "S",
          "S",
          "C",
          "C",
          "S",
          "S",
          "S",
          "S",
          "C",
          "S",
          "S",
          "S",
          "C",
          "S",
          "S",
          "S",
          "Q",
          "Q",
          "S",
          "S",
          "S",
          "S",
          "S",
          "S",
          "C",
          "S",
          "C",
          "S",
          "S",
          "S",
          "Q",
          "S",
          "S",
          "Q",
          "S",
          "S",
          "C",
          "S",
          "S",
          "S",
          "S",
          "S",
          "S",
          "S",
          "S",
          "C",
          "S",
          "S",
          "C",
          "C",
          "S",
          "C",
          "S",
          "S",
          "S",
          "S",
          "S",
          "Q",
          "Q",
          "S",
          "S",
          "Q",
          "S",
          "C",
          "S",
          "C",
          "S",
          "S",
          "S",
          "S",
          "S",
          "S",
          "S",
          "S",
          "S",
          "S",
          "S",
          "S",
          "S",
          "S",
          "S",
          "S",
          "S",
          "C",
          "Q",
          "C",
          "S",
          "S",
          "S",
          "C",
          "S",
          "S",
          "S",
          "S",
          "S",
          "C",
          "S",
          "C",
          "S",
          "S",
          "S",
          "Q",
          "C",
          "S",
          "C",
          "S",
          "C",
          "Q",
          "S",
          "S",
          "S",
          "S",
          "S",
          "C",
          "C",
          "S",
          "S",
          "S",
          "S",
          "S",
          "C",
          "S",
          "Q",
          "S",
          "S",
          "S",
          "S",
          "S",
          "S",
          "S",
          "S",
          "Q",
          "S",
          "S",
          "S",
          "C",
          "S",
          "S",
          "S",
          "S",
          "S",
          "C",
          "S",
          "S",
          "S",
          "S",
          "C",
          "S",
          "S",
          "S",
          "S",
          "S",
          "S",
          "Q",
          "S",
          "S",
          "S",
          "S",
          "S",
          "S",
          "S",
          "S",
          "S",
          "S",
          "S",
          "S",
          "C",
          "S",
          "S",
          "S",
          "C",
          "Q",
          "Q",
          "S",
          "S",
          "S",
          "S",
          "C",
          "S",
          "S",
          "Q",
          "S",
          "Q",
          "S",
          "C",
          "S",
          "S",
          "S",
          "S",
          "S",
          "S",
          "Q",
          "S",
          "C",
          "Q",
          "S",
          "S",
          "C",
          "S",
          "S",
          "S",
          "S",
          "C",
          "S",
          "S",
          "S",
          "S",
          "C",
          "S",
          "S",
          "S",
          "S",
          "S",
          "S",
          "S",
          "S",
          "S",
          "S",
          "S",
          "S",
          "S",
          "C",
          "S",
          "S",
          "S",
          "S",
          "S",
          "S",
          "S",
          "Q",
          "S",
          "C",
          "Q",
          null,
          "C",
          "S",
          "C",
          "S",
          "S",
          "C",
          "S",
          "S",
          "S",
          "C",
          "S",
          "S",
          "C",
          "C",
          "S",
          "S",
          "S",
          "C",
          "S",
          "C",
          "S",
          "S",
          "C",
          "S",
          "S",
          "S",
          "S",
          "S",
          "C",
          "C",
          "S",
          "S",
          "S",
          "S",
          "S",
          "S",
          "C",
          "S",
          "S",
          "S",
          "S",
          "S",
          "S",
          "S",
          "C",
          "C",
          "S",
          "S",
          "S",
          "C",
          "S",
          "S",
          "S",
          "S",
          "S",
          "Q",
          "S",
          "S",
          "S",
          "C",
          "Q"
         ],
         "xaxis": "x",
         "y": {
          "bdata": "AAEBAQAAAAABAQEBAAAAAQABAAEAAQEBAAEAAAEAAAEBAAAAAQAAAQAAAAEBAAABAAAAAAEBAAEBAAEAAAEAAAABAQABAAAAAAABAAAAAQEAAQEAAQEAAAEAAAAAAAAAAAEBAAAAAAAAAAEBAAEAAAAAAAAAAAAAAAAAAQABAAEBAAAAAAEAAAEAAAAAAQEAAAABAAAAAAEAAAAAAQAAAAABAAAAAQEAAAAAAAEAAAAAAAAAAAAAAQEAAQEAAAEAAQEBAQAAAQAAAAAAAQAAAQEBAAEAAAABAQABAAEAAAABAAEAAAABAAABAAAAAQAAAAEAAAAAAAEBAAAAAAAAAQEBAQEAAQAAAAAAAQEBAAEBAAEBAAAAAQAAAAEAAAEAAQEBAQAAAAAAAAEBAQEAAQABAQEAAQEBAAAAAQEAAQEAAAEBAAEAAQEBAQAAAAEAAAEBAAEBAAAAAQEBAQAAAAAAAAABAAEBAAAAAAAAAQEBAQEAAAAAAQEAAAABAQABAAAAAQABAQEAAQEAAAAAAQEAAAAAAAABAAAAAAEAAQABAQAAAAAAAAAAAQEAAQEBAQAAAQABAAABAAABAQEBAQEBAAAAAQABAAEBAAEAAAAAAAAAAAEAAAEBAAAAAAABAAAAAQEAAQAAAQAAAAAAAAEAAAAAAAAAAQABAQABAQABAQAAAQABAAEAAAEAAAEAAAABAAABAAEAAQABAQAAAQAAAQEAAQEAAAEBAAEAAQEAAAAAAAAAAAABAQEBAQAAAQEAAQEBAAAAAQABAAAAAQAAAAABAAABAQAAAAEAAAEBAQAAAQAAAQAAAQAAAQEAAAAAAQAAAQABAAABAAAAAAABAAEBAQABAAEAAQABAAAAAAAAAQAAAAEAAAAAAQEAAAEAAAABAAEAAQAAAAAAAAABAQEBAAAAAAEAAAEBAAAAAAEBAQEBAAEAAAABAQAAAQAAAAEAAQEAAAEAAAAAAAABAAABAAEAAQAAAQAAAQEAAAEBAAAAAQAAAQEAAQAAAAAAAAAAAQAAAQABAQEAAAAAAQABAAAAAAAAAAEBAAAAAQEBAQAAAAABAAAAAAAAAAAAAAEBAAEAAAABAQEBAQAAAAEAAAEBAAABAAAAAAAAAQAAAAEAAQEBAQAAAAEAAAEBAAABAAEAAAEBAAAAAQEAAAAAAAABAAEA",
          "dtype": "i1"
         },
         "yaxis": "y"
        }
       ],
       "layout": {
        "barmode": "relative",
        "legend": {
         "tracegroupgap": 0
        },
        "margin": {
         "t": 60
        },
        "template": {
         "data": {
          "bar": [
           {
            "error_x": {
             "color": "#2a3f5f"
            },
            "error_y": {
             "color": "#2a3f5f"
            },
            "marker": {
             "line": {
              "color": "#E5ECF6",
              "width": 0.5
             },
             "pattern": {
              "fillmode": "overlay",
              "size": 10,
              "solidity": 0.2
             }
            },
            "type": "bar"
           }
          ],
          "barpolar": [
           {
            "marker": {
             "line": {
              "color": "#E5ECF6",
              "width": 0.5
             },
             "pattern": {
              "fillmode": "overlay",
              "size": 10,
              "solidity": 0.2
             }
            },
            "type": "barpolar"
           }
          ],
          "carpet": [
           {
            "aaxis": {
             "endlinecolor": "#2a3f5f",
             "gridcolor": "white",
             "linecolor": "white",
             "minorgridcolor": "white",
             "startlinecolor": "#2a3f5f"
            },
            "baxis": {
             "endlinecolor": "#2a3f5f",
             "gridcolor": "white",
             "linecolor": "white",
             "minorgridcolor": "white",
             "startlinecolor": "#2a3f5f"
            },
            "type": "carpet"
           }
          ],
          "choropleth": [
           {
            "colorbar": {
             "outlinewidth": 0,
             "ticks": ""
            },
            "type": "choropleth"
           }
          ],
          "contour": [
           {
            "colorbar": {
             "outlinewidth": 0,
             "ticks": ""
            },
            "colorscale": [
             [
              0,
              "#0d0887"
             ],
             [
              0.1111111111111111,
              "#46039f"
             ],
             [
              0.2222222222222222,
              "#7201a8"
             ],
             [
              0.3333333333333333,
              "#9c179e"
             ],
             [
              0.4444444444444444,
              "#bd3786"
             ],
             [
              0.5555555555555556,
              "#d8576b"
             ],
             [
              0.6666666666666666,
              "#ed7953"
             ],
             [
              0.7777777777777778,
              "#fb9f3a"
             ],
             [
              0.8888888888888888,
              "#fdca26"
             ],
             [
              1,
              "#f0f921"
             ]
            ],
            "type": "contour"
           }
          ],
          "contourcarpet": [
           {
            "colorbar": {
             "outlinewidth": 0,
             "ticks": ""
            },
            "type": "contourcarpet"
           }
          ],
          "heatmap": [
           {
            "colorbar": {
             "outlinewidth": 0,
             "ticks": ""
            },
            "colorscale": [
             [
              0,
              "#0d0887"
             ],
             [
              0.1111111111111111,
              "#46039f"
             ],
             [
              0.2222222222222222,
              "#7201a8"
             ],
             [
              0.3333333333333333,
              "#9c179e"
             ],
             [
              0.4444444444444444,
              "#bd3786"
             ],
             [
              0.5555555555555556,
              "#d8576b"
             ],
             [
              0.6666666666666666,
              "#ed7953"
             ],
             [
              0.7777777777777778,
              "#fb9f3a"
             ],
             [
              0.8888888888888888,
              "#fdca26"
             ],
             [
              1,
              "#f0f921"
             ]
            ],
            "type": "heatmap"
           }
          ],
          "histogram": [
           {
            "marker": {
             "pattern": {
              "fillmode": "overlay",
              "size": 10,
              "solidity": 0.2
             }
            },
            "type": "histogram"
           }
          ],
          "histogram2d": [
           {
            "colorbar": {
             "outlinewidth": 0,
             "ticks": ""
            },
            "colorscale": [
             [
              0,
              "#0d0887"
             ],
             [
              0.1111111111111111,
              "#46039f"
             ],
             [
              0.2222222222222222,
              "#7201a8"
             ],
             [
              0.3333333333333333,
              "#9c179e"
             ],
             [
              0.4444444444444444,
              "#bd3786"
             ],
             [
              0.5555555555555556,
              "#d8576b"
             ],
             [
              0.6666666666666666,
              "#ed7953"
             ],
             [
              0.7777777777777778,
              "#fb9f3a"
             ],
             [
              0.8888888888888888,
              "#fdca26"
             ],
             [
              1,
              "#f0f921"
             ]
            ],
            "type": "histogram2d"
           }
          ],
          "histogram2dcontour": [
           {
            "colorbar": {
             "outlinewidth": 0,
             "ticks": ""
            },
            "colorscale": [
             [
              0,
              "#0d0887"
             ],
             [
              0.1111111111111111,
              "#46039f"
             ],
             [
              0.2222222222222222,
              "#7201a8"
             ],
             [
              0.3333333333333333,
              "#9c179e"
             ],
             [
              0.4444444444444444,
              "#bd3786"
             ],
             [
              0.5555555555555556,
              "#d8576b"
             ],
             [
              0.6666666666666666,
              "#ed7953"
             ],
             [
              0.7777777777777778,
              "#fb9f3a"
             ],
             [
              0.8888888888888888,
              "#fdca26"
             ],
             [
              1,
              "#f0f921"
             ]
            ],
            "type": "histogram2dcontour"
           }
          ],
          "mesh3d": [
           {
            "colorbar": {
             "outlinewidth": 0,
             "ticks": ""
            },
            "type": "mesh3d"
           }
          ],
          "parcoords": [
           {
            "line": {
             "colorbar": {
              "outlinewidth": 0,
              "ticks": ""
             }
            },
            "type": "parcoords"
           }
          ],
          "pie": [
           {
            "automargin": true,
            "type": "pie"
           }
          ],
          "scatter": [
           {
            "fillpattern": {
             "fillmode": "overlay",
             "size": 10,
             "solidity": 0.2
            },
            "type": "scatter"
           }
          ],
          "scatter3d": [
           {
            "line": {
             "colorbar": {
              "outlinewidth": 0,
              "ticks": ""
             }
            },
            "marker": {
             "colorbar": {
              "outlinewidth": 0,
              "ticks": ""
             }
            },
            "type": "scatter3d"
           }
          ],
          "scattercarpet": [
           {
            "marker": {
             "colorbar": {
              "outlinewidth": 0,
              "ticks": ""
             }
            },
            "type": "scattercarpet"
           }
          ],
          "scattergeo": [
           {
            "marker": {
             "colorbar": {
              "outlinewidth": 0,
              "ticks": ""
             }
            },
            "type": "scattergeo"
           }
          ],
          "scattergl": [
           {
            "marker": {
             "colorbar": {
              "outlinewidth": 0,
              "ticks": ""
             }
            },
            "type": "scattergl"
           }
          ],
          "scattermap": [
           {
            "marker": {
             "colorbar": {
              "outlinewidth": 0,
              "ticks": ""
             }
            },
            "type": "scattermap"
           }
          ],
          "scattermapbox": [
           {
            "marker": {
             "colorbar": {
              "outlinewidth": 0,
              "ticks": ""
             }
            },
            "type": "scattermapbox"
           }
          ],
          "scatterpolar": [
           {
            "marker": {
             "colorbar": {
              "outlinewidth": 0,
              "ticks": ""
             }
            },
            "type": "scatterpolar"
           }
          ],
          "scatterpolargl": [
           {
            "marker": {
             "colorbar": {
              "outlinewidth": 0,
              "ticks": ""
             }
            },
            "type": "scatterpolargl"
           }
          ],
          "scatterternary": [
           {
            "marker": {
             "colorbar": {
              "outlinewidth": 0,
              "ticks": ""
             }
            },
            "type": "scatterternary"
           }
          ],
          "surface": [
           {
            "colorbar": {
             "outlinewidth": 0,
             "ticks": ""
            },
            "colorscale": [
             [
              0,
              "#0d0887"
             ],
             [
              0.1111111111111111,
              "#46039f"
             ],
             [
              0.2222222222222222,
              "#7201a8"
             ],
             [
              0.3333333333333333,
              "#9c179e"
             ],
             [
              0.4444444444444444,
              "#bd3786"
             ],
             [
              0.5555555555555556,
              "#d8576b"
             ],
             [
              0.6666666666666666,
              "#ed7953"
             ],
             [
              0.7777777777777778,
              "#fb9f3a"
             ],
             [
              0.8888888888888888,
              "#fdca26"
             ],
             [
              1,
              "#f0f921"
             ]
            ],
            "type": "surface"
           }
          ],
          "table": [
           {
            "cells": {
             "fill": {
              "color": "#EBF0F8"
             },
             "line": {
              "color": "white"
             }
            },
            "header": {
             "fill": {
              "color": "#C8D4E3"
             },
             "line": {
              "color": "white"
             }
            },
            "type": "table"
           }
          ]
         },
         "layout": {
          "annotationdefaults": {
           "arrowcolor": "#2a3f5f",
           "arrowhead": 0,
           "arrowwidth": 1
          },
          "autotypenumbers": "strict",
          "coloraxis": {
           "colorbar": {
            "outlinewidth": 0,
            "ticks": ""
           }
          },
          "colorscale": {
           "diverging": [
            [
             0,
             "#8e0152"
            ],
            [
             0.1,
             "#c51b7d"
            ],
            [
             0.2,
             "#de77ae"
            ],
            [
             0.3,
             "#f1b6da"
            ],
            [
             0.4,
             "#fde0ef"
            ],
            [
             0.5,
             "#f7f7f7"
            ],
            [
             0.6,
             "#e6f5d0"
            ],
            [
             0.7,
             "#b8e186"
            ],
            [
             0.8,
             "#7fbc41"
            ],
            [
             0.9,
             "#4d9221"
            ],
            [
             1,
             "#276419"
            ]
           ],
           "sequential": [
            [
             0,
             "#0d0887"
            ],
            [
             0.1111111111111111,
             "#46039f"
            ],
            [
             0.2222222222222222,
             "#7201a8"
            ],
            [
             0.3333333333333333,
             "#9c179e"
            ],
            [
             0.4444444444444444,
             "#bd3786"
            ],
            [
             0.5555555555555556,
             "#d8576b"
            ],
            [
             0.6666666666666666,
             "#ed7953"
            ],
            [
             0.7777777777777778,
             "#fb9f3a"
            ],
            [
             0.8888888888888888,
             "#fdca26"
            ],
            [
             1,
             "#f0f921"
            ]
           ],
           "sequentialminus": [
            [
             0,
             "#0d0887"
            ],
            [
             0.1111111111111111,
             "#46039f"
            ],
            [
             0.2222222222222222,
             "#7201a8"
            ],
            [
             0.3333333333333333,
             "#9c179e"
            ],
            [
             0.4444444444444444,
             "#bd3786"
            ],
            [
             0.5555555555555556,
             "#d8576b"
            ],
            [
             0.6666666666666666,
             "#ed7953"
            ],
            [
             0.7777777777777778,
             "#fb9f3a"
            ],
            [
             0.8888888888888888,
             "#fdca26"
            ],
            [
             1,
             "#f0f921"
            ]
           ]
          },
          "colorway": [
           "#636efa",
           "#EF553B",
           "#00cc96",
           "#ab63fa",
           "#FFA15A",
           "#19d3f3",
           "#FF6692",
           "#B6E880",
           "#FF97FF",
           "#FECB52"
          ],
          "font": {
           "color": "#2a3f5f"
          },
          "geo": {
           "bgcolor": "white",
           "lakecolor": "white",
           "landcolor": "#E5ECF6",
           "showlakes": true,
           "showland": true,
           "subunitcolor": "white"
          },
          "hoverlabel": {
           "align": "left"
          },
          "hovermode": "closest",
          "mapbox": {
           "style": "light"
          },
          "paper_bgcolor": "white",
          "plot_bgcolor": "#E5ECF6",
          "polar": {
           "angularaxis": {
            "gridcolor": "white",
            "linecolor": "white",
            "ticks": ""
           },
           "bgcolor": "#E5ECF6",
           "radialaxis": {
            "gridcolor": "white",
            "linecolor": "white",
            "ticks": ""
           }
          },
          "scene": {
           "xaxis": {
            "backgroundcolor": "#E5ECF6",
            "gridcolor": "white",
            "gridwidth": 2,
            "linecolor": "white",
            "showbackground": true,
            "ticks": "",
            "zerolinecolor": "white"
           },
           "yaxis": {
            "backgroundcolor": "#E5ECF6",
            "gridcolor": "white",
            "gridwidth": 2,
            "linecolor": "white",
            "showbackground": true,
            "ticks": "",
            "zerolinecolor": "white"
           },
           "zaxis": {
            "backgroundcolor": "#E5ECF6",
            "gridcolor": "white",
            "gridwidth": 2,
            "linecolor": "white",
            "showbackground": true,
            "ticks": "",
            "zerolinecolor": "white"
           }
          },
          "shapedefaults": {
           "line": {
            "color": "#2a3f5f"
           }
          },
          "ternary": {
           "aaxis": {
            "gridcolor": "white",
            "linecolor": "white",
            "ticks": ""
           },
           "baxis": {
            "gridcolor": "white",
            "linecolor": "white",
            "ticks": ""
           },
           "bgcolor": "#E5ECF6",
           "caxis": {
            "gridcolor": "white",
            "linecolor": "white",
            "ticks": ""
           }
          },
          "title": {
           "x": 0.05
          },
          "xaxis": {
           "automargin": true,
           "gridcolor": "white",
           "linecolor": "white",
           "ticks": "",
           "title": {
            "standoff": 15
           },
           "zerolinecolor": "white",
           "zerolinewidth": 2
          },
          "yaxis": {
           "automargin": true,
           "gridcolor": "white",
           "linecolor": "white",
           "ticks": "",
           "title": {
            "standoff": 15
           },
           "zerolinecolor": "white",
           "zerolinewidth": 2
          }
         }
        },
        "xaxis": {
         "anchor": "y",
         "domain": [
          0,
          1
         ],
         "title": {
          "text": "Embarked"
         }
        },
        "yaxis": {
         "anchor": "x",
         "domain": [
          0,
          1
         ],
         "title": {
          "text": "Survived"
         }
        }
       }
      }
     },
     "metadata": {},
     "output_type": "display_data"
    }
   ],
   "source": [
    "px.bar(df_train, x='Embarked', y='Survived')"
   ]
  },
  {
   "cell_type": "code",
   "execution_count": 37,
   "id": "d7cf2ec7",
   "metadata": {},
   "outputs": [],
   "source": [
    "droped_features = ['PassengerId', 'Name', 'Ticket', 'Cabin', 'SibSp', 'Parch', 'Age']\n",
    "df_train = df_train.drop(droped_features, axis=1)"
   ]
  },
  {
   "cell_type": "code",
   "execution_count": 38,
   "id": "8e8ef057",
   "metadata": {},
   "outputs": [
    {
     "data": {
      "text/html": [
       "<div>\n",
       "<style scoped>\n",
       "    .dataframe tbody tr th:only-of-type {\n",
       "        vertical-align: middle;\n",
       "    }\n",
       "\n",
       "    .dataframe tbody tr th {\n",
       "        vertical-align: top;\n",
       "    }\n",
       "\n",
       "    .dataframe thead th {\n",
       "        text-align: right;\n",
       "    }\n",
       "</style>\n",
       "<table border=\"1\" class=\"dataframe\">\n",
       "  <thead>\n",
       "    <tr style=\"text-align: right;\">\n",
       "      <th></th>\n",
       "      <th>Survived</th>\n",
       "      <th>Pclass</th>\n",
       "      <th>Sex</th>\n",
       "      <th>Fare</th>\n",
       "      <th>Embarked</th>\n",
       "    </tr>\n",
       "  </thead>\n",
       "  <tbody>\n",
       "    <tr>\n",
       "      <th>0</th>\n",
       "      <td>0</td>\n",
       "      <td>3</td>\n",
       "      <td>male</td>\n",
       "      <td>7.2500</td>\n",
       "      <td>S</td>\n",
       "    </tr>\n",
       "    <tr>\n",
       "      <th>1</th>\n",
       "      <td>1</td>\n",
       "      <td>1</td>\n",
       "      <td>female</td>\n",
       "      <td>71.2833</td>\n",
       "      <td>C</td>\n",
       "    </tr>\n",
       "    <tr>\n",
       "      <th>2</th>\n",
       "      <td>1</td>\n",
       "      <td>3</td>\n",
       "      <td>female</td>\n",
       "      <td>7.9250</td>\n",
       "      <td>S</td>\n",
       "    </tr>\n",
       "    <tr>\n",
       "      <th>3</th>\n",
       "      <td>1</td>\n",
       "      <td>1</td>\n",
       "      <td>female</td>\n",
       "      <td>53.1000</td>\n",
       "      <td>S</td>\n",
       "    </tr>\n",
       "    <tr>\n",
       "      <th>4</th>\n",
       "      <td>0</td>\n",
       "      <td>3</td>\n",
       "      <td>male</td>\n",
       "      <td>8.0500</td>\n",
       "      <td>S</td>\n",
       "    </tr>\n",
       "  </tbody>\n",
       "</table>\n",
       "</div>"
      ],
      "text/plain": [
       "   Survived  Pclass     Sex     Fare Embarked\n",
       "0         0       3    male   7.2500        S\n",
       "1         1       1  female  71.2833        C\n",
       "2         1       3  female   7.9250        S\n",
       "3         1       1  female  53.1000        S\n",
       "4         0       3    male   8.0500        S"
      ]
     },
     "execution_count": 38,
     "metadata": {},
     "output_type": "execute_result"
    }
   ],
   "source": [
    "df_train.head()"
   ]
  },
  {
   "cell_type": "code",
   "execution_count": 40,
   "id": "32ee4635",
   "metadata": {},
   "outputs": [],
   "source": [
    "label_encoder = LabelEncoder()\n",
    "\n",
    "df_train.iloc[:, 2] = label_encoder.fit_transform(df_train.iloc[:, 2].values)\n",
    "df_train.iloc[:, 4] = label_encoder.fit_transform(df_train.iloc[:, 4].values)"
   ]
  },
  {
   "cell_type": "code",
   "execution_count": 41,
   "id": "3b21c0aa",
   "metadata": {},
   "outputs": [
    {
     "data": {
      "text/html": [
       "<div>\n",
       "<style scoped>\n",
       "    .dataframe tbody tr th:only-of-type {\n",
       "        vertical-align: middle;\n",
       "    }\n",
       "\n",
       "    .dataframe tbody tr th {\n",
       "        vertical-align: top;\n",
       "    }\n",
       "\n",
       "    .dataframe thead th {\n",
       "        text-align: right;\n",
       "    }\n",
       "</style>\n",
       "<table border=\"1\" class=\"dataframe\">\n",
       "  <thead>\n",
       "    <tr style=\"text-align: right;\">\n",
       "      <th></th>\n",
       "      <th>Survived</th>\n",
       "      <th>Pclass</th>\n",
       "      <th>Sex</th>\n",
       "      <th>Fare</th>\n",
       "      <th>Embarked</th>\n",
       "    </tr>\n",
       "  </thead>\n",
       "  <tbody>\n",
       "    <tr>\n",
       "      <th>0</th>\n",
       "      <td>0</td>\n",
       "      <td>3</td>\n",
       "      <td>1</td>\n",
       "      <td>7.2500</td>\n",
       "      <td>2</td>\n",
       "    </tr>\n",
       "    <tr>\n",
       "      <th>1</th>\n",
       "      <td>1</td>\n",
       "      <td>1</td>\n",
       "      <td>0</td>\n",
       "      <td>71.2833</td>\n",
       "      <td>0</td>\n",
       "    </tr>\n",
       "    <tr>\n",
       "      <th>2</th>\n",
       "      <td>1</td>\n",
       "      <td>3</td>\n",
       "      <td>0</td>\n",
       "      <td>7.9250</td>\n",
       "      <td>2</td>\n",
       "    </tr>\n",
       "    <tr>\n",
       "      <th>3</th>\n",
       "      <td>1</td>\n",
       "      <td>1</td>\n",
       "      <td>0</td>\n",
       "      <td>53.1000</td>\n",
       "      <td>2</td>\n",
       "    </tr>\n",
       "    <tr>\n",
       "      <th>4</th>\n",
       "      <td>0</td>\n",
       "      <td>3</td>\n",
       "      <td>1</td>\n",
       "      <td>8.0500</td>\n",
       "      <td>2</td>\n",
       "    </tr>\n",
       "  </tbody>\n",
       "</table>\n",
       "</div>"
      ],
      "text/plain": [
       "   Survived  Pclass Sex     Fare Embarked\n",
       "0         0       3   1   7.2500        2\n",
       "1         1       1   0  71.2833        0\n",
       "2         1       3   0   7.9250        2\n",
       "3         1       1   0  53.1000        2\n",
       "4         0       3   1   8.0500        2"
      ]
     },
     "execution_count": 41,
     "metadata": {},
     "output_type": "execute_result"
    }
   ],
   "source": [
    "df_train.head()"
   ]
  },
  {
   "cell_type": "code",
   "execution_count": 42,
   "id": "e2bb5da4",
   "metadata": {},
   "outputs": [
    {
     "name": "stdout",
     "output_type": "stream",
     "text": [
      "\u001b[31mSignature:\u001b[39m\n",
      "train_test_split(\n",
      "    *arrays,\n",
      "    test_size=\u001b[38;5;28;01mNone\u001b[39;00m,\n",
      "    train_size=\u001b[38;5;28;01mNone\u001b[39;00m,\n",
      "    random_state=\u001b[38;5;28;01mNone\u001b[39;00m,\n",
      "    shuffle=\u001b[38;5;28;01mTrue\u001b[39;00m,\n",
      "    stratify=\u001b[38;5;28;01mNone\u001b[39;00m,\n",
      ")\n",
      "\u001b[31mDocstring:\u001b[39m\n",
      "Split arrays or matrices into random train and test subsets.\n",
      "\n",
      "Quick utility that wraps input validation,\n",
      "``next(ShuffleSplit().split(X, y))``, and application to input data\n",
      "into a single call for splitting (and optionally subsampling) data into a\n",
      "one-liner.\n",
      "\n",
      "Read more in the :ref:`User Guide <cross_validation>`.\n",
      "\n",
      "Parameters\n",
      "----------\n",
      "*arrays : sequence of indexables with same length / shape[0]\n",
      "    Allowed inputs are lists, numpy arrays, scipy-sparse\n",
      "    matrices or pandas dataframes.\n",
      "\n",
      "test_size : float or int, default=None\n",
      "    If float, should be between 0.0 and 1.0 and represent the proportion\n",
      "    of the dataset to include in the test split. If int, represents the\n",
      "    absolute number of test samples. If None, the value is set to the\n",
      "    complement of the train size. If ``train_size`` is also None, it will\n",
      "    be set to 0.25.\n",
      "\n",
      "train_size : float or int, default=None\n",
      "    If float, should be between 0.0 and 1.0 and represent the\n",
      "    proportion of the dataset to include in the train split. If\n",
      "    int, represents the absolute number of train samples. If None,\n",
      "    the value is automatically set to the complement of the test size.\n",
      "\n",
      "random_state : int, RandomState instance or None, default=None\n",
      "    Controls the shuffling applied to the data before applying the split.\n",
      "    Pass an int for reproducible output across multiple function calls.\n",
      "    See :term:`Glossary <random_state>`.\n",
      "\n",
      "shuffle : bool, default=True\n",
      "    Whether or not to shuffle the data before splitting. If shuffle=False\n",
      "    then stratify must be None.\n",
      "\n",
      "stratify : array-like, default=None\n",
      "    If not None, data is split in a stratified fashion, using this as\n",
      "    the class labels.\n",
      "    Read more in the :ref:`User Guide <stratification>`.\n",
      "\n",
      "Returns\n",
      "-------\n",
      "splitting : list, length=2 * len(arrays)\n",
      "    List containing train-test split of inputs.\n",
      "\n",
      "    .. versionadded:: 0.16\n",
      "        If the input is sparse, the output will be a\n",
      "        ``scipy.sparse.csr_matrix``. Else, output type is the same as the\n",
      "        input type.\n",
      "\n",
      "Examples\n",
      "--------\n",
      ">>> import numpy as np\n",
      ">>> from sklearn.model_selection import train_test_split\n",
      ">>> X, y = np.arange(10).reshape((5, 2)), range(5)\n",
      ">>> X\n",
      "array([[0, 1],\n",
      "       [2, 3],\n",
      "       [4, 5],\n",
      "       [6, 7],\n",
      "       [8, 9]])\n",
      ">>> list(y)\n",
      "[0, 1, 2, 3, 4]\n",
      "\n",
      ">>> X_train, X_test, y_train, y_test = train_test_split(\n",
      "...     X, y, test_size=0.33, random_state=42)\n",
      "...\n",
      ">>> X_train\n",
      "array([[4, 5],\n",
      "       [0, 1],\n",
      "       [6, 7]])\n",
      ">>> y_train\n",
      "[2, 0, 3]\n",
      ">>> X_test\n",
      "array([[2, 3],\n",
      "       [8, 9]])\n",
      ">>> y_test\n",
      "[1, 4]\n",
      "\n",
      ">>> train_test_split(y, shuffle=False)\n",
      "[[0, 1, 2], [3, 4]]\n",
      "\n",
      ">>> from sklearn import datasets\n",
      ">>> iris = datasets.load_iris(as_frame=True)\n",
      ">>> X, y = iris['data'], iris['target']\n",
      ">>> X.head()\n",
      "    sepal length (cm)  sepal width (cm)  petal length (cm)  petal width (cm)\n",
      "0                5.1               3.5                1.4               0.2\n",
      "1                4.9               3.0                1.4               0.2\n",
      "2                4.7               3.2                1.3               0.2\n",
      "3                4.6               3.1                1.5               0.2\n",
      "4                5.0               3.6                1.4               0.2\n",
      ">>> y.head()\n",
      "0    0\n",
      "1    0\n",
      "2    0\n",
      "3    0\n",
      "4    0\n",
      "...\n",
      "\n",
      ">>> X_train, X_test, y_train, y_test = train_test_split(\n",
      "... X, y, test_size=0.33, random_state=42)\n",
      "...\n",
      ">>> X_train.head()\n",
      "    sepal length (cm)  sepal width (cm)  petal length (cm)  petal width (cm)\n",
      "96                 5.7               2.9                4.2               1.3\n",
      "105                7.6               3.0                6.6               2.1\n",
      "66                 5.6               3.0                4.5               1.5\n",
      "0                  5.1               3.5                1.4               0.2\n",
      "122                7.7               2.8                6.7               2.0\n",
      ">>> y_train.head()\n",
      "96     1\n",
      "105    2\n",
      "66     1\n",
      "0      0\n",
      "122    2\n",
      "...\n",
      ">>> X_test.head()\n",
      "    sepal length (cm)  sepal width (cm)  petal length (cm)  petal width (cm)\n",
      "73                 6.1               2.8                4.7               1.2\n",
      "18                 5.7               3.8                1.7               0.3\n",
      "118                7.7               2.6                6.9               2.3\n",
      "78                 6.0               2.9                4.5               1.5\n",
      "76                 6.8               2.8                4.8               1.4\n",
      ">>> y_test.head()\n",
      "73     1\n",
      "18     0\n",
      "118    2\n",
      "78     1\n",
      "76     1\n",
      "...\n",
      "\u001b[31mFile:\u001b[39m      c:\\users\\gustavo\\miniconda3\\envs\\tf\\lib\\site-packages\\sklearn\\model_selection\\_split.py\n",
      "\u001b[31mType:\u001b[39m      function"
     ]
    }
   ],
   "source": [
    "train_test_split?"
   ]
  },
  {
   "cell_type": "code",
   "execution_count": 43,
   "id": "d786e64e",
   "metadata": {},
   "outputs": [],
   "source": [
    "X = df_train.iloc[:, 1:5].values\n",
    "y = df_train.iloc[:, 0].values"
   ]
  },
  {
   "cell_type": "code",
   "execution_count": 44,
   "id": "a391508c",
   "metadata": {},
   "outputs": [],
   "source": [
    "X_train, X_test, y_train, y_test = train_test_split(X, y, random_state=42, test_size=0.3)"
   ]
  },
  {
   "cell_type": "code",
   "execution_count": 45,
   "id": "1bec20e2",
   "metadata": {},
   "outputs": [
    {
     "data": {
      "text/plain": [
       "((623, 4), (623,))"
      ]
     },
     "execution_count": 45,
     "metadata": {},
     "output_type": "execute_result"
    }
   ],
   "source": [
    "X_train.shape, y_train.shape"
   ]
  },
  {
   "cell_type": "code",
   "execution_count": 46,
   "id": "362c94f7",
   "metadata": {},
   "outputs": [
    {
     "data": {
      "text/plain": [
       "((268, 4), (268,))"
      ]
     },
     "execution_count": 46,
     "metadata": {},
     "output_type": "execute_result"
    }
   ],
   "source": [
    "X_test.shape, y_test.shape"
   ]
  },
  {
   "cell_type": "code",
   "execution_count": 47,
   "id": "d24ad42c",
   "metadata": {},
   "outputs": [
    {
     "name": "stdout",
     "output_type": "stream",
     "text": [
      "0.7686567164179104\n"
     ]
    }
   ],
   "source": [
    "classificador = KNeighborsClassifier(n_neighbors=3)\n",
    "classificador.fit(X_train, y_train)\n",
    "y_pred_test = classificador.predict(X_test)\n",
    "print(accuracy_score(y_pred_test, y_test))"
   ]
  },
  {
   "cell_type": "code",
   "execution_count": 48,
   "id": "84f53bd1",
   "metadata": {},
   "outputs": [],
   "source": [
    "k_result = []\n",
    "\n",
    "for i in range(1, 15):\n",
    "    classificador = KNeighborsClassifier(n_neighbors=i)\n",
    "    classificador.fit(X_train, y_train)\n",
    "    y_pred_test = classificador.predict(X_test)\n",
    "    k_result.append(accuracy_score(y_pred_test, y_test))"
   ]
  },
  {
   "cell_type": "code",
   "execution_count": 49,
   "id": "f8a707fb",
   "metadata": {},
   "outputs": [
    {
     "data": {
      "application/vnd.plotly.v1+json": {
       "config": {
        "plotlyServerURL": "https://plot.ly"
       },
       "data": [
        {
         "hovertemplate": "variable=0<br>index=%{x}<br>value=%{y}<extra></extra>",
         "legendgroup": "0",
         "line": {
          "color": "#636efa",
          "dash": "solid"
         },
         "marker": {
          "symbol": "circle"
         },
         "mode": "lines",
         "name": "0",
         "orientation": "v",
         "showlegend": true,
         "type": "scatter",
         "x": {
          "bdata": "AAECAwQFBgcICQoLDA0=",
          "dtype": "i1"
         },
         "xaxis": "x",
         "y": {
          "bdata": "3sKvxkR66D8iPVA5u4XnP5WzW/jVmOg/Ij1QObuF5z9v4VdjIj3oP0V6oHJ2C+c/a0ykBypn5z9JD1TObuHnP5WzW/jVmOg/AAAAAAAA6D9v4VdjIj3oPwAAAAAAAOg/t/CrMZEe6D8iPVA5u4XnPw==",
          "dtype": "f8"
         },
         "yaxis": "y"
        }
       ],
       "layout": {
        "legend": {
         "title": {
          "text": "variable"
         },
         "tracegroupgap": 0
        },
        "margin": {
         "t": 60
        },
        "template": {
         "data": {
          "bar": [
           {
            "error_x": {
             "color": "#2a3f5f"
            },
            "error_y": {
             "color": "#2a3f5f"
            },
            "marker": {
             "line": {
              "color": "#E5ECF6",
              "width": 0.5
             },
             "pattern": {
              "fillmode": "overlay",
              "size": 10,
              "solidity": 0.2
             }
            },
            "type": "bar"
           }
          ],
          "barpolar": [
           {
            "marker": {
             "line": {
              "color": "#E5ECF6",
              "width": 0.5
             },
             "pattern": {
              "fillmode": "overlay",
              "size": 10,
              "solidity": 0.2
             }
            },
            "type": "barpolar"
           }
          ],
          "carpet": [
           {
            "aaxis": {
             "endlinecolor": "#2a3f5f",
             "gridcolor": "white",
             "linecolor": "white",
             "minorgridcolor": "white",
             "startlinecolor": "#2a3f5f"
            },
            "baxis": {
             "endlinecolor": "#2a3f5f",
             "gridcolor": "white",
             "linecolor": "white",
             "minorgridcolor": "white",
             "startlinecolor": "#2a3f5f"
            },
            "type": "carpet"
           }
          ],
          "choropleth": [
           {
            "colorbar": {
             "outlinewidth": 0,
             "ticks": ""
            },
            "type": "choropleth"
           }
          ],
          "contour": [
           {
            "colorbar": {
             "outlinewidth": 0,
             "ticks": ""
            },
            "colorscale": [
             [
              0,
              "#0d0887"
             ],
             [
              0.1111111111111111,
              "#46039f"
             ],
             [
              0.2222222222222222,
              "#7201a8"
             ],
             [
              0.3333333333333333,
              "#9c179e"
             ],
             [
              0.4444444444444444,
              "#bd3786"
             ],
             [
              0.5555555555555556,
              "#d8576b"
             ],
             [
              0.6666666666666666,
              "#ed7953"
             ],
             [
              0.7777777777777778,
              "#fb9f3a"
             ],
             [
              0.8888888888888888,
              "#fdca26"
             ],
             [
              1,
              "#f0f921"
             ]
            ],
            "type": "contour"
           }
          ],
          "contourcarpet": [
           {
            "colorbar": {
             "outlinewidth": 0,
             "ticks": ""
            },
            "type": "contourcarpet"
           }
          ],
          "heatmap": [
           {
            "colorbar": {
             "outlinewidth": 0,
             "ticks": ""
            },
            "colorscale": [
             [
              0,
              "#0d0887"
             ],
             [
              0.1111111111111111,
              "#46039f"
             ],
             [
              0.2222222222222222,
              "#7201a8"
             ],
             [
              0.3333333333333333,
              "#9c179e"
             ],
             [
              0.4444444444444444,
              "#bd3786"
             ],
             [
              0.5555555555555556,
              "#d8576b"
             ],
             [
              0.6666666666666666,
              "#ed7953"
             ],
             [
              0.7777777777777778,
              "#fb9f3a"
             ],
             [
              0.8888888888888888,
              "#fdca26"
             ],
             [
              1,
              "#f0f921"
             ]
            ],
            "type": "heatmap"
           }
          ],
          "histogram": [
           {
            "marker": {
             "pattern": {
              "fillmode": "overlay",
              "size": 10,
              "solidity": 0.2
             }
            },
            "type": "histogram"
           }
          ],
          "histogram2d": [
           {
            "colorbar": {
             "outlinewidth": 0,
             "ticks": ""
            },
            "colorscale": [
             [
              0,
              "#0d0887"
             ],
             [
              0.1111111111111111,
              "#46039f"
             ],
             [
              0.2222222222222222,
              "#7201a8"
             ],
             [
              0.3333333333333333,
              "#9c179e"
             ],
             [
              0.4444444444444444,
              "#bd3786"
             ],
             [
              0.5555555555555556,
              "#d8576b"
             ],
             [
              0.6666666666666666,
              "#ed7953"
             ],
             [
              0.7777777777777778,
              "#fb9f3a"
             ],
             [
              0.8888888888888888,
              "#fdca26"
             ],
             [
              1,
              "#f0f921"
             ]
            ],
            "type": "histogram2d"
           }
          ],
          "histogram2dcontour": [
           {
            "colorbar": {
             "outlinewidth": 0,
             "ticks": ""
            },
            "colorscale": [
             [
              0,
              "#0d0887"
             ],
             [
              0.1111111111111111,
              "#46039f"
             ],
             [
              0.2222222222222222,
              "#7201a8"
             ],
             [
              0.3333333333333333,
              "#9c179e"
             ],
             [
              0.4444444444444444,
              "#bd3786"
             ],
             [
              0.5555555555555556,
              "#d8576b"
             ],
             [
              0.6666666666666666,
              "#ed7953"
             ],
             [
              0.7777777777777778,
              "#fb9f3a"
             ],
             [
              0.8888888888888888,
              "#fdca26"
             ],
             [
              1,
              "#f0f921"
             ]
            ],
            "type": "histogram2dcontour"
           }
          ],
          "mesh3d": [
           {
            "colorbar": {
             "outlinewidth": 0,
             "ticks": ""
            },
            "type": "mesh3d"
           }
          ],
          "parcoords": [
           {
            "line": {
             "colorbar": {
              "outlinewidth": 0,
              "ticks": ""
             }
            },
            "type": "parcoords"
           }
          ],
          "pie": [
           {
            "automargin": true,
            "type": "pie"
           }
          ],
          "scatter": [
           {
            "fillpattern": {
             "fillmode": "overlay",
             "size": 10,
             "solidity": 0.2
            },
            "type": "scatter"
           }
          ],
          "scatter3d": [
           {
            "line": {
             "colorbar": {
              "outlinewidth": 0,
              "ticks": ""
             }
            },
            "marker": {
             "colorbar": {
              "outlinewidth": 0,
              "ticks": ""
             }
            },
            "type": "scatter3d"
           }
          ],
          "scattercarpet": [
           {
            "marker": {
             "colorbar": {
              "outlinewidth": 0,
              "ticks": ""
             }
            },
            "type": "scattercarpet"
           }
          ],
          "scattergeo": [
           {
            "marker": {
             "colorbar": {
              "outlinewidth": 0,
              "ticks": ""
             }
            },
            "type": "scattergeo"
           }
          ],
          "scattergl": [
           {
            "marker": {
             "colorbar": {
              "outlinewidth": 0,
              "ticks": ""
             }
            },
            "type": "scattergl"
           }
          ],
          "scattermap": [
           {
            "marker": {
             "colorbar": {
              "outlinewidth": 0,
              "ticks": ""
             }
            },
            "type": "scattermap"
           }
          ],
          "scattermapbox": [
           {
            "marker": {
             "colorbar": {
              "outlinewidth": 0,
              "ticks": ""
             }
            },
            "type": "scattermapbox"
           }
          ],
          "scatterpolar": [
           {
            "marker": {
             "colorbar": {
              "outlinewidth": 0,
              "ticks": ""
             }
            },
            "type": "scatterpolar"
           }
          ],
          "scatterpolargl": [
           {
            "marker": {
             "colorbar": {
              "outlinewidth": 0,
              "ticks": ""
             }
            },
            "type": "scatterpolargl"
           }
          ],
          "scatterternary": [
           {
            "marker": {
             "colorbar": {
              "outlinewidth": 0,
              "ticks": ""
             }
            },
            "type": "scatterternary"
           }
          ],
          "surface": [
           {
            "colorbar": {
             "outlinewidth": 0,
             "ticks": ""
            },
            "colorscale": [
             [
              0,
              "#0d0887"
             ],
             [
              0.1111111111111111,
              "#46039f"
             ],
             [
              0.2222222222222222,
              "#7201a8"
             ],
             [
              0.3333333333333333,
              "#9c179e"
             ],
             [
              0.4444444444444444,
              "#bd3786"
             ],
             [
              0.5555555555555556,
              "#d8576b"
             ],
             [
              0.6666666666666666,
              "#ed7953"
             ],
             [
              0.7777777777777778,
              "#fb9f3a"
             ],
             [
              0.8888888888888888,
              "#fdca26"
             ],
             [
              1,
              "#f0f921"
             ]
            ],
            "type": "surface"
           }
          ],
          "table": [
           {
            "cells": {
             "fill": {
              "color": "#EBF0F8"
             },
             "line": {
              "color": "white"
             }
            },
            "header": {
             "fill": {
              "color": "#C8D4E3"
             },
             "line": {
              "color": "white"
             }
            },
            "type": "table"
           }
          ]
         },
         "layout": {
          "annotationdefaults": {
           "arrowcolor": "#2a3f5f",
           "arrowhead": 0,
           "arrowwidth": 1
          },
          "autotypenumbers": "strict",
          "coloraxis": {
           "colorbar": {
            "outlinewidth": 0,
            "ticks": ""
           }
          },
          "colorscale": {
           "diverging": [
            [
             0,
             "#8e0152"
            ],
            [
             0.1,
             "#c51b7d"
            ],
            [
             0.2,
             "#de77ae"
            ],
            [
             0.3,
             "#f1b6da"
            ],
            [
             0.4,
             "#fde0ef"
            ],
            [
             0.5,
             "#f7f7f7"
            ],
            [
             0.6,
             "#e6f5d0"
            ],
            [
             0.7,
             "#b8e186"
            ],
            [
             0.8,
             "#7fbc41"
            ],
            [
             0.9,
             "#4d9221"
            ],
            [
             1,
             "#276419"
            ]
           ],
           "sequential": [
            [
             0,
             "#0d0887"
            ],
            [
             0.1111111111111111,
             "#46039f"
            ],
            [
             0.2222222222222222,
             "#7201a8"
            ],
            [
             0.3333333333333333,
             "#9c179e"
            ],
            [
             0.4444444444444444,
             "#bd3786"
            ],
            [
             0.5555555555555556,
             "#d8576b"
            ],
            [
             0.6666666666666666,
             "#ed7953"
            ],
            [
             0.7777777777777778,
             "#fb9f3a"
            ],
            [
             0.8888888888888888,
             "#fdca26"
            ],
            [
             1,
             "#f0f921"
            ]
           ],
           "sequentialminus": [
            [
             0,
             "#0d0887"
            ],
            [
             0.1111111111111111,
             "#46039f"
            ],
            [
             0.2222222222222222,
             "#7201a8"
            ],
            [
             0.3333333333333333,
             "#9c179e"
            ],
            [
             0.4444444444444444,
             "#bd3786"
            ],
            [
             0.5555555555555556,
             "#d8576b"
            ],
            [
             0.6666666666666666,
             "#ed7953"
            ],
            [
             0.7777777777777778,
             "#fb9f3a"
            ],
            [
             0.8888888888888888,
             "#fdca26"
            ],
            [
             1,
             "#f0f921"
            ]
           ]
          },
          "colorway": [
           "#636efa",
           "#EF553B",
           "#00cc96",
           "#ab63fa",
           "#FFA15A",
           "#19d3f3",
           "#FF6692",
           "#B6E880",
           "#FF97FF",
           "#FECB52"
          ],
          "font": {
           "color": "#2a3f5f"
          },
          "geo": {
           "bgcolor": "white",
           "lakecolor": "white",
           "landcolor": "#E5ECF6",
           "showlakes": true,
           "showland": true,
           "subunitcolor": "white"
          },
          "hoverlabel": {
           "align": "left"
          },
          "hovermode": "closest",
          "mapbox": {
           "style": "light"
          },
          "paper_bgcolor": "white",
          "plot_bgcolor": "#E5ECF6",
          "polar": {
           "angularaxis": {
            "gridcolor": "white",
            "linecolor": "white",
            "ticks": ""
           },
           "bgcolor": "#E5ECF6",
           "radialaxis": {
            "gridcolor": "white",
            "linecolor": "white",
            "ticks": ""
           }
          },
          "scene": {
           "xaxis": {
            "backgroundcolor": "#E5ECF6",
            "gridcolor": "white",
            "gridwidth": 2,
            "linecolor": "white",
            "showbackground": true,
            "ticks": "",
            "zerolinecolor": "white"
           },
           "yaxis": {
            "backgroundcolor": "#E5ECF6",
            "gridcolor": "white",
            "gridwidth": 2,
            "linecolor": "white",
            "showbackground": true,
            "ticks": "",
            "zerolinecolor": "white"
           },
           "zaxis": {
            "backgroundcolor": "#E5ECF6",
            "gridcolor": "white",
            "gridwidth": 2,
            "linecolor": "white",
            "showbackground": true,
            "ticks": "",
            "zerolinecolor": "white"
           }
          },
          "shapedefaults": {
           "line": {
            "color": "#2a3f5f"
           }
          },
          "ternary": {
           "aaxis": {
            "gridcolor": "white",
            "linecolor": "white",
            "ticks": ""
           },
           "baxis": {
            "gridcolor": "white",
            "linecolor": "white",
            "ticks": ""
           },
           "bgcolor": "#E5ECF6",
           "caxis": {
            "gridcolor": "white",
            "linecolor": "white",
            "ticks": ""
           }
          },
          "title": {
           "x": 0.05
          },
          "xaxis": {
           "automargin": true,
           "gridcolor": "white",
           "linecolor": "white",
           "ticks": "",
           "title": {
            "standoff": 15
           },
           "zerolinecolor": "white",
           "zerolinewidth": 2
          },
          "yaxis": {
           "automargin": true,
           "gridcolor": "white",
           "linecolor": "white",
           "ticks": "",
           "title": {
            "standoff": 15
           },
           "zerolinecolor": "white",
           "zerolinewidth": 2
          }
         }
        },
        "xaxis": {
         "anchor": "y",
         "domain": [
          0,
          1
         ],
         "title": {
          "text": "index"
         }
        },
        "yaxis": {
         "anchor": "x",
         "domain": [
          0,
          1
         ],
         "title": {
          "text": "value"
         }
        }
       }
      }
     },
     "metadata": {},
     "output_type": "display_data"
    }
   ],
   "source": [
    "px.line(k_result)"
   ]
  },
  {
   "cell_type": "code",
   "execution_count": 50,
   "id": "95514a01",
   "metadata": {},
   "outputs": [
    {
     "name": "stdout",
     "output_type": "stream",
     "text": [
      "[0.65363128 0.70786517 0.80337079 0.74719101 0.80898876]\n"
     ]
    }
   ],
   "source": [
    "classificador = KNeighborsClassifier(n_neighbors=5)\n",
    "cv = ShuffleSplit(n_splits=5, test_size=0.3, random_state=0)\n",
    "scores = cross_val_score(classificador, X, y)\n",
    "print(scores)"
   ]
  },
  {
   "cell_type": "code",
   "execution_count": 51,
   "id": "67f15680",
   "metadata": {},
   "outputs": [],
   "source": [
    "k_result = []\n",
    "cv = ShuffleSplit(n_splits=5, test_size=0.3, random_state=0)\n",
    "for i in range(1, 15):\n",
    "    classificador = KNeighborsClassifier(n_neighbors=i)\n",
    "    scores = cross_val_score(classificador, X_train, y_train)\n",
    "    k_result.append(scores.mean())"
   ]
  },
  {
   "cell_type": "code",
   "execution_count": 52,
   "id": "e20a51d0",
   "metadata": {},
   "outputs": [
    {
     "data": {
      "application/vnd.plotly.v1+json": {
       "config": {
        "plotlyServerURL": "https://plot.ly"
       },
       "data": [
        {
         "hovertemplate": "variable=0<br>index=%{x}<br>value=%{y}<extra></extra>",
         "legendgroup": "0",
         "line": {
          "color": "#636efa",
          "dash": "solid"
         },
         "marker": {
          "symbol": "circle"
         },
         "mode": "lines",
         "name": "0",
         "orientation": "v",
         "showlegend": true,
         "type": "scatter",
         "x": {
          "bdata": "AAECAwQFBgcICQoLDA0=",
          "dtype": "i1"
         },
         "xaxis": "x",
         "y": {
          "bdata": "zsGMjQnj5z/l8h/Sb1/nP0LL51ftu+c/WBBF+3kQ5z96nrpslR3nPz5dQWPYKec/qJ3caYyT5z8A15AyA1LnP6vFcCfZQ+c/xqAIfcfa5j/7QFaAoQ/nP+7Ygv9qAuc/ertd1mBR5z97soTLu/XmPw==",
          "dtype": "f8"
         },
         "yaxis": "y"
        }
       ],
       "layout": {
        "legend": {
         "title": {
          "text": "variable"
         },
         "tracegroupgap": 0
        },
        "margin": {
         "t": 60
        },
        "template": {
         "data": {
          "bar": [
           {
            "error_x": {
             "color": "#2a3f5f"
            },
            "error_y": {
             "color": "#2a3f5f"
            },
            "marker": {
             "line": {
              "color": "#E5ECF6",
              "width": 0.5
             },
             "pattern": {
              "fillmode": "overlay",
              "size": 10,
              "solidity": 0.2
             }
            },
            "type": "bar"
           }
          ],
          "barpolar": [
           {
            "marker": {
             "line": {
              "color": "#E5ECF6",
              "width": 0.5
             },
             "pattern": {
              "fillmode": "overlay",
              "size": 10,
              "solidity": 0.2
             }
            },
            "type": "barpolar"
           }
          ],
          "carpet": [
           {
            "aaxis": {
             "endlinecolor": "#2a3f5f",
             "gridcolor": "white",
             "linecolor": "white",
             "minorgridcolor": "white",
             "startlinecolor": "#2a3f5f"
            },
            "baxis": {
             "endlinecolor": "#2a3f5f",
             "gridcolor": "white",
             "linecolor": "white",
             "minorgridcolor": "white",
             "startlinecolor": "#2a3f5f"
            },
            "type": "carpet"
           }
          ],
          "choropleth": [
           {
            "colorbar": {
             "outlinewidth": 0,
             "ticks": ""
            },
            "type": "choropleth"
           }
          ],
          "contour": [
           {
            "colorbar": {
             "outlinewidth": 0,
             "ticks": ""
            },
            "colorscale": [
             [
              0,
              "#0d0887"
             ],
             [
              0.1111111111111111,
              "#46039f"
             ],
             [
              0.2222222222222222,
              "#7201a8"
             ],
             [
              0.3333333333333333,
              "#9c179e"
             ],
             [
              0.4444444444444444,
              "#bd3786"
             ],
             [
              0.5555555555555556,
              "#d8576b"
             ],
             [
              0.6666666666666666,
              "#ed7953"
             ],
             [
              0.7777777777777778,
              "#fb9f3a"
             ],
             [
              0.8888888888888888,
              "#fdca26"
             ],
             [
              1,
              "#f0f921"
             ]
            ],
            "type": "contour"
           }
          ],
          "contourcarpet": [
           {
            "colorbar": {
             "outlinewidth": 0,
             "ticks": ""
            },
            "type": "contourcarpet"
           }
          ],
          "heatmap": [
           {
            "colorbar": {
             "outlinewidth": 0,
             "ticks": ""
            },
            "colorscale": [
             [
              0,
              "#0d0887"
             ],
             [
              0.1111111111111111,
              "#46039f"
             ],
             [
              0.2222222222222222,
              "#7201a8"
             ],
             [
              0.3333333333333333,
              "#9c179e"
             ],
             [
              0.4444444444444444,
              "#bd3786"
             ],
             [
              0.5555555555555556,
              "#d8576b"
             ],
             [
              0.6666666666666666,
              "#ed7953"
             ],
             [
              0.7777777777777778,
              "#fb9f3a"
             ],
             [
              0.8888888888888888,
              "#fdca26"
             ],
             [
              1,
              "#f0f921"
             ]
            ],
            "type": "heatmap"
           }
          ],
          "histogram": [
           {
            "marker": {
             "pattern": {
              "fillmode": "overlay",
              "size": 10,
              "solidity": 0.2
             }
            },
            "type": "histogram"
           }
          ],
          "histogram2d": [
           {
            "colorbar": {
             "outlinewidth": 0,
             "ticks": ""
            },
            "colorscale": [
             [
              0,
              "#0d0887"
             ],
             [
              0.1111111111111111,
              "#46039f"
             ],
             [
              0.2222222222222222,
              "#7201a8"
             ],
             [
              0.3333333333333333,
              "#9c179e"
             ],
             [
              0.4444444444444444,
              "#bd3786"
             ],
             [
              0.5555555555555556,
              "#d8576b"
             ],
             [
              0.6666666666666666,
              "#ed7953"
             ],
             [
              0.7777777777777778,
              "#fb9f3a"
             ],
             [
              0.8888888888888888,
              "#fdca26"
             ],
             [
              1,
              "#f0f921"
             ]
            ],
            "type": "histogram2d"
           }
          ],
          "histogram2dcontour": [
           {
            "colorbar": {
             "outlinewidth": 0,
             "ticks": ""
            },
            "colorscale": [
             [
              0,
              "#0d0887"
             ],
             [
              0.1111111111111111,
              "#46039f"
             ],
             [
              0.2222222222222222,
              "#7201a8"
             ],
             [
              0.3333333333333333,
              "#9c179e"
             ],
             [
              0.4444444444444444,
              "#bd3786"
             ],
             [
              0.5555555555555556,
              "#d8576b"
             ],
             [
              0.6666666666666666,
              "#ed7953"
             ],
             [
              0.7777777777777778,
              "#fb9f3a"
             ],
             [
              0.8888888888888888,
              "#fdca26"
             ],
             [
              1,
              "#f0f921"
             ]
            ],
            "type": "histogram2dcontour"
           }
          ],
          "mesh3d": [
           {
            "colorbar": {
             "outlinewidth": 0,
             "ticks": ""
            },
            "type": "mesh3d"
           }
          ],
          "parcoords": [
           {
            "line": {
             "colorbar": {
              "outlinewidth": 0,
              "ticks": ""
             }
            },
            "type": "parcoords"
           }
          ],
          "pie": [
           {
            "automargin": true,
            "type": "pie"
           }
          ],
          "scatter": [
           {
            "fillpattern": {
             "fillmode": "overlay",
             "size": 10,
             "solidity": 0.2
            },
            "type": "scatter"
           }
          ],
          "scatter3d": [
           {
            "line": {
             "colorbar": {
              "outlinewidth": 0,
              "ticks": ""
             }
            },
            "marker": {
             "colorbar": {
              "outlinewidth": 0,
              "ticks": ""
             }
            },
            "type": "scatter3d"
           }
          ],
          "scattercarpet": [
           {
            "marker": {
             "colorbar": {
              "outlinewidth": 0,
              "ticks": ""
             }
            },
            "type": "scattercarpet"
           }
          ],
          "scattergeo": [
           {
            "marker": {
             "colorbar": {
              "outlinewidth": 0,
              "ticks": ""
             }
            },
            "type": "scattergeo"
           }
          ],
          "scattergl": [
           {
            "marker": {
             "colorbar": {
              "outlinewidth": 0,
              "ticks": ""
             }
            },
            "type": "scattergl"
           }
          ],
          "scattermap": [
           {
            "marker": {
             "colorbar": {
              "outlinewidth": 0,
              "ticks": ""
             }
            },
            "type": "scattermap"
           }
          ],
          "scattermapbox": [
           {
            "marker": {
             "colorbar": {
              "outlinewidth": 0,
              "ticks": ""
             }
            },
            "type": "scattermapbox"
           }
          ],
          "scatterpolar": [
           {
            "marker": {
             "colorbar": {
              "outlinewidth": 0,
              "ticks": ""
             }
            },
            "type": "scatterpolar"
           }
          ],
          "scatterpolargl": [
           {
            "marker": {
             "colorbar": {
              "outlinewidth": 0,
              "ticks": ""
             }
            },
            "type": "scatterpolargl"
           }
          ],
          "scatterternary": [
           {
            "marker": {
             "colorbar": {
              "outlinewidth": 0,
              "ticks": ""
             }
            },
            "type": "scatterternary"
           }
          ],
          "surface": [
           {
            "colorbar": {
             "outlinewidth": 0,
             "ticks": ""
            },
            "colorscale": [
             [
              0,
              "#0d0887"
             ],
             [
              0.1111111111111111,
              "#46039f"
             ],
             [
              0.2222222222222222,
              "#7201a8"
             ],
             [
              0.3333333333333333,
              "#9c179e"
             ],
             [
              0.4444444444444444,
              "#bd3786"
             ],
             [
              0.5555555555555556,
              "#d8576b"
             ],
             [
              0.6666666666666666,
              "#ed7953"
             ],
             [
              0.7777777777777778,
              "#fb9f3a"
             ],
             [
              0.8888888888888888,
              "#fdca26"
             ],
             [
              1,
              "#f0f921"
             ]
            ],
            "type": "surface"
           }
          ],
          "table": [
           {
            "cells": {
             "fill": {
              "color": "#EBF0F8"
             },
             "line": {
              "color": "white"
             }
            },
            "header": {
             "fill": {
              "color": "#C8D4E3"
             },
             "line": {
              "color": "white"
             }
            },
            "type": "table"
           }
          ]
         },
         "layout": {
          "annotationdefaults": {
           "arrowcolor": "#2a3f5f",
           "arrowhead": 0,
           "arrowwidth": 1
          },
          "autotypenumbers": "strict",
          "coloraxis": {
           "colorbar": {
            "outlinewidth": 0,
            "ticks": ""
           }
          },
          "colorscale": {
           "diverging": [
            [
             0,
             "#8e0152"
            ],
            [
             0.1,
             "#c51b7d"
            ],
            [
             0.2,
             "#de77ae"
            ],
            [
             0.3,
             "#f1b6da"
            ],
            [
             0.4,
             "#fde0ef"
            ],
            [
             0.5,
             "#f7f7f7"
            ],
            [
             0.6,
             "#e6f5d0"
            ],
            [
             0.7,
             "#b8e186"
            ],
            [
             0.8,
             "#7fbc41"
            ],
            [
             0.9,
             "#4d9221"
            ],
            [
             1,
             "#276419"
            ]
           ],
           "sequential": [
            [
             0,
             "#0d0887"
            ],
            [
             0.1111111111111111,
             "#46039f"
            ],
            [
             0.2222222222222222,
             "#7201a8"
            ],
            [
             0.3333333333333333,
             "#9c179e"
            ],
            [
             0.4444444444444444,
             "#bd3786"
            ],
            [
             0.5555555555555556,
             "#d8576b"
            ],
            [
             0.6666666666666666,
             "#ed7953"
            ],
            [
             0.7777777777777778,
             "#fb9f3a"
            ],
            [
             0.8888888888888888,
             "#fdca26"
            ],
            [
             1,
             "#f0f921"
            ]
           ],
           "sequentialminus": [
            [
             0,
             "#0d0887"
            ],
            [
             0.1111111111111111,
             "#46039f"
            ],
            [
             0.2222222222222222,
             "#7201a8"
            ],
            [
             0.3333333333333333,
             "#9c179e"
            ],
            [
             0.4444444444444444,
             "#bd3786"
            ],
            [
             0.5555555555555556,
             "#d8576b"
            ],
            [
             0.6666666666666666,
             "#ed7953"
            ],
            [
             0.7777777777777778,
             "#fb9f3a"
            ],
            [
             0.8888888888888888,
             "#fdca26"
            ],
            [
             1,
             "#f0f921"
            ]
           ]
          },
          "colorway": [
           "#636efa",
           "#EF553B",
           "#00cc96",
           "#ab63fa",
           "#FFA15A",
           "#19d3f3",
           "#FF6692",
           "#B6E880",
           "#FF97FF",
           "#FECB52"
          ],
          "font": {
           "color": "#2a3f5f"
          },
          "geo": {
           "bgcolor": "white",
           "lakecolor": "white",
           "landcolor": "#E5ECF6",
           "showlakes": true,
           "showland": true,
           "subunitcolor": "white"
          },
          "hoverlabel": {
           "align": "left"
          },
          "hovermode": "closest",
          "mapbox": {
           "style": "light"
          },
          "paper_bgcolor": "white",
          "plot_bgcolor": "#E5ECF6",
          "polar": {
           "angularaxis": {
            "gridcolor": "white",
            "linecolor": "white",
            "ticks": ""
           },
           "bgcolor": "#E5ECF6",
           "radialaxis": {
            "gridcolor": "white",
            "linecolor": "white",
            "ticks": ""
           }
          },
          "scene": {
           "xaxis": {
            "backgroundcolor": "#E5ECF6",
            "gridcolor": "white",
            "gridwidth": 2,
            "linecolor": "white",
            "showbackground": true,
            "ticks": "",
            "zerolinecolor": "white"
           },
           "yaxis": {
            "backgroundcolor": "#E5ECF6",
            "gridcolor": "white",
            "gridwidth": 2,
            "linecolor": "white",
            "showbackground": true,
            "ticks": "",
            "zerolinecolor": "white"
           },
           "zaxis": {
            "backgroundcolor": "#E5ECF6",
            "gridcolor": "white",
            "gridwidth": 2,
            "linecolor": "white",
            "showbackground": true,
            "ticks": "",
            "zerolinecolor": "white"
           }
          },
          "shapedefaults": {
           "line": {
            "color": "#2a3f5f"
           }
          },
          "ternary": {
           "aaxis": {
            "gridcolor": "white",
            "linecolor": "white",
            "ticks": ""
           },
           "baxis": {
            "gridcolor": "white",
            "linecolor": "white",
            "ticks": ""
           },
           "bgcolor": "#E5ECF6",
           "caxis": {
            "gridcolor": "white",
            "linecolor": "white",
            "ticks": ""
           }
          },
          "title": {
           "x": 0.05
          },
          "xaxis": {
           "automargin": true,
           "gridcolor": "white",
           "linecolor": "white",
           "ticks": "",
           "title": {
            "standoff": 15
           },
           "zerolinecolor": "white",
           "zerolinewidth": 2
          },
          "yaxis": {
           "automargin": true,
           "gridcolor": "white",
           "linecolor": "white",
           "ticks": "",
           "title": {
            "standoff": 15
           },
           "zerolinecolor": "white",
           "zerolinewidth": 2
          }
         }
        },
        "xaxis": {
         "anchor": "y",
         "domain": [
          0,
          1
         ],
         "title": {
          "text": "index"
         }
        },
        "yaxis": {
         "anchor": "x",
         "domain": [
          0,
          1
         ],
         "title": {
          "text": "value"
         }
        }
       }
      }
     },
     "metadata": {},
     "output_type": "display_data"
    }
   ],
   "source": [
    "px.line(k_result)"
   ]
  },
  {
   "cell_type": "markdown",
   "id": "e599934d",
   "metadata": {},
   "source": [
    "#  Naive Bayes"
   ]
  },
  {
   "cell_type": "markdown",
   "id": "c69fe685",
   "metadata": {},
   "source": [
    "### Naive Bayes Classifier\n",
    "\n",
    "![bayes](https://upload.wikimedia.org/wikipedia/commons/thumb/1/18/Bayes%27_Theorem_MMB_01.jpg/1920px-Bayes%27_Theorem_MMB_01.jpg)\n",
    "\n",
    "The **Naive Bayes** algorithm is a simple probabilistic classifier based on **Bayes’ Theorem**.  \n",
    "It assumes that all features are **independent** given the class.\n",
    "\n",
    "#### Bayes’ Theorem\n",
    "\n",
    "$$\n",
    "P(C_k \\mid X) = \\frac{P(X \\mid C_k) \\, P(C_k)}{P(X)}\n",
    "$$\n",
    "\n",
    "Where:  \n",
    "- \\( P(C_k \\mid X) \\): posterior probability of class \\( C_k \\) given the data \\( X \\)  \n",
    "- \\( P(X \\mid C_k) \\): likelihood of observing \\( X \\) given class \\( C_k \\)  \n",
    "- \\( P(C_k) \\): prior probability of class \\( C_k \\)  \n",
    "- \\( P(X) \\): evidence (normalizing constant)\n",
    "\n",
    "#### Naive Assumption (Independence)\n",
    "\n",
    "$$\n",
    "P(X \\mid C_k) = \\prod_{i=1}^{n} P(x_i \\mid C_k)\n",
    "$$\n",
    "\n",
    "So the posterior becomes:\n",
    "\n",
    "$$\n",
    "P(C_k \\mid X) \\propto P(C_k) \\prod_{i=1}^{n} P(x_i \\mid C_k)\n",
    "$$\n",
    "\n",
    "#### Classification Rule\n",
    "\n",
    "$$\n",
    "\\hat{C} = \\arg\\max_{C_k} P(C_k) \\prod_{i=1}^{n} P(x_i \\mid C_k)\n",
    "$$\n",
    "\n",
    "#### Intuition\n",
    "\n",
    "- Simple, fast, and effective for large datasets.  \n",
    "- Works well even with limited data.  \n",
    "- Despite the “naive” independence assumption, it performs competitively in many practical cases.\n",
    "\n",
    "#### Common Variants\n",
    "\n",
    "- **Gaussian Naive Bayes** – assumes features follow a normal distribution.  \n",
    "- **Multinomial Naive Bayes** – used for discrete counts (e.g., word frequencies).  \n",
    "- **Bernoulli Naive Bayes** – for binary features.\n",
    "\n"
   ]
  },
  {
   "cell_type": "code",
   "execution_count": 57,
   "id": "72a6bada",
   "metadata": {},
   "outputs": [
    {
     "data": {
      "text/plain": [
       "((623, 4), (268, 4), (623,), (268,))"
      ]
     },
     "execution_count": 57,
     "metadata": {},
     "output_type": "execute_result"
    }
   ],
   "source": [
    "X_train.shape, X_test.shape, y_train.shape, y_test.shape"
   ]
  },
  {
   "cell_type": "code",
   "execution_count": 58,
   "id": "66c584f7",
   "metadata": {},
   "outputs": [],
   "source": [
    "classificador = GaussianNB()"
   ]
  },
  {
   "cell_type": "code",
   "execution_count": 59,
   "id": "cda722f9",
   "metadata": {},
   "outputs": [
    {
     "data": {
      "text/html": [
       "<style>#sk-container-id-1 {\n",
       "  /* Definition of color scheme common for light and dark mode */\n",
       "  --sklearn-color-text: #000;\n",
       "  --sklearn-color-text-muted: #666;\n",
       "  --sklearn-color-line: gray;\n",
       "  /* Definition of color scheme for unfitted estimators */\n",
       "  --sklearn-color-unfitted-level-0: #fff5e6;\n",
       "  --sklearn-color-unfitted-level-1: #f6e4d2;\n",
       "  --sklearn-color-unfitted-level-2: #ffe0b3;\n",
       "  --sklearn-color-unfitted-level-3: chocolate;\n",
       "  /* Definition of color scheme for fitted estimators */\n",
       "  --sklearn-color-fitted-level-0: #f0f8ff;\n",
       "  --sklearn-color-fitted-level-1: #d4ebff;\n",
       "  --sklearn-color-fitted-level-2: #b3dbfd;\n",
       "  --sklearn-color-fitted-level-3: cornflowerblue;\n",
       "\n",
       "  /* Specific color for light theme */\n",
       "  --sklearn-color-text-on-default-background: var(--sg-text-color, var(--theme-code-foreground, var(--jp-content-font-color1, black)));\n",
       "  --sklearn-color-background: var(--sg-background-color, var(--theme-background, var(--jp-layout-color0, white)));\n",
       "  --sklearn-color-border-box: var(--sg-text-color, var(--theme-code-foreground, var(--jp-content-font-color1, black)));\n",
       "  --sklearn-color-icon: #696969;\n",
       "\n",
       "  @media (prefers-color-scheme: dark) {\n",
       "    /* Redefinition of color scheme for dark theme */\n",
       "    --sklearn-color-text-on-default-background: var(--sg-text-color, var(--theme-code-foreground, var(--jp-content-font-color1, white)));\n",
       "    --sklearn-color-background: var(--sg-background-color, var(--theme-background, var(--jp-layout-color0, #111)));\n",
       "    --sklearn-color-border-box: var(--sg-text-color, var(--theme-code-foreground, var(--jp-content-font-color1, white)));\n",
       "    --sklearn-color-icon: #878787;\n",
       "  }\n",
       "}\n",
       "\n",
       "#sk-container-id-1 {\n",
       "  color: var(--sklearn-color-text);\n",
       "}\n",
       "\n",
       "#sk-container-id-1 pre {\n",
       "  padding: 0;\n",
       "}\n",
       "\n",
       "#sk-container-id-1 input.sk-hidden--visually {\n",
       "  border: 0;\n",
       "  clip: rect(1px 1px 1px 1px);\n",
       "  clip: rect(1px, 1px, 1px, 1px);\n",
       "  height: 1px;\n",
       "  margin: -1px;\n",
       "  overflow: hidden;\n",
       "  padding: 0;\n",
       "  position: absolute;\n",
       "  width: 1px;\n",
       "}\n",
       "\n",
       "#sk-container-id-1 div.sk-dashed-wrapped {\n",
       "  border: 1px dashed var(--sklearn-color-line);\n",
       "  margin: 0 0.4em 0.5em 0.4em;\n",
       "  box-sizing: border-box;\n",
       "  padding-bottom: 0.4em;\n",
       "  background-color: var(--sklearn-color-background);\n",
       "}\n",
       "\n",
       "#sk-container-id-1 div.sk-container {\n",
       "  /* jupyter's `normalize.less` sets `[hidden] { display: none; }`\n",
       "     but bootstrap.min.css set `[hidden] { display: none !important; }`\n",
       "     so we also need the `!important` here to be able to override the\n",
       "     default hidden behavior on the sphinx rendered scikit-learn.org.\n",
       "     See: https://github.com/scikit-learn/scikit-learn/issues/21755 */\n",
       "  display: inline-block !important;\n",
       "  position: relative;\n",
       "}\n",
       "\n",
       "#sk-container-id-1 div.sk-text-repr-fallback {\n",
       "  display: none;\n",
       "}\n",
       "\n",
       "div.sk-parallel-item,\n",
       "div.sk-serial,\n",
       "div.sk-item {\n",
       "  /* draw centered vertical line to link estimators */\n",
       "  background-image: linear-gradient(var(--sklearn-color-text-on-default-background), var(--sklearn-color-text-on-default-background));\n",
       "  background-size: 2px 100%;\n",
       "  background-repeat: no-repeat;\n",
       "  background-position: center center;\n",
       "}\n",
       "\n",
       "/* Parallel-specific style estimator block */\n",
       "\n",
       "#sk-container-id-1 div.sk-parallel-item::after {\n",
       "  content: \"\";\n",
       "  width: 100%;\n",
       "  border-bottom: 2px solid var(--sklearn-color-text-on-default-background);\n",
       "  flex-grow: 1;\n",
       "}\n",
       "\n",
       "#sk-container-id-1 div.sk-parallel {\n",
       "  display: flex;\n",
       "  align-items: stretch;\n",
       "  justify-content: center;\n",
       "  background-color: var(--sklearn-color-background);\n",
       "  position: relative;\n",
       "}\n",
       "\n",
       "#sk-container-id-1 div.sk-parallel-item {\n",
       "  display: flex;\n",
       "  flex-direction: column;\n",
       "}\n",
       "\n",
       "#sk-container-id-1 div.sk-parallel-item:first-child::after {\n",
       "  align-self: flex-end;\n",
       "  width: 50%;\n",
       "}\n",
       "\n",
       "#sk-container-id-1 div.sk-parallel-item:last-child::after {\n",
       "  align-self: flex-start;\n",
       "  width: 50%;\n",
       "}\n",
       "\n",
       "#sk-container-id-1 div.sk-parallel-item:only-child::after {\n",
       "  width: 0;\n",
       "}\n",
       "\n",
       "/* Serial-specific style estimator block */\n",
       "\n",
       "#sk-container-id-1 div.sk-serial {\n",
       "  display: flex;\n",
       "  flex-direction: column;\n",
       "  align-items: center;\n",
       "  background-color: var(--sklearn-color-background);\n",
       "  padding-right: 1em;\n",
       "  padding-left: 1em;\n",
       "}\n",
       "\n",
       "\n",
       "/* Toggleable style: style used for estimator/Pipeline/ColumnTransformer box that is\n",
       "clickable and can be expanded/collapsed.\n",
       "- Pipeline and ColumnTransformer use this feature and define the default style\n",
       "- Estimators will overwrite some part of the style using the `sk-estimator` class\n",
       "*/\n",
       "\n",
       "/* Pipeline and ColumnTransformer style (default) */\n",
       "\n",
       "#sk-container-id-1 div.sk-toggleable {\n",
       "  /* Default theme specific background. It is overwritten whether we have a\n",
       "  specific estimator or a Pipeline/ColumnTransformer */\n",
       "  background-color: var(--sklearn-color-background);\n",
       "}\n",
       "\n",
       "/* Toggleable label */\n",
       "#sk-container-id-1 label.sk-toggleable__label {\n",
       "  cursor: pointer;\n",
       "  display: flex;\n",
       "  width: 100%;\n",
       "  margin-bottom: 0;\n",
       "  padding: 0.5em;\n",
       "  box-sizing: border-box;\n",
       "  text-align: center;\n",
       "  align-items: start;\n",
       "  justify-content: space-between;\n",
       "  gap: 0.5em;\n",
       "}\n",
       "\n",
       "#sk-container-id-1 label.sk-toggleable__label .caption {\n",
       "  font-size: 0.6rem;\n",
       "  font-weight: lighter;\n",
       "  color: var(--sklearn-color-text-muted);\n",
       "}\n",
       "\n",
       "#sk-container-id-1 label.sk-toggleable__label-arrow:before {\n",
       "  /* Arrow on the left of the label */\n",
       "  content: \"▸\";\n",
       "  float: left;\n",
       "  margin-right: 0.25em;\n",
       "  color: var(--sklearn-color-icon);\n",
       "}\n",
       "\n",
       "#sk-container-id-1 label.sk-toggleable__label-arrow:hover:before {\n",
       "  color: var(--sklearn-color-text);\n",
       "}\n",
       "\n",
       "/* Toggleable content - dropdown */\n",
       "\n",
       "#sk-container-id-1 div.sk-toggleable__content {\n",
       "  display: none;\n",
       "  text-align: left;\n",
       "  /* unfitted */\n",
       "  background-color: var(--sklearn-color-unfitted-level-0);\n",
       "}\n",
       "\n",
       "#sk-container-id-1 div.sk-toggleable__content.fitted {\n",
       "  /* fitted */\n",
       "  background-color: var(--sklearn-color-fitted-level-0);\n",
       "}\n",
       "\n",
       "#sk-container-id-1 div.sk-toggleable__content pre {\n",
       "  margin: 0.2em;\n",
       "  border-radius: 0.25em;\n",
       "  color: var(--sklearn-color-text);\n",
       "  /* unfitted */\n",
       "  background-color: var(--sklearn-color-unfitted-level-0);\n",
       "}\n",
       "\n",
       "#sk-container-id-1 div.sk-toggleable__content.fitted pre {\n",
       "  /* unfitted */\n",
       "  background-color: var(--sklearn-color-fitted-level-0);\n",
       "}\n",
       "\n",
       "#sk-container-id-1 input.sk-toggleable__control:checked~div.sk-toggleable__content {\n",
       "  /* Expand drop-down */\n",
       "  display: block;\n",
       "  width: 100%;\n",
       "  overflow: visible;\n",
       "}\n",
       "\n",
       "#sk-container-id-1 input.sk-toggleable__control:checked~label.sk-toggleable__label-arrow:before {\n",
       "  content: \"▾\";\n",
       "}\n",
       "\n",
       "/* Pipeline/ColumnTransformer-specific style */\n",
       "\n",
       "#sk-container-id-1 div.sk-label input.sk-toggleable__control:checked~label.sk-toggleable__label {\n",
       "  color: var(--sklearn-color-text);\n",
       "  background-color: var(--sklearn-color-unfitted-level-2);\n",
       "}\n",
       "\n",
       "#sk-container-id-1 div.sk-label.fitted input.sk-toggleable__control:checked~label.sk-toggleable__label {\n",
       "  background-color: var(--sklearn-color-fitted-level-2);\n",
       "}\n",
       "\n",
       "/* Estimator-specific style */\n",
       "\n",
       "/* Colorize estimator box */\n",
       "#sk-container-id-1 div.sk-estimator input.sk-toggleable__control:checked~label.sk-toggleable__label {\n",
       "  /* unfitted */\n",
       "  background-color: var(--sklearn-color-unfitted-level-2);\n",
       "}\n",
       "\n",
       "#sk-container-id-1 div.sk-estimator.fitted input.sk-toggleable__control:checked~label.sk-toggleable__label {\n",
       "  /* fitted */\n",
       "  background-color: var(--sklearn-color-fitted-level-2);\n",
       "}\n",
       "\n",
       "#sk-container-id-1 div.sk-label label.sk-toggleable__label,\n",
       "#sk-container-id-1 div.sk-label label {\n",
       "  /* The background is the default theme color */\n",
       "  color: var(--sklearn-color-text-on-default-background);\n",
       "}\n",
       "\n",
       "/* On hover, darken the color of the background */\n",
       "#sk-container-id-1 div.sk-label:hover label.sk-toggleable__label {\n",
       "  color: var(--sklearn-color-text);\n",
       "  background-color: var(--sklearn-color-unfitted-level-2);\n",
       "}\n",
       "\n",
       "/* Label box, darken color on hover, fitted */\n",
       "#sk-container-id-1 div.sk-label.fitted:hover label.sk-toggleable__label.fitted {\n",
       "  color: var(--sklearn-color-text);\n",
       "  background-color: var(--sklearn-color-fitted-level-2);\n",
       "}\n",
       "\n",
       "/* Estimator label */\n",
       "\n",
       "#sk-container-id-1 div.sk-label label {\n",
       "  font-family: monospace;\n",
       "  font-weight: bold;\n",
       "  display: inline-block;\n",
       "  line-height: 1.2em;\n",
       "}\n",
       "\n",
       "#sk-container-id-1 div.sk-label-container {\n",
       "  text-align: center;\n",
       "}\n",
       "\n",
       "/* Estimator-specific */\n",
       "#sk-container-id-1 div.sk-estimator {\n",
       "  font-family: monospace;\n",
       "  border: 1px dotted var(--sklearn-color-border-box);\n",
       "  border-radius: 0.25em;\n",
       "  box-sizing: border-box;\n",
       "  margin-bottom: 0.5em;\n",
       "  /* unfitted */\n",
       "  background-color: var(--sklearn-color-unfitted-level-0);\n",
       "}\n",
       "\n",
       "#sk-container-id-1 div.sk-estimator.fitted {\n",
       "  /* fitted */\n",
       "  background-color: var(--sklearn-color-fitted-level-0);\n",
       "}\n",
       "\n",
       "/* on hover */\n",
       "#sk-container-id-1 div.sk-estimator:hover {\n",
       "  /* unfitted */\n",
       "  background-color: var(--sklearn-color-unfitted-level-2);\n",
       "}\n",
       "\n",
       "#sk-container-id-1 div.sk-estimator.fitted:hover {\n",
       "  /* fitted */\n",
       "  background-color: var(--sklearn-color-fitted-level-2);\n",
       "}\n",
       "\n",
       "/* Specification for estimator info (e.g. \"i\" and \"?\") */\n",
       "\n",
       "/* Common style for \"i\" and \"?\" */\n",
       "\n",
       ".sk-estimator-doc-link,\n",
       "a:link.sk-estimator-doc-link,\n",
       "a:visited.sk-estimator-doc-link {\n",
       "  float: right;\n",
       "  font-size: smaller;\n",
       "  line-height: 1em;\n",
       "  font-family: monospace;\n",
       "  background-color: var(--sklearn-color-background);\n",
       "  border-radius: 1em;\n",
       "  height: 1em;\n",
       "  width: 1em;\n",
       "  text-decoration: none !important;\n",
       "  margin-left: 0.5em;\n",
       "  text-align: center;\n",
       "  /* unfitted */\n",
       "  border: var(--sklearn-color-unfitted-level-1) 1pt solid;\n",
       "  color: var(--sklearn-color-unfitted-level-1);\n",
       "}\n",
       "\n",
       ".sk-estimator-doc-link.fitted,\n",
       "a:link.sk-estimator-doc-link.fitted,\n",
       "a:visited.sk-estimator-doc-link.fitted {\n",
       "  /* fitted */\n",
       "  border: var(--sklearn-color-fitted-level-1) 1pt solid;\n",
       "  color: var(--sklearn-color-fitted-level-1);\n",
       "}\n",
       "\n",
       "/* On hover */\n",
       "div.sk-estimator:hover .sk-estimator-doc-link:hover,\n",
       ".sk-estimator-doc-link:hover,\n",
       "div.sk-label-container:hover .sk-estimator-doc-link:hover,\n",
       ".sk-estimator-doc-link:hover {\n",
       "  /* unfitted */\n",
       "  background-color: var(--sklearn-color-unfitted-level-3);\n",
       "  color: var(--sklearn-color-background);\n",
       "  text-decoration: none;\n",
       "}\n",
       "\n",
       "div.sk-estimator.fitted:hover .sk-estimator-doc-link.fitted:hover,\n",
       ".sk-estimator-doc-link.fitted:hover,\n",
       "div.sk-label-container:hover .sk-estimator-doc-link.fitted:hover,\n",
       ".sk-estimator-doc-link.fitted:hover {\n",
       "  /* fitted */\n",
       "  background-color: var(--sklearn-color-fitted-level-3);\n",
       "  color: var(--sklearn-color-background);\n",
       "  text-decoration: none;\n",
       "}\n",
       "\n",
       "/* Span, style for the box shown on hovering the info icon */\n",
       ".sk-estimator-doc-link span {\n",
       "  display: none;\n",
       "  z-index: 9999;\n",
       "  position: relative;\n",
       "  font-weight: normal;\n",
       "  right: .2ex;\n",
       "  padding: .5ex;\n",
       "  margin: .5ex;\n",
       "  width: min-content;\n",
       "  min-width: 20ex;\n",
       "  max-width: 50ex;\n",
       "  color: var(--sklearn-color-text);\n",
       "  box-shadow: 2pt 2pt 4pt #999;\n",
       "  /* unfitted */\n",
       "  background: var(--sklearn-color-unfitted-level-0);\n",
       "  border: .5pt solid var(--sklearn-color-unfitted-level-3);\n",
       "}\n",
       "\n",
       ".sk-estimator-doc-link.fitted span {\n",
       "  /* fitted */\n",
       "  background: var(--sklearn-color-fitted-level-0);\n",
       "  border: var(--sklearn-color-fitted-level-3);\n",
       "}\n",
       "\n",
       ".sk-estimator-doc-link:hover span {\n",
       "  display: block;\n",
       "}\n",
       "\n",
       "/* \"?\"-specific style due to the `<a>` HTML tag */\n",
       "\n",
       "#sk-container-id-1 a.estimator_doc_link {\n",
       "  float: right;\n",
       "  font-size: 1rem;\n",
       "  line-height: 1em;\n",
       "  font-family: monospace;\n",
       "  background-color: var(--sklearn-color-background);\n",
       "  border-radius: 1rem;\n",
       "  height: 1rem;\n",
       "  width: 1rem;\n",
       "  text-decoration: none;\n",
       "  /* unfitted */\n",
       "  color: var(--sklearn-color-unfitted-level-1);\n",
       "  border: var(--sklearn-color-unfitted-level-1) 1pt solid;\n",
       "}\n",
       "\n",
       "#sk-container-id-1 a.estimator_doc_link.fitted {\n",
       "  /* fitted */\n",
       "  border: var(--sklearn-color-fitted-level-1) 1pt solid;\n",
       "  color: var(--sklearn-color-fitted-level-1);\n",
       "}\n",
       "\n",
       "/* On hover */\n",
       "#sk-container-id-1 a.estimator_doc_link:hover {\n",
       "  /* unfitted */\n",
       "  background-color: var(--sklearn-color-unfitted-level-3);\n",
       "  color: var(--sklearn-color-background);\n",
       "  text-decoration: none;\n",
       "}\n",
       "\n",
       "#sk-container-id-1 a.estimator_doc_link.fitted:hover {\n",
       "  /* fitted */\n",
       "  background-color: var(--sklearn-color-fitted-level-3);\n",
       "}\n",
       "\n",
       ".estimator-table summary {\n",
       "    padding: .5rem;\n",
       "    font-family: monospace;\n",
       "    cursor: pointer;\n",
       "}\n",
       "\n",
       ".estimator-table details[open] {\n",
       "    padding-left: 0.1rem;\n",
       "    padding-right: 0.1rem;\n",
       "    padding-bottom: 0.3rem;\n",
       "}\n",
       "\n",
       ".estimator-table .parameters-table {\n",
       "    margin-left: auto !important;\n",
       "    margin-right: auto !important;\n",
       "}\n",
       "\n",
       ".estimator-table .parameters-table tr:nth-child(odd) {\n",
       "    background-color: #fff;\n",
       "}\n",
       "\n",
       ".estimator-table .parameters-table tr:nth-child(even) {\n",
       "    background-color: #f6f6f6;\n",
       "}\n",
       "\n",
       ".estimator-table .parameters-table tr:hover {\n",
       "    background-color: #e0e0e0;\n",
       "}\n",
       "\n",
       ".estimator-table table td {\n",
       "    border: 1px solid rgba(106, 105, 104, 0.232);\n",
       "}\n",
       "\n",
       ".user-set td {\n",
       "    color:rgb(255, 94, 0);\n",
       "    text-align: left;\n",
       "}\n",
       "\n",
       ".user-set td.value pre {\n",
       "    color:rgb(255, 94, 0) !important;\n",
       "    background-color: transparent !important;\n",
       "}\n",
       "\n",
       ".default td {\n",
       "    color: black;\n",
       "    text-align: left;\n",
       "}\n",
       "\n",
       ".user-set td i,\n",
       ".default td i {\n",
       "    color: black;\n",
       "}\n",
       "\n",
       ".copy-paste-icon {\n",
       "    background-image: url(data:image/svg+xml;base64,PHN2ZyB4bWxucz0iaHR0cDovL3d3dy53My5vcmcvMjAwMC9zdmciIHZpZXdCb3g9IjAgMCA0NDggNTEyIj48IS0tIUZvbnQgQXdlc29tZSBGcmVlIDYuNy4yIGJ5IEBmb250YXdlc29tZSAtIGh0dHBzOi8vZm9udGF3ZXNvbWUuY29tIExpY2Vuc2UgLSBodHRwczovL2ZvbnRhd2Vzb21lLmNvbS9saWNlbnNlL2ZyZWUgQ29weXJpZ2h0IDIwMjUgRm9udGljb25zLCBJbmMuLS0+PHBhdGggZD0iTTIwOCAwTDMzMi4xIDBjMTIuNyAwIDI0LjkgNS4xIDMzLjkgMTQuMWw2Ny45IDY3LjljOSA5IDE0LjEgMjEuMiAxNC4xIDMzLjlMNDQ4IDMzNmMwIDI2LjUtMjEuNSA0OC00OCA0OGwtMTkyIDBjLTI2LjUgMC00OC0yMS41LTQ4LTQ4bDAtMjg4YzAtMjYuNSAyMS41LTQ4IDQ4LTQ4ek00OCAxMjhsODAgMCAwIDY0LTY0IDAgMCAyNTYgMTkyIDAgMC0zMiA2NCAwIDAgNDhjMCAyNi41LTIxLjUgNDgtNDggNDhMNDggNTEyYy0yNi41IDAtNDgtMjEuNS00OC00OEwwIDE3NmMwLTI2LjUgMjEuNS00OCA0OC00OHoiLz48L3N2Zz4=);\n",
       "    background-repeat: no-repeat;\n",
       "    background-size: 14px 14px;\n",
       "    background-position: 0;\n",
       "    display: inline-block;\n",
       "    width: 14px;\n",
       "    height: 14px;\n",
       "    cursor: pointer;\n",
       "}\n",
       "</style><body><div id=\"sk-container-id-1\" class=\"sk-top-container\"><div class=\"sk-text-repr-fallback\"><pre>GaussianNB()</pre><b>In a Jupyter environment, please rerun this cell to show the HTML representation or trust the notebook. <br />On GitHub, the HTML representation is unable to render, please try loading this page with nbviewer.org.</b></div><div class=\"sk-container\" hidden><div class=\"sk-item\"><div class=\"sk-estimator fitted sk-toggleable\"><input class=\"sk-toggleable__control sk-hidden--visually\" id=\"sk-estimator-id-1\" type=\"checkbox\" checked><label for=\"sk-estimator-id-1\" class=\"sk-toggleable__label fitted sk-toggleable__label-arrow\"><div><div>GaussianNB</div></div><div><a class=\"sk-estimator-doc-link fitted\" rel=\"noreferrer\" target=\"_blank\" href=\"https://scikit-learn.org/1.7/modules/generated/sklearn.naive_bayes.GaussianNB.html\">?<span>Documentation for GaussianNB</span></a><span class=\"sk-estimator-doc-link fitted\">i<span>Fitted</span></span></div></label><div class=\"sk-toggleable__content fitted\" data-param-prefix=\"\">\n",
       "        <div class=\"estimator-table\">\n",
       "            <details>\n",
       "                <summary>Parameters</summary>\n",
       "                <table class=\"parameters-table\">\n",
       "                  <tbody>\n",
       "                    \n",
       "        <tr class=\"default\">\n",
       "            <td><i class=\"copy-paste-icon\"\n",
       "                 onclick=\"copyToClipboard('priors',\n",
       "                          this.parentElement.nextElementSibling)\"\n",
       "            ></i></td>\n",
       "            <td class=\"param\">priors&nbsp;</td>\n",
       "            <td class=\"value\">None</td>\n",
       "        </tr>\n",
       "    \n",
       "\n",
       "        <tr class=\"default\">\n",
       "            <td><i class=\"copy-paste-icon\"\n",
       "                 onclick=\"copyToClipboard('var_smoothing',\n",
       "                          this.parentElement.nextElementSibling)\"\n",
       "            ></i></td>\n",
       "            <td class=\"param\">var_smoothing&nbsp;</td>\n",
       "            <td class=\"value\">1e-09</td>\n",
       "        </tr>\n",
       "    \n",
       "                  </tbody>\n",
       "                </table>\n",
       "            </details>\n",
       "        </div>\n",
       "    </div></div></div></div></div><script>function copyToClipboard(text, element) {\n",
       "    // Get the parameter prefix from the closest toggleable content\n",
       "    const toggleableContent = element.closest('.sk-toggleable__content');\n",
       "    const paramPrefix = toggleableContent ? toggleableContent.dataset.paramPrefix : '';\n",
       "    const fullParamName = paramPrefix ? `${paramPrefix}${text}` : text;\n",
       "\n",
       "    const originalStyle = element.style;\n",
       "    const computedStyle = window.getComputedStyle(element);\n",
       "    const originalWidth = computedStyle.width;\n",
       "    const originalHTML = element.innerHTML.replace('Copied!', '');\n",
       "\n",
       "    navigator.clipboard.writeText(fullParamName)\n",
       "        .then(() => {\n",
       "            element.style.width = originalWidth;\n",
       "            element.style.color = 'green';\n",
       "            element.innerHTML = \"Copied!\";\n",
       "\n",
       "            setTimeout(() => {\n",
       "                element.innerHTML = originalHTML;\n",
       "                element.style = originalStyle;\n",
       "            }, 2000);\n",
       "        })\n",
       "        .catch(err => {\n",
       "            console.error('Failed to copy:', err);\n",
       "            element.style.color = 'red';\n",
       "            element.innerHTML = \"Failed!\";\n",
       "            setTimeout(() => {\n",
       "                element.innerHTML = originalHTML;\n",
       "                element.style = originalStyle;\n",
       "            }, 2000);\n",
       "        });\n",
       "    return false;\n",
       "}\n",
       "\n",
       "document.querySelectorAll('.fa-regular.fa-copy').forEach(function(element) {\n",
       "    const toggleableContent = element.closest('.sk-toggleable__content');\n",
       "    const paramPrefix = toggleableContent ? toggleableContent.dataset.paramPrefix : '';\n",
       "    const paramName = element.parentElement.nextElementSibling.textContent.trim();\n",
       "    const fullParamName = paramPrefix ? `${paramPrefix}${paramName}` : paramName;\n",
       "\n",
       "    element.setAttribute('title', fullParamName);\n",
       "});\n",
       "</script></body>"
      ],
      "text/plain": [
       "GaussianNB()"
      ]
     },
     "execution_count": 59,
     "metadata": {},
     "output_type": "execute_result"
    }
   ],
   "source": [
    "classificador.fit(X_train, y_train)"
   ]
  },
  {
   "cell_type": "code",
   "execution_count": 60,
   "id": "48545251",
   "metadata": {},
   "outputs": [
    {
     "data": {
      "text/plain": [
       "0.7945425361155698"
      ]
     },
     "execution_count": 60,
     "metadata": {},
     "output_type": "execute_result"
    }
   ],
   "source": [
    "classificador.score(X_train, y_train)"
   ]
  },
  {
   "cell_type": "code",
   "execution_count": 63,
   "id": "5dc4a6cb",
   "metadata": {},
   "outputs": [
    {
     "data": {
      "text/plain": [
       "<sklearn.metrics._plot.confusion_matrix.ConfusionMatrixDisplay at 0x267f7e7be30>"
      ]
     },
     "execution_count": 63,
     "metadata": {},
     "output_type": "execute_result"
    },
    {
     "data": {
      "image/png": "[encoded data removed]",
      "text/plain": [
       "<Figure size 640x480 with 2 Axes>"
      ]
     },
     "metadata": {},
     "output_type": "display_data"
    }
   ],
   "source": [
    "predict = classificador.predict(X_test)\n",
    "accuracy = accuracy_score(y_test, predict)\n",
    "cm = confusion_matrix(y_test, predict)\n",
    "ConfusionMatrixDisplay(cm).plot()"
   ]
  },
  {
   "cell_type": "markdown",
   "id": "cd715f65",
   "metadata": {},
   "source": [
    "$$ \\Large Recal = \\frac{TP}{TP + FN} $$\n",
    "\n",
    "&nbsp;\n",
    "\n",
    "\n",
    "$$ \\Large Precision = \\frac{TP}{TP + FP} $$\n",
    "\n",
    "&nbsp;\n",
    "\n",
    "\n",
    "$$ \\Large F1 = 2 \\cdot \\frac{1}{\\frac{1}{Precision} + \\frac{1}{Recal}} $$"
   ]
  },
  {
   "cell_type": "code",
   "execution_count": 65,
   "id": "64b8eeb4",
   "metadata": {},
   "outputs": [
    {
     "name": "stdout",
     "output_type": "stream",
     "text": [
      "              precision    recall  f1-score   support\n",
      "\n",
      "           0       0.80      0.84      0.82       157\n",
      "           1       0.75      0.69      0.72       111\n",
      "\n",
      "    accuracy                           0.78       268\n",
      "   macro avg       0.78      0.77      0.77       268\n",
      "weighted avg       0.78      0.78      0.78       268\n",
      "\n"
     ]
    }
   ],
   "source": [
    "print(classification_report(y_test, predict))"
   ]
  },
  {
   "cell_type": "markdown",
   "id": "5336cdf9",
   "metadata": {},
   "source": [
    "https://www.youtube.com/watch?v=HZGCoVF3YvM"
   ]
  }
 ],
 "metadata": {
  "kernelspec": {
   "display_name": "tf",
   "language": "python",
   "name": "python3"
  },
  "language_info": {
   "codemirror_mode": {
    "name": "ipython",
    "version": 3
   },
   "file_extension": ".py",
   "mimetype": "text/x-python",
   "name": "python",
   "nbconvert_exporter": "python",
   "pygments_lexer": "ipython3",
   "version": "3.12.11"
  }
 },
 "nbformat": 4,
 "nbformat_minor": 5
}
