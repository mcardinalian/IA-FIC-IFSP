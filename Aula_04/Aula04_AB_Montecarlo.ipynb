{
 "cells": [
  {
   "cell_type": "markdown",
   "metadata": {},
   "source": [
    "# Curso FIC - Aula 05 - Teste A/B e simulação estatística\n",
    "\n",
    "11/10/2021 \n",
    "\n",
    "Piracicaba - SP\n",
    "\n",
    "Gustavo Voltani von Atzingen"
   ]
  },
  {
   "cell_type": "markdown",
   "metadata": {},
   "source": [
    "## Tópicos\n",
    "\n",
    "* Método de Monte Carlo para cálculo de probabilidades\n",
    "\n",
    "* Gerando distribuições estatísticas com MC\n",
    "\n",
    "* Distribuição Binomial - Curva Gaussiana\n",
    "\n",
    "* Testes A/B\n",
    "\n",
    "* Testes de hipótese\n",
    "\n",
    "* Testes frequentistas vs Boostrap (MC)\n",
    "\n",
    "* Probabilidade de probabilidades"
   ]
  },
  {
   "cell_type": "code",
   "execution_count": 1,
   "metadata": {},
   "outputs": [],
   "source": [
    "import numpy as np\n",
    "import pandas as pd\n",
    "import matplotlib.pyplot as plt\n",
    "import plotly.express as px\n",
    "\n",
    "import plotly\n",
    "from plotly.graph_objs import graph_objs as go\n",
    "\n",
    "# plotly.offline.init_notebook_mode()"
   ]
  },
  {
   "cell_type": "markdown",
   "metadata": {},
   "source": [
    "## Cálculo de probablilidades com Monte Carlo\n",
    "\n",
    "* \n",
    "* Stanislaw Ulam\n",
    "* John von Neumann"
   ]
  },
  {
   "cell_type": "markdown",
   "id": "7aa171a0",
   "metadata": {},
   "source": [
    "### Calculo de pi\n",
    "\n",
    "https://www.youtube.com/watch?v=M34TO71SKGk"
   ]
  },
  {
   "cell_type": "code",
   "execution_count": 2,
   "id": "64f51d88",
   "metadata": {},
   "outputs": [],
   "source": [
    "qt_amostras = 100000"
   ]
  },
  {
   "cell_type": "code",
   "execution_count": 3,
   "metadata": {},
   "outputs": [],
   "source": [
    "pt = 2*np.random.random((qt_amostras, 2)) - 1"
   ]
  },
  {
   "cell_type": "code",
   "execution_count": 4,
   "metadata": {},
   "outputs": [],
   "source": [
    "dist = np.sqrt(pt[:, 0]**2 + pt[:, 1]**2)"
   ]
  },
  {
   "cell_type": "code",
   "execution_count": 5,
   "metadata": {},
   "outputs": [
    {
     "data": {
      "text/plain": [
       "array([    0,     2,     3, ..., 99997, 99998, 99999], shape=(78477,))"
      ]
     },
     "execution_count": 5,
     "metadata": {},
     "output_type": "execute_result"
    }
   ],
   "source": [
    "np.where(dist < 1)[0]"
   ]
  },
  {
   "cell_type": "code",
   "execution_count": 6,
   "id": "9f921be9",
   "metadata": {},
   "outputs": [
    {
     "data": {
      "text/plain": [
       "78477"
      ]
     },
     "execution_count": 6,
     "metadata": {},
     "output_type": "execute_result"
    }
   ],
   "source": [
    "len(np.where(dist < 1)[0])"
   ]
  },
  {
   "cell_type": "code",
   "execution_count": 7,
   "id": "60a7c889",
   "metadata": {},
   "outputs": [
    {
     "name": "stdout",
     "output_type": "stream",
     "text": [
      "3.13908\n"
     ]
    }
   ],
   "source": [
    "pi = 4*len(np.where(dist < 1)[0])/qt_amostras\n",
    "print(pi)"
   ]
  },
  {
   "cell_type": "markdown",
   "metadata": {},
   "source": [
    "### Qual a chance de ganhar um ataque no war ?"
   ]
  },
  {
   "cell_type": "code",
   "execution_count": 8,
   "id": "a1bb9f70",
   "metadata": {},
   "outputs": [
    {
     "name": "stdout",
     "output_type": "stream",
     "text": [
      "[[5 6 4]\n",
      " [1 2 4]]\n"
     ]
    },
    {
     "data": {
      "text/plain": [
       "array([0, 0, 0])"
      ]
     },
     "execution_count": 8,
     "metadata": {},
     "output_type": "execute_result"
    }
   ],
   "source": [
    "a = np.random.choice(range(1, 7), (2, 3))\n",
    "print(a)\n",
    "a.argmax(axis=0)"
   ]
  },
  {
   "cell_type": "code",
   "execution_count": 9,
   "metadata": {},
   "outputs": [],
   "source": [
    "def rodada():\n",
    "    jogada = np.random.choice(range(1, 7), (2, 3))\n",
    "    jogada.sort()\n",
    "    return jogada.argmax(axis=0).sum()"
   ]
  },
  {
   "cell_type": "code",
   "execution_count": 10,
   "metadata": {},
   "outputs": [],
   "source": [
    "dados_j1, dados_j2 = [500], [500]\n",
    "while dados_j1[-1] > 2 and dados_j2[-1] > 2:\n",
    "    nota = rodada()\n",
    "    dados_j1.append(dados_j1[-1] - nota)\n",
    "    dados_j2.append(dados_j2[-1] - 3 + nota)"
   ]
  },
  {
   "cell_type": "code",
   "execution_count": 11,
   "metadata": {},
   "outputs": [
    {
     "data": {
      "application/vnd.plotly.v1+json": {
       "config": {
        "plotlyServerURL": "https://plot.ly"
       },
       "data": [
        {
         "hovertemplate": "variable=wide_variable_0<br>x=%{x}<br>value=%{y}<extra></extra>",
         "legendgroup": "wide_variable_0",
         "line": {
          "color": "#636efa",
          "dash": "solid"
         },
         "marker": {
          "symbol": "circle"
         },
         "mode": "lines",
         "name": "wide_variable_0",
         "orientation": "v",
         "showlegend": true,
         "type": "scatter",
         "x": {
          "bdata": "AAABAAIAAwAEAAUABgAHAAgACQAKAAsADAANAA4ADwAQABEAEgATABQAFQAWABcAGAAZABoAGwAcAB0AHgAfACAAIQAiACMAJAAlACYAJwAoACkAKgArACwALQAuAC8AMAAxADIAMwA0ADUANgA3ADgAOQA6ADsAPAA9AD4APwBAAEEAQgBDAEQARQBGAEcASABJAEoASwBMAE0ATgBPAFAAUQBSAFMAVABVAFYAVwBYAFkAWgBbAFwAXQBeAF8AYABhAGIAYwBkAGUAZgBnAGgAaQBqAGsAbABtAG4AbwBwAHEAcgBzAHQAdQB2AHcAeAB5AHoAewB8AH0AfgB/AIAAgQCCAIMAhACFAIYAhwCIAIkAigCLAIwAjQCOAI8AkACRAJIAkwCUAJUAlgCXAJgAmQCaAJsAnACdAJ4AnwCgAKEAogCjAKQApQCmAKcAqACpAKoAqwCsAK0ArgCvALAAsQCyALMAtAC1ALYAtwC4ALkAugC7ALwAvQC+AL8AwADBAMIAwwDEAMUAxgDHAMgAyQDKAMsAzADNAM4AzwDQANEA0gDTANQA1QDWANcA2ADZANoA2wDcAN0A3gDfAOAA4QDiAOMA5ADlAOYA5wDoAOkA6gDrAOwA7QDuAO8A8ADxAPIA8wD0APUA9gD3APgA+QD6APsA/AD9AP4A/wAAAQEBAgEDAQQBBQEGAQcBCAEJAQoB",
          "dtype": "i2"
         },
         "xaxis": "x",
         "y": {
          "bdata": "9AH0AfIB8QHvAewB6gHqAegB5QHjAeAB3wHdAdoB2QHYAdYB1gHWAdMB0wHQAc4BzgHMAcsBywHKAcoByQHIAcUBxQHDAcIBwgG/Ab8BvgG+AbsBuAG1AbUBtAG0AbQBsQGuAa4BrgGsAasBqQGpAagBpgGlAaUBpAGiAZ8BnQGdAZsBmgGXAZUBkwGRAZEBkQGRAZABjQGMAYwBigGKAYkBhwGHAYcBhwGGAYYBhAGEAYEBgQGAAX4BfgF9AXwBfAF7AXsBeQF4AXYBdAF0AXQBcgFwAW8BbQFsAWoBagFoAWcBZQFiAWIBYAFeAV0BXAFaAVoBWgFaAVkBVgFUAVMBUwFTAVABTwFOAU4BTQFNAUsBSgFKAUgBRwFHAUcBRgFFAUUBQwFCAUEBPwE+AT0BPAE8AToBNwE3ATcBNwE2ATYBNgE0ATQBMwEzATMBMwEzATIBMQEvAS8BLwEuASwBLAEsASwBKgEpAScBJAEjASEBIAEeAR4BHgEcARkBGAEXARYBFgEWARYBFQESARIBEgEQARABDgEOAQ0BDQELAQsBCAEIAQUBBQEDAQIB/wD8APwA+gD6APoA+QD3APcA9gD1APMA8wDzAPIA8ADwAO4A7QDsAOsA6wDoAOUA4wDiAOIA4gDhAOEA4QDhAN8A3wDdANwA3ADaANcA1gDTANMA0gDQANAA0ADNAM0AzQDKAMgA",
          "dtype": "i2"
         },
         "yaxis": "y"
        },
        {
         "hovertemplate": "variable=wide_variable_1<br>x=%{x}<br>value=%{y}<extra></extra>",
         "legendgroup": "wide_variable_1",
         "line": {
          "color": "#EF553B",
          "dash": "solid"
         },
         "marker": {
          "symbol": "circle"
         },
         "mode": "lines",
         "name": "wide_variable_1",
         "orientation": "v",
         "showlegend": true,
         "type": "scatter",
         "x": {
          "bdata": "AAABAAIAAwAEAAUABgAHAAgACQAKAAsADAANAA4ADwAQABEAEgATABQAFQAWABcAGAAZABoAGwAcAB0AHgAfACAAIQAiACMAJAAlACYAJwAoACkAKgArACwALQAuAC8AMAAxADIAMwA0ADUANgA3ADgAOQA6ADsAPAA9AD4APwBAAEEAQgBDAEQARQBGAEcASABJAEoASwBMAE0ATgBPAFAAUQBSAFMAVABVAFYAVwBYAFkAWgBbAFwAXQBeAF8AYABhAGIAYwBkAGUAZgBnAGgAaQBqAGsAbABtAG4AbwBwAHEAcgBzAHQAdQB2AHcAeAB5AHoAewB8AH0AfgB/AIAAgQCCAIMAhACFAIYAhwCIAIkAigCLAIwAjQCOAI8AkACRAJIAkwCUAJUAlgCXAJgAmQCaAJsAnACdAJ4AnwCgAKEAogCjAKQApQCmAKcAqACpAKoAqwCsAK0ArgCvALAAsQCyALMAtAC1ALYAtwC4ALkAugC7ALwAvQC+AL8AwADBAMIAwwDEAMUAxgDHAMgAyQDKAMsAzADNAM4AzwDQANEA0gDTANQA1QDWANcA2ADZANoA2wDcAN0A3gDfAOAA4QDiAOMA5ADlAOYA5wDoAOkA6gDrAOwA7QDuAO8A8ADxAPIA8wD0APUA9gD3APgA+QD6APsA/AD9AP4A/wAAAQEBAgEDAQQBBQEGAQcBCAEJAQoB",
          "dtype": "i2"
         },
         "xaxis": "x",
         "y": {
          "bdata": "9AHxAfAB7gHtAe0B7AHpAegB6AHnAecB5QHkAeQB4gHgAd8B3AHZAdkB1gHWAdUB0gHRAc8BzAHKAccBxQHDAcMBwAG/Ab0BugG6AbcBtQGyAbIBsgGyAa8BrQGqAacBpwGnAaQBoQGgAZ4BnQGaAZgBlwGVAZIBkAGPAY8BjgGLAYoBiAGIAYcBhgGFAYIBfwF8AXoBegF4AXUBdAFxAW8BbgFrAWgBZQFjAWABXwFcAVwBWQFXAVYBUwFRAU8BTAFKAUcBRgFEAUMBQgE/ATwBOwE6ATgBNwE1ATQBMQEwAS4BLQEtASoBKQEoASYBJAEjASABHQEaARgBGAEXARUBEgEPAQ8BDQELAQgBBgEDAQIBAAH9APwA+gD3APQA8gDwAO0A7ADqAOgA5wDlAOMA4QDeAN0A3QDaANcA1ADSAM8AzADLAMgAxgDDAMAAvQC6ALgAtgC1ALIArwCtAKwAqQCmAKMAogCgAJ8AnwCdAJwAmgCZAJYAkwCSAJIAkACOAIwAiQCGAIMAgQCBAH4AewB6AHcAdgBzAHEAbgBtAGoAagBnAGcAZABjAGEAYQBhAF4AXQBaAFcAVQBUAFEATwBNAEwASQBGAEQAQwBAAD8APQA7ADkANgA2ADYANQAzADAALQArACgAJQAiACEAHgAdABsAGAAXABcAFQAVABIAEAAPAAwACQAJAAYAAwADAAIA",
          "dtype": "i2"
         },
         "yaxis": "y"
        }
       ],
       "layout": {
        "height": 600,
        "legend": {
         "title": {
          "text": "variable"
         },
         "tracegroupgap": 0
        },
        "margin": {
         "t": 60
        },
        "template": {
         "data": {
          "bar": [
           {
            "error_x": {
             "color": "#2a3f5f"
            },
            "error_y": {
             "color": "#2a3f5f"
            },
            "marker": {
             "line": {
              "color": "#E5ECF6",
              "width": 0.5
             },
             "pattern": {
              "fillmode": "overlay",
              "size": 10,
              "solidity": 0.2
             }
            },
            "type": "bar"
           }
          ],
          "barpolar": [
           {
            "marker": {
             "line": {
              "color": "#E5ECF6",
              "width": 0.5
             },
             "pattern": {
              "fillmode": "overlay",
              "size": 10,
              "solidity": 0.2
             }
            },
            "type": "barpolar"
           }
          ],
          "carpet": [
           {
            "aaxis": {
             "endlinecolor": "#2a3f5f",
             "gridcolor": "white",
             "linecolor": "white",
             "minorgridcolor": "white",
             "startlinecolor": "#2a3f5f"
            },
            "baxis": {
             "endlinecolor": "#2a3f5f",
             "gridcolor": "white",
             "linecolor": "white",
             "minorgridcolor": "white",
             "startlinecolor": "#2a3f5f"
            },
            "type": "carpet"
           }
          ],
          "choropleth": [
           {
            "colorbar": {
             "outlinewidth": 0,
             "ticks": ""
            },
            "type": "choropleth"
           }
          ],
          "contour": [
           {
            "colorbar": {
             "outlinewidth": 0,
             "ticks": ""
            },
            "colorscale": [
             [
              0,
              "#0d0887"
             ],
             [
              0.1111111111111111,
              "#46039f"
             ],
             [
              0.2222222222222222,
              "#7201a8"
             ],
             [
              0.3333333333333333,
              "#9c179e"
             ],
             [
              0.4444444444444444,
              "#bd3786"
             ],
             [
              0.5555555555555556,
              "#d8576b"
             ],
             [
              0.6666666666666666,
              "#ed7953"
             ],
             [
              0.7777777777777778,
              "#fb9f3a"
             ],
             [
              0.8888888888888888,
              "#fdca26"
             ],
             [
              1,
              "#f0f921"
             ]
            ],
            "type": "contour"
           }
          ],
          "contourcarpet": [
           {
            "colorbar": {
             "outlinewidth": 0,
             "ticks": ""
            },
            "type": "contourcarpet"
           }
          ],
          "heatmap": [
           {
            "colorbar": {
             "outlinewidth": 0,
             "ticks": ""
            },
            "colorscale": [
             [
              0,
              "#0d0887"
             ],
             [
              0.1111111111111111,
              "#46039f"
             ],
             [
              0.2222222222222222,
              "#7201a8"
             ],
             [
              0.3333333333333333,
              "#9c179e"
             ],
             [
              0.4444444444444444,
              "#bd3786"
             ],
             [
              0.5555555555555556,
              "#d8576b"
             ],
             [
              0.6666666666666666,
              "#ed7953"
             ],
             [
              0.7777777777777778,
              "#fb9f3a"
             ],
             [
              0.8888888888888888,
              "#fdca26"
             ],
             [
              1,
              "#f0f921"
             ]
            ],
            "type": "heatmap"
           }
          ],
          "histogram": [
           {
            "marker": {
             "pattern": {
              "fillmode": "overlay",
              "size": 10,
              "solidity": 0.2
             }
            },
            "type": "histogram"
           }
          ],
          "histogram2d": [
           {
            "colorbar": {
             "outlinewidth": 0,
             "ticks": ""
            },
            "colorscale": [
             [
              0,
              "#0d0887"
             ],
             [
              0.1111111111111111,
              "#46039f"
             ],
             [
              0.2222222222222222,
              "#7201a8"
             ],
             [
              0.3333333333333333,
              "#9c179e"
             ],
             [
              0.4444444444444444,
              "#bd3786"
             ],
             [
              0.5555555555555556,
              "#d8576b"
             ],
             [
              0.6666666666666666,
              "#ed7953"
             ],
             [
              0.7777777777777778,
              "#fb9f3a"
             ],
             [
              0.8888888888888888,
              "#fdca26"
             ],
             [
              1,
              "#f0f921"
             ]
            ],
            "type": "histogram2d"
           }
          ],
          "histogram2dcontour": [
           {
            "colorbar": {
             "outlinewidth": 0,
             "ticks": ""
            },
            "colorscale": [
             [
              0,
              "#0d0887"
             ],
             [
              0.1111111111111111,
              "#46039f"
             ],
             [
              0.2222222222222222,
              "#7201a8"
             ],
             [
              0.3333333333333333,
              "#9c179e"
             ],
             [
              0.4444444444444444,
              "#bd3786"
             ],
             [
              0.5555555555555556,
              "#d8576b"
             ],
             [
              0.6666666666666666,
              "#ed7953"
             ],
             [
              0.7777777777777778,
              "#fb9f3a"
             ],
             [
              0.8888888888888888,
              "#fdca26"
             ],
             [
              1,
              "#f0f921"
             ]
            ],
            "type": "histogram2dcontour"
           }
          ],
          "mesh3d": [
           {
            "colorbar": {
             "outlinewidth": 0,
             "ticks": ""
            },
            "type": "mesh3d"
           }
          ],
          "parcoords": [
           {
            "line": {
             "colorbar": {
              "outlinewidth": 0,
              "ticks": ""
             }
            },
            "type": "parcoords"
           }
          ],
          "pie": [
           {
            "automargin": true,
            "type": "pie"
           }
          ],
          "scatter": [
           {
            "fillpattern": {
             "fillmode": "overlay",
             "size": 10,
             "solidity": 0.2
            },
            "type": "scatter"
           }
          ],
          "scatter3d": [
           {
            "line": {
             "colorbar": {
              "outlinewidth": 0,
              "ticks": ""
             }
            },
            "marker": {
             "colorbar": {
              "outlinewidth": 0,
              "ticks": ""
             }
            },
            "type": "scatter3d"
           }
          ],
          "scattercarpet": [
           {
            "marker": {
             "colorbar": {
              "outlinewidth": 0,
              "ticks": ""
             }
            },
            "type": "scattercarpet"
           }
          ],
          "scattergeo": [
           {
            "marker": {
             "colorbar": {
              "outlinewidth": 0,
              "ticks": ""
             }
            },
            "type": "scattergeo"
           }
          ],
          "scattergl": [
           {
            "marker": {
             "colorbar": {
              "outlinewidth": 0,
              "ticks": ""
             }
            },
            "type": "scattergl"
           }
          ],
          "scattermap": [
           {
            "marker": {
             "colorbar": {
              "outlinewidth": 0,
              "ticks": ""
             }
            },
            "type": "scattermap"
           }
          ],
          "scattermapbox": [
           {
            "marker": {
             "colorbar": {
              "outlinewidth": 0,
              "ticks": ""
             }
            },
            "type": "scattermapbox"
           }
          ],
          "scatterpolar": [
           {
            "marker": {
             "colorbar": {
              "outlinewidth": 0,
              "ticks": ""
             }
            },
            "type": "scatterpolar"
           }
          ],
          "scatterpolargl": [
           {
            "marker": {
             "colorbar": {
              "outlinewidth": 0,
              "ticks": ""
             }
            },
            "type": "scatterpolargl"
           }
          ],
          "scatterternary": [
           {
            "marker": {
             "colorbar": {
              "outlinewidth": 0,
              "ticks": ""
             }
            },
            "type": "scatterternary"
           }
          ],
          "surface": [
           {
            "colorbar": {
             "outlinewidth": 0,
             "ticks": ""
            },
            "colorscale": [
             [
              0,
              "#0d0887"
             ],
             [
              0.1111111111111111,
              "#46039f"
             ],
             [
              0.2222222222222222,
              "#7201a8"
             ],
             [
              0.3333333333333333,
              "#9c179e"
             ],
             [
              0.4444444444444444,
              "#bd3786"
             ],
             [
              0.5555555555555556,
              "#d8576b"
             ],
             [
              0.6666666666666666,
              "#ed7953"
             ],
             [
              0.7777777777777778,
              "#fb9f3a"
             ],
             [
              0.8888888888888888,
              "#fdca26"
             ],
             [
              1,
              "#f0f921"
             ]
            ],
            "type": "surface"
           }
          ],
          "table": [
           {
            "cells": {
             "fill": {
              "color": "#EBF0F8"
             },
             "line": {
              "color": "white"
             }
            },
            "header": {
             "fill": {
              "color": "#C8D4E3"
             },
             "line": {
              "color": "white"
             }
            },
            "type": "table"
           }
          ]
         },
         "layout": {
          "annotationdefaults": {
           "arrowcolor": "#2a3f5f",
           "arrowhead": 0,
           "arrowwidth": 1
          },
          "autotypenumbers": "strict",
          "coloraxis": {
           "colorbar": {
            "outlinewidth": 0,
            "ticks": ""
           }
          },
          "colorscale": {
           "diverging": [
            [
             0,
             "#8e0152"
            ],
            [
             0.1,
             "#c51b7d"
            ],
            [
             0.2,
             "#de77ae"
            ],
            [
             0.3,
             "#f1b6da"
            ],
            [
             0.4,
             "#fde0ef"
            ],
            [
             0.5,
             "#f7f7f7"
            ],
            [
             0.6,
             "#e6f5d0"
            ],
            [
             0.7,
             "#b8e186"
            ],
            [
             0.8,
             "#7fbc41"
            ],
            [
             0.9,
             "#4d9221"
            ],
            [
             1,
             "#276419"
            ]
           ],
           "sequential": [
            [
             0,
             "#0d0887"
            ],
            [
             0.1111111111111111,
             "#46039f"
            ],
            [
             0.2222222222222222,
             "#7201a8"
            ],
            [
             0.3333333333333333,
             "#9c179e"
            ],
            [
             0.4444444444444444,
             "#bd3786"
            ],
            [
             0.5555555555555556,
             "#d8576b"
            ],
            [
             0.6666666666666666,
             "#ed7953"
            ],
            [
             0.7777777777777778,
             "#fb9f3a"
            ],
            [
             0.8888888888888888,
             "#fdca26"
            ],
            [
             1,
             "#f0f921"
            ]
           ],
           "sequentialminus": [
            [
             0,
             "#0d0887"
            ],
            [
             0.1111111111111111,
             "#46039f"
            ],
            [
             0.2222222222222222,
             "#7201a8"
            ],
            [
             0.3333333333333333,
             "#9c179e"
            ],
            [
             0.4444444444444444,
             "#bd3786"
            ],
            [
             0.5555555555555556,
             "#d8576b"
            ],
            [
             0.6666666666666666,
             "#ed7953"
            ],
            [
             0.7777777777777778,
             "#fb9f3a"
            ],
            [
             0.8888888888888888,
             "#fdca26"
            ],
            [
             1,
             "#f0f921"
            ]
           ]
          },
          "colorway": [
           "#636efa",
           "#EF553B",
           "#00cc96",
           "#ab63fa",
           "#FFA15A",
           "#19d3f3",
           "#FF6692",
           "#B6E880",
           "#FF97FF",
           "#FECB52"
          ],
          "font": {
           "color": "#2a3f5f"
          },
          "geo": {
           "bgcolor": "white",
           "lakecolor": "white",
           "landcolor": "#E5ECF6",
           "showlakes": true,
           "showland": true,
           "subunitcolor": "white"
          },
          "hoverlabel": {
           "align": "left"
          },
          "hovermode": "closest",
          "mapbox": {
           "style": "light"
          },
          "paper_bgcolor": "white",
          "plot_bgcolor": "#E5ECF6",
          "polar": {
           "angularaxis": {
            "gridcolor": "white",
            "linecolor": "white",
            "ticks": ""
           },
           "bgcolor": "#E5ECF6",
           "radialaxis": {
            "gridcolor": "white",
            "linecolor": "white",
            "ticks": ""
           }
          },
          "scene": {
           "xaxis": {
            "backgroundcolor": "#E5ECF6",
            "gridcolor": "white",
            "gridwidth": 2,
            "linecolor": "white",
            "showbackground": true,
            "ticks": "",
            "zerolinecolor": "white"
           },
           "yaxis": {
            "backgroundcolor": "#E5ECF6",
            "gridcolor": "white",
            "gridwidth": 2,
            "linecolor": "white",
            "showbackground": true,
            "ticks": "",
            "zerolinecolor": "white"
           },
           "zaxis": {
            "backgroundcolor": "#E5ECF6",
            "gridcolor": "white",
            "gridwidth": 2,
            "linecolor": "white",
            "showbackground": true,
            "ticks": "",
            "zerolinecolor": "white"
           }
          },
          "shapedefaults": {
           "line": {
            "color": "#2a3f5f"
           }
          },
          "ternary": {
           "aaxis": {
            "gridcolor": "white",
            "linecolor": "white",
            "ticks": ""
           },
           "baxis": {
            "gridcolor": "white",
            "linecolor": "white",
            "ticks": ""
           },
           "bgcolor": "#E5ECF6",
           "caxis": {
            "gridcolor": "white",
            "linecolor": "white",
            "ticks": ""
           }
          },
          "title": {
           "x": 0.05
          },
          "xaxis": {
           "automargin": true,
           "gridcolor": "white",
           "linecolor": "white",
           "ticks": "",
           "title": {
            "standoff": 15
           },
           "zerolinecolor": "white",
           "zerolinewidth": 2
          },
          "yaxis": {
           "automargin": true,
           "gridcolor": "white",
           "linecolor": "white",
           "ticks": "",
           "title": {
            "standoff": 15
           },
           "zerolinecolor": "white",
           "zerolinewidth": 2
          }
         }
        },
        "xaxis": {
         "anchor": "y",
         "domain": [
          0,
          1
         ],
         "title": {
          "text": "x"
         }
        },
        "yaxis": {
         "anchor": "x",
         "domain": [
          0,
          1
         ],
         "title": {
          "text": "value"
         }
        }
       }
      }
     },
     "metadata": {},
     "output_type": "display_data"
    }
   ],
   "source": [
    "px.line(x=range(len(dados_j1)), y=[dados_j1, dados_j2], height=600)"
   ]
  },
  {
   "cell_type": "code",
   "execution_count": 12,
   "metadata": {},
   "outputs": [
    {
     "name": "stdout",
     "output_type": "stream",
     "text": [
      "0.4\n"
     ]
    }
   ],
   "source": [
    "print(dados_j1[-1]/500)"
   ]
  },
  {
   "cell_type": "markdown",
   "id": "5cf009aa",
   "metadata": {},
   "source": [
    "Tenho 10 exércitos e quero atacar um  inimigo com 5 exércitos, qual a chance de ganhar ?"
   ]
  },
  {
   "cell_type": "code",
   "execution_count": 13,
   "id": "d915f093",
   "metadata": {},
   "outputs": [],
   "source": [
    "def rodada_completa(ex_atacante: int, ex_defensor: int):\n",
    "    if ex_atacante <= 1 or ex_defensor <= 0:\n",
    "        return (0, 0)  # não há combate possível\n",
    "\n",
    "    n_att = min(3, ex_atacante - 1)\n",
    "    n_def = min(2, ex_defensor)\n",
    "\n",
    "    att = np.sort(np.random.randint(1, 7, size=n_att))[::-1]\n",
    "    deff = np.sort(np.random.randint(1, 7, size=n_def))[::-1]\n",
    "\n",
    "    n_comp = min(n_att, n_def)\n",
    "    perdas_atk = sum(att[i] <= deff[i] for i in range(n_comp))  # empate é do defensor\n",
    "    perdas_def = n_comp - perdas_atk\n",
    "    return (perdas_atk, perdas_def)"
   ]
  },
  {
   "cell_type": "code",
   "execution_count": 14,
   "id": "a23ea4ef",
   "metadata": {},
   "outputs": [],
   "source": [
    "def batalha(ex_atacante: int, ex_defensor: int):\n",
    "    if ex_atacante <= 1 or ex_defensor <= 0:\n",
    "        return (ex_atacante, ex_defensor)\n",
    "\n",
    "    pa, pd = rodada_completa(ex_atacante, ex_defensor)\n",
    "    return batalha(ex_atacante - pa, ex_defensor - pd)"
   ]
  },
  {
   "cell_type": "code",
   "execution_count": 15,
   "id": "34d31134",
   "metadata": {},
   "outputs": [
    {
     "name": "stdout",
     "output_type": "stream",
     "text": [
      "Atacante restante: 3, Defensor restante: 0\n"
     ]
    }
   ],
   "source": [
    "resultado = batalha(10, 7)\n",
    "print(f\"Atacante restante: {resultado[0]}, Defensor restante: {resultado[1]}\")"
   ]
  },
  {
   "cell_type": "code",
   "execution_count": 16,
   "id": "31814c22",
   "metadata": {},
   "outputs": [],
   "source": [
    "def prob_vitoria(atac: int, deff: int, n_sim: int = 10000):\n",
    "    vitorias = 0\n",
    "    for _ in range(n_sim):\n",
    "        fa, fd = batalha(atac, deff)\n",
    "        if fd == 0: \n",
    "            vitorias += 1\n",
    "    return vitorias / n_sim"
   ]
  },
  {
   "cell_type": "code",
   "execution_count": 17,
   "id": "1c3ba2c7",
   "metadata": {},
   "outputs": [
    {
     "name": "stdout",
     "output_type": "stream",
     "text": [
      "Probabilidade de vitória do atacante: 0.869\n"
     ]
    }
   ],
   "source": [
    "p = prob_vitoria(10, 5, n_sim=50000)\n",
    "print(f\"Probabilidade de vitória do atacante: {p:.3f}\")"
   ]
  },
  {
   "cell_type": "markdown",
   "metadata": {},
   "source": [
    "## Distribuição binomial"
   ]
  },
  {
   "cell_type": "code",
   "execution_count": 18,
   "metadata": {},
   "outputs": [],
   "source": [
    "passos = 100\n",
    "trials = 500\n",
    "\n",
    "resultado_total = np.random.choice((-1, 1), (trials, passos))"
   ]
  },
  {
   "cell_type": "code",
   "execution_count": 19,
   "metadata": {},
   "outputs": [],
   "source": [
    "resultado = resultado_total.sum(axis=1)"
   ]
  },
  {
   "cell_type": "code",
   "execution_count": 20,
   "metadata": {},
   "outputs": [
    {
     "data": {
      "text/plain": [
       "np.int64(18)"
      ]
     },
     "execution_count": 20,
     "metadata": {},
     "output_type": "execute_result"
    }
   ],
   "source": [
    "resultado[0]"
   ]
  },
  {
   "cell_type": "code",
   "execution_count": 21,
   "metadata": {},
   "outputs": [
    {
     "data": {
      "application/vnd.plotly.v1+json": {
       "config": {
        "plotlyServerURL": "https://plot.ly"
       },
       "data": [
        {
         "bingroup": "x",
         "hovertemplate": "variable=0<br>value=%{x}<br>count=%{y}<extra></extra>",
         "legendgroup": "0",
         "marker": {
          "color": "#636efa",
          "pattern": {
           "shape": ""
          }
         },
         "name": "0",
         "orientation": "v",
         "showlegend": true,
         "type": "histogram",
         "x": {
          "bdata": "EgjwAvT27PYQ8PT6AvYM9Ab88A4GDAQCAg4ABPT+FPj4EgYI+PoCAvYU7AAK7gz+7vgA+PT+/vQGBuwSEgD4Dvzq9P4M9P4EAAgGGg4M+PoC/AwEBvwEAv7+9vjy8BAE9vz4/AQG6gb6BOwCDAj0CggADgj68BQEAO72CAT8Agb+/gj08A7+CAACCgAC7PIA+PoM+ggI+hL4/gLwAvr4BhQEDO7y6gYA+gL0/gYE/PgE/PQaAAD+BvoQ/gb8+vwMEgQEDuwE8PwW+AD+AvoK9BAI/AIE/AT2CggA/PwG+AIEDvz6BBACBvD6EAT++gYM9gQAAPjoDvD0APr2ChIC/gACDAL6BPwK/AIKDP4I9vz6APT28vzyCPYADvz8/P4SBhD4DPwMAvoA+gYGBAb48Aj4/hgO9AYI8gQS/PL6+gru/vwEAhT8+P4OCgoMCAYU8BIG8hj4FBb6BgQCBgLuEvoO8gII+OgG+gD4BgQMDvwKBv4I8gT8Cgb6CgL+BAju+AwA9PQK/AYIGAYOBPoKDPjs7g4KAv744AT6+PAM8Ar4AAT6CggOBPQADP7y+AYMBPwADOoC/gDu/vrsABL4DgT+Agb4BAD2APb6/hAKAg4c6v7qCvz+Auj4BvgICvbyBgQAAPoSDAoEAhIC/gr6+Aj6CPo=",
          "dtype": "i1"
         },
         "xaxis": "x",
         "yaxis": "y"
        }
       ],
       "layout": {
        "barmode": "relative",
        "height": 600,
        "legend": {
         "title": {
          "text": "variable"
         },
         "tracegroupgap": 0
        },
        "margin": {
         "t": 60
        },
        "template": {
         "data": {
          "bar": [
           {
            "error_x": {
             "color": "#2a3f5f"
            },
            "error_y": {
             "color": "#2a3f5f"
            },
            "marker": {
             "line": {
              "color": "#E5ECF6",
              "width": 0.5
             },
             "pattern": {
              "fillmode": "overlay",
              "size": 10,
              "solidity": 0.2
             }
            },
            "type": "bar"
           }
          ],
          "barpolar": [
           {
            "marker": {
             "line": {
              "color": "#E5ECF6",
              "width": 0.5
             },
             "pattern": {
              "fillmode": "overlay",
              "size": 10,
              "solidity": 0.2
             }
            },
            "type": "barpolar"
           }
          ],
          "carpet": [
           {
            "aaxis": {
             "endlinecolor": "#2a3f5f",
             "gridcolor": "white",
             "linecolor": "white",
             "minorgridcolor": "white",
             "startlinecolor": "#2a3f5f"
            },
            "baxis": {
             "endlinecolor": "#2a3f5f",
             "gridcolor": "white",
             "linecolor": "white",
             "minorgridcolor": "white",
             "startlinecolor": "#2a3f5f"
            },
            "type": "carpet"
           }
          ],
          "choropleth": [
           {
            "colorbar": {
             "outlinewidth": 0,
             "ticks": ""
            },
            "type": "choropleth"
           }
          ],
          "contour": [
           {
            "colorbar": {
             "outlinewidth": 0,
             "ticks": ""
            },
            "colorscale": [
             [
              0,
              "#0d0887"
             ],
             [
              0.1111111111111111,
              "#46039f"
             ],
             [
              0.2222222222222222,
              "#7201a8"
             ],
             [
              0.3333333333333333,
              "#9c179e"
             ],
             [
              0.4444444444444444,
              "#bd3786"
             ],
             [
              0.5555555555555556,
              "#d8576b"
             ],
             [
              0.6666666666666666,
              "#ed7953"
             ],
             [
              0.7777777777777778,
              "#fb9f3a"
             ],
             [
              0.8888888888888888,
              "#fdca26"
             ],
             [
              1,
              "#f0f921"
             ]
            ],
            "type": "contour"
           }
          ],
          "contourcarpet": [
           {
            "colorbar": {
             "outlinewidth": 0,
             "ticks": ""
            },
            "type": "contourcarpet"
           }
          ],
          "heatmap": [
           {
            "colorbar": {
             "outlinewidth": 0,
             "ticks": ""
            },
            "colorscale": [
             [
              0,
              "#0d0887"
             ],
             [
              0.1111111111111111,
              "#46039f"
             ],
             [
              0.2222222222222222,
              "#7201a8"
             ],
             [
              0.3333333333333333,
              "#9c179e"
             ],
             [
              0.4444444444444444,
              "#bd3786"
             ],
             [
              0.5555555555555556,
              "#d8576b"
             ],
             [
              0.6666666666666666,
              "#ed7953"
             ],
             [
              0.7777777777777778,
              "#fb9f3a"
             ],
             [
              0.8888888888888888,
              "#fdca26"
             ],
             [
              1,
              "#f0f921"
             ]
            ],
            "type": "heatmap"
           }
          ],
          "histogram": [
           {
            "marker": {
             "pattern": {
              "fillmode": "overlay",
              "size": 10,
              "solidity": 0.2
             }
            },
            "type": "histogram"
           }
          ],
          "histogram2d": [
           {
            "colorbar": {
             "outlinewidth": 0,
             "ticks": ""
            },
            "colorscale": [
             [
              0,
              "#0d0887"
             ],
             [
              0.1111111111111111,
              "#46039f"
             ],
             [
              0.2222222222222222,
              "#7201a8"
             ],
             [
              0.3333333333333333,
              "#9c179e"
             ],
             [
              0.4444444444444444,
              "#bd3786"
             ],
             [
              0.5555555555555556,
              "#d8576b"
             ],
             [
              0.6666666666666666,
              "#ed7953"
             ],
             [
              0.7777777777777778,
              "#fb9f3a"
             ],
             [
              0.8888888888888888,
              "#fdca26"
             ],
             [
              1,
              "#f0f921"
             ]
            ],
            "type": "histogram2d"
           }
          ],
          "histogram2dcontour": [
           {
            "colorbar": {
             "outlinewidth": 0,
             "ticks": ""
            },
            "colorscale": [
             [
              0,
              "#0d0887"
             ],
             [
              0.1111111111111111,
              "#46039f"
             ],
             [
              0.2222222222222222,
              "#7201a8"
             ],
             [
              0.3333333333333333,
              "#9c179e"
             ],
             [
              0.4444444444444444,
              "#bd3786"
             ],
             [
              0.5555555555555556,
              "#d8576b"
             ],
             [
              0.6666666666666666,
              "#ed7953"
             ],
             [
              0.7777777777777778,
              "#fb9f3a"
             ],
             [
              0.8888888888888888,
              "#fdca26"
             ],
             [
              1,
              "#f0f921"
             ]
            ],
            "type": "histogram2dcontour"
           }
          ],
          "mesh3d": [
           {
            "colorbar": {
             "outlinewidth": 0,
             "ticks": ""
            },
            "type": "mesh3d"
           }
          ],
          "parcoords": [
           {
            "line": {
             "colorbar": {
              "outlinewidth": 0,
              "ticks": ""
             }
            },
            "type": "parcoords"
           }
          ],
          "pie": [
           {
            "automargin": true,
            "type": "pie"
           }
          ],
          "scatter": [
           {
            "fillpattern": {
             "fillmode": "overlay",
             "size": 10,
             "solidity": 0.2
            },
            "type": "scatter"
           }
          ],
          "scatter3d": [
           {
            "line": {
             "colorbar": {
              "outlinewidth": 0,
              "ticks": ""
             }
            },
            "marker": {
             "colorbar": {
              "outlinewidth": 0,
              "ticks": ""
             }
            },
            "type": "scatter3d"
           }
          ],
          "scattercarpet": [
           {
            "marker": {
             "colorbar": {
              "outlinewidth": 0,
              "ticks": ""
             }
            },
            "type": "scattercarpet"
           }
          ],
          "scattergeo": [
           {
            "marker": {
             "colorbar": {
              "outlinewidth": 0,
              "ticks": ""
             }
            },
            "type": "scattergeo"
           }
          ],
          "scattergl": [
           {
            "marker": {
             "colorbar": {
              "outlinewidth": 0,
              "ticks": ""
             }
            },
            "type": "scattergl"
           }
          ],
          "scattermap": [
           {
            "marker": {
             "colorbar": {
              "outlinewidth": 0,
              "ticks": ""
             }
            },
            "type": "scattermap"
           }
          ],
          "scattermapbox": [
           {
            "marker": {
             "colorbar": {
              "outlinewidth": 0,
              "ticks": ""
             }
            },
            "type": "scattermapbox"
           }
          ],
          "scatterpolar": [
           {
            "marker": {
             "colorbar": {
              "outlinewidth": 0,
              "ticks": ""
             }
            },
            "type": "scatterpolar"
           }
          ],
          "scatterpolargl": [
           {
            "marker": {
             "colorbar": {
              "outlinewidth": 0,
              "ticks": ""
             }
            },
            "type": "scatterpolargl"
           }
          ],
          "scatterternary": [
           {
            "marker": {
             "colorbar": {
              "outlinewidth": 0,
              "ticks": ""
             }
            },
            "type": "scatterternary"
           }
          ],
          "surface": [
           {
            "colorbar": {
             "outlinewidth": 0,
             "ticks": ""
            },
            "colorscale": [
             [
              0,
              "#0d0887"
             ],
             [
              0.1111111111111111,
              "#46039f"
             ],
             [
              0.2222222222222222,
              "#7201a8"
             ],
             [
              0.3333333333333333,
              "#9c179e"
             ],
             [
              0.4444444444444444,
              "#bd3786"
             ],
             [
              0.5555555555555556,
              "#d8576b"
             ],
             [
              0.6666666666666666,
              "#ed7953"
             ],
             [
              0.7777777777777778,
              "#fb9f3a"
             ],
             [
              0.8888888888888888,
              "#fdca26"
             ],
             [
              1,
              "#f0f921"
             ]
            ],
            "type": "surface"
           }
          ],
          "table": [
           {
            "cells": {
             "fill": {
              "color": "#EBF0F8"
             },
             "line": {
              "color": "white"
             }
            },
            "header": {
             "fill": {
              "color": "#C8D4E3"
             },
             "line": {
              "color": "white"
             }
            },
            "type": "table"
           }
          ]
         },
         "layout": {
          "annotationdefaults": {
           "arrowcolor": "#2a3f5f",
           "arrowhead": 0,
           "arrowwidth": 1
          },
          "autotypenumbers": "strict",
          "coloraxis": {
           "colorbar": {
            "outlinewidth": 0,
            "ticks": ""
           }
          },
          "colorscale": {
           "diverging": [
            [
             0,
             "#8e0152"
            ],
            [
             0.1,
             "#c51b7d"
            ],
            [
             0.2,
             "#de77ae"
            ],
            [
             0.3,
             "#f1b6da"
            ],
            [
             0.4,
             "#fde0ef"
            ],
            [
             0.5,
             "#f7f7f7"
            ],
            [
             0.6,
             "#e6f5d0"
            ],
            [
             0.7,
             "#b8e186"
            ],
            [
             0.8,
             "#7fbc41"
            ],
            [
             0.9,
             "#4d9221"
            ],
            [
             1,
             "#276419"
            ]
           ],
           "sequential": [
            [
             0,
             "#0d0887"
            ],
            [
             0.1111111111111111,
             "#46039f"
            ],
            [
             0.2222222222222222,
             "#7201a8"
            ],
            [
             0.3333333333333333,
             "#9c179e"
            ],
            [
             0.4444444444444444,
             "#bd3786"
            ],
            [
             0.5555555555555556,
             "#d8576b"
            ],
            [
             0.6666666666666666,
             "#ed7953"
            ],
            [
             0.7777777777777778,
             "#fb9f3a"
            ],
            [
             0.8888888888888888,
             "#fdca26"
            ],
            [
             1,
             "#f0f921"
            ]
           ],
           "sequentialminus": [
            [
             0,
             "#0d0887"
            ],
            [
             0.1111111111111111,
             "#46039f"
            ],
            [
             0.2222222222222222,
             "#7201a8"
            ],
            [
             0.3333333333333333,
             "#9c179e"
            ],
            [
             0.4444444444444444,
             "#bd3786"
            ],
            [
             0.5555555555555556,
             "#d8576b"
            ],
            [
             0.6666666666666666,
             "#ed7953"
            ],
            [
             0.7777777777777778,
             "#fb9f3a"
            ],
            [
             0.8888888888888888,
             "#fdca26"
            ],
            [
             1,
             "#f0f921"
            ]
           ]
          },
          "colorway": [
           "#636efa",
           "#EF553B",
           "#00cc96",
           "#ab63fa",
           "#FFA15A",
           "#19d3f3",
           "#FF6692",
           "#B6E880",
           "#FF97FF",
           "#FECB52"
          ],
          "font": {
           "color": "#2a3f5f"
          },
          "geo": {
           "bgcolor": "white",
           "lakecolor": "white",
           "landcolor": "#E5ECF6",
           "showlakes": true,
           "showland": true,
           "subunitcolor": "white"
          },
          "hoverlabel": {
           "align": "left"
          },
          "hovermode": "closest",
          "mapbox": {
           "style": "light"
          },
          "paper_bgcolor": "white",
          "plot_bgcolor": "#E5ECF6",
          "polar": {
           "angularaxis": {
            "gridcolor": "white",
            "linecolor": "white",
            "ticks": ""
           },
           "bgcolor": "#E5ECF6",
           "radialaxis": {
            "gridcolor": "white",
            "linecolor": "white",
            "ticks": ""
           }
          },
          "scene": {
           "xaxis": {
            "backgroundcolor": "#E5ECF6",
            "gridcolor": "white",
            "gridwidth": 2,
            "linecolor": "white",
            "showbackground": true,
            "ticks": "",
            "zerolinecolor": "white"
           },
           "yaxis": {
            "backgroundcolor": "#E5ECF6",
            "gridcolor": "white",
            "gridwidth": 2,
            "linecolor": "white",
            "showbackground": true,
            "ticks": "",
            "zerolinecolor": "white"
           },
           "zaxis": {
            "backgroundcolor": "#E5ECF6",
            "gridcolor": "white",
            "gridwidth": 2,
            "linecolor": "white",
            "showbackground": true,
            "ticks": "",
            "zerolinecolor": "white"
           }
          },
          "shapedefaults": {
           "line": {
            "color": "#2a3f5f"
           }
          },
          "ternary": {
           "aaxis": {
            "gridcolor": "white",
            "linecolor": "white",
            "ticks": ""
           },
           "baxis": {
            "gridcolor": "white",
            "linecolor": "white",
            "ticks": ""
           },
           "bgcolor": "#E5ECF6",
           "caxis": {
            "gridcolor": "white",
            "linecolor": "white",
            "ticks": ""
           }
          },
          "title": {
           "x": 0.05
          },
          "xaxis": {
           "automargin": true,
           "gridcolor": "white",
           "linecolor": "white",
           "ticks": "",
           "title": {
            "standoff": 15
           },
           "zerolinecolor": "white",
           "zerolinewidth": 2
          },
          "yaxis": {
           "automargin": true,
           "gridcolor": "white",
           "linecolor": "white",
           "ticks": "",
           "title": {
            "standoff": 15
           },
           "zerolinecolor": "white",
           "zerolinewidth": 2
          }
         }
        },
        "xaxis": {
         "anchor": "y",
         "domain": [
          0,
          1
         ],
         "title": {
          "text": "value"
         }
        },
        "yaxis": {
         "anchor": "x",
         "domain": [
          0,
          1
         ],
         "title": {
          "text": "count"
         }
        }
       }
      }
     },
     "metadata": {},
     "output_type": "display_data"
    }
   ],
   "source": [
    "px.histogram(resultado, height=600)"
   ]
  },
  {
   "cell_type": "code",
   "execution_count": 22,
   "metadata": {},
   "outputs": [],
   "source": [
    "def make_distribution(passos, trials):\n",
    "    resultado_total = np.random.choice((-1, 1), (trials, passos))\n",
    "    resultado = resultado_total.sum(axis=1)\n",
    "    fig = go.Figure(data=go.Histogram(x=resultado))\n",
    "    fig.show()"
   ]
  },
  {
   "cell_type": "code",
   "execution_count": 23,
   "metadata": {},
   "outputs": [
    {
     "data": {
      "application/vnd.jupyter.widget-view+json": {
       "model_id": "50c2bd8010de45d2bf602fb35e6b8499",
       "version_major": 2,
       "version_minor": 0
      },
      "text/plain": [
       "interactive(children=(IntSlider(value=500, description='passos', max=1000, min=1), IntSlider(value=5000, descr…"
      ]
     },
     "metadata": {},
     "output_type": "display_data"
    },
    {
     "data": {
      "text/plain": [
       "<function __main__.make_distribution(passos, trials)>"
      ]
     },
     "execution_count": 23,
     "metadata": {},
     "output_type": "execute_result"
    }
   ],
   "source": [
    "from ipywidgets import interact\n",
    "\n",
    "interact(make_distribution, passos=(1, 1000), trials=(1, 10000))"
   ]
  },
  {
   "cell_type": "markdown",
   "metadata": {},
   "source": [
    "##\n",
    "\n",
    "$$ \\Large P(k; n,p) =  \\binom{n}{k} \\cdot p^k \\cdot (1 - p)^{n=k} $$\n",
    "\n",
    "onde: $$ \\binom{n}{k} = \\frac{n!}{k!(n-k)!} $$\n",
    "\n",
    "\n",
    "Para distribuições contínuas:\n",
    "\n",
    "$$ \\Large f(x) = \\frac{1}{\\sigma \\cdot \\sqrt{2 \\pi}} e^{\\frac{1}{2}(\\frac{x - \\mu}{\\sigma})^2}  $$\n",
    "\n",
    "\n",
    "$$ \\Large \\sigma = \\sqrt{\\frac{1}{N} \\sum{(x_i - \\mu)^2} }  $$"
   ]
  },
  {
   "cell_type": "markdown",
   "metadata": {},
   "source": [
    "## Precisa de apenas dois valores para definir as informações: média e desvio padrão\n",
    "&nbsp;\n",
    "\n",
    "Muito bom para ser verdade\n",
    "&nbsp;\n",
    "\n",
    "&nbsp;\n",
    "\n",
    "## Muitas coisas observadas possuem esse padrão (curva no formato de sino)\n",
    "\n",
    "&nbsp;\n",
    "\n",
    "Peso, altura, notas, falhas em equipamentos, etc\n",
    "\n",
    "&nbsp;\n",
    "\n",
    "## Teorema do limite central\n",
    "\n",
    "&nbsp;\n",
    "\n",
    "&nbsp;\n",
    "\n",
    "Bom demais para ser verdade ?"
   ]
  },
  {
   "cell_type": "markdown",
   "metadata": {},
   "source": [
    "## Se em grande quantidade os dados obedecem a esta forma, podemos usar esse fato para calcular e obter informações sobre nossas observações\n",
    "\n",
    "&nbsp;\n",
    "\n",
    "## Observação:  Medida do uso de um site, tempo de recuperação ao tomar um medicamento, inadimplencia de um empréstimo, ..."
   ]
  },
  {
   "cell_type": "markdown",
   "metadata": {},
   "source": [
    "## Teste de Hipótese\n",
    "\n",
    "* Mudar a cor do botão de \"comprar\" do meu site aumenta as vendas ?\n",
    "  \n",
    "&nbsp;\n",
    "\n",
    "* Tomar este medicamento diminui a chance de morrer de tal doença ?\n",
    "\n",
    "&nbsp;\n",
    "* Adicionar X na nutrição de um animal aumenta sua taxa de crescimento ?\n",
    "\n",
    "&nbsp;\n",
    "* Estratégia X de ensino é melhor que a estratégia Y ? \n",
    "  * Visual learners\n",
    "  * Salario vs aprendizado\n",
    "  * Tempo de Estudo\n",
    "  * Qualificação dos professores\n",
    "\n",
    "&nbsp;\n",
    "* Pessoas com bom humor tem mais chance de dar uma nota boa a um candidato ?\n",
    "\n",
    "&nbsp;\n",
    "* Signo afeta resultados de teste de personalidade ?\n",
    "\n",
    "&nbsp;\n",
    "* Pessoas com um lápis na boca tem mais chance de dar uma boa nota a um candidato a emprego ?"
   ]
  },
  {
   "cell_type": "markdown",
   "metadata": {},
   "source": [
    "## Essa moeda é justa ?\n",
    "\n",
    "30 lançamentos, 22 cara"
   ]
  },
  {
   "cell_type": "code",
   "execution_count": 24,
   "metadata": {},
   "outputs": [],
   "source": [
    "trials = 10000\n",
    "resultado_total = np.random.choice((0, 1), (trials, 30))"
   ]
  },
  {
   "cell_type": "code",
   "execution_count": 25,
   "metadata": {},
   "outputs": [],
   "source": [
    "resultado = resultado_total.sum(axis=1)"
   ]
  },
  {
   "cell_type": "code",
   "execution_count": 26,
   "metadata": {},
   "outputs": [],
   "source": [
    "qt = len(np.where(resultado >= 22)[0])"
   ]
  },
  {
   "cell_type": "code",
   "execution_count": 27,
   "metadata": {},
   "outputs": [
    {
     "name": "stdout",
     "output_type": "stream",
     "text": [
      "0.0077\n"
     ]
    }
   ],
   "source": [
    "print(qt/trials)"
   ]
  },
  {
   "cell_type": "code",
   "execution_count": 28,
   "metadata": {},
   "outputs": [
    {
     "data": {
      "application/vnd.plotly.v1+json": {
       "config": {
        "plotlyServerURL": "https://plot.ly"
       },
       "data": [
        {
         "bingroup": "x",
         "hovertemplate": "variable=0<br>value=%{x}<br>count=%{y}<extra></extra>",
         "legendgroup": "0",
         "marker": {
          "color": "#636efa",
          "pattern": {
           "shape": ""
          }
         },
         "name": "0",
         "orientation": "v",
         "showlegend": true,
         "type": "histogram",
         "x": {
          "bdata": "EQ4QEBQPEQ4PExMQEw0SDRQKEg8NDxIPDw8PDQ0QCBIVDw4QDxAQEg4PDhMQDhINEA8SEAwODw4RCxAOEwkVCwwVFBAOEAwMEBMJDg8QEBYMEA4NEQkSDBINDxENCgoTDA8NDw0NEQsNCg8SDhAMEgoVEhALChMMEhIODg4LDg8PDAsWEw8VDQsUDQ0PDxALEQ8NDBESEA8PDwwOEhALDxAODhEPERIPCw8OCgsODBELChISDg0SEg0SEAsLDw4NDg4NEQ4PEBMSFA4NEw8SDw8SFA4PDAwRDhIOCw8MEg4MDxQPChAQEhINEBARDAkSChEODREPEg0QDA4NEhINERAJDxAOEw8NEQ4PEBESEhANDg0NCgwTDwsPEhMPDQ4LERALEA0SCwwOCxIPDg0OEQoREg8ODgsMDA8PEA4VEg0PDA0PDg8MFQ0ODRMSDBIPEBEIDw4QDg8QEA0ODRINEBEOEQ4PCw4PEw0QEQ8NDw4QEAwLEg8PExIRFA8MEhINEA0RCxMQDQsOEBAOEAsLEBYQFA0PEBARDxETDBQNCQ4NDQ4UDQ4PEg8PDw4KDhIRDQkOCw0MDgoPDREPDhMQDQ8SEwsPEw0QDRARCw4KDw8QEQ8ODw4PDw0PEBMMEA8PDA8QDQ4OEg4JDhIODQ8QEw4UDQ8NEA0OFBEPDxQJEA8NDxAKDBIUDxAMDBMRDhMSEQ8QDg0QDw4TDw4TEA8QDw0MEA4PDxAQDQwODhEQDREKCw4PExIRDREODRENERAPCg0PEAoNDxASERAMDBELERAFEhENEw8NCRIREw0PDRATDQwNDREPDw8QEA8RDBEQDg0UEA4RERMPDxIPDhIQDwoQEg4NEQ8OEA8LDw8NDg8SDxAREQ0PCw8VEwwPFA0SDQ0RDQ4SDhENERAOEhENDg4MDBMKDA8SCg4PCg4MDw4NDxARDgwODA8REBEREBQMCw8RDQoLERIMDA4PDgoPDxEPEA8KEBEVEAkLFQ8OEBENDhAOExARDwwNDw8SEhAQFAkOEQ4PEA8MChEMDhENEgoPEQsNCxEQEA0NDhANDQ8RERENDBMQDBMREBYRDAwOExIUFA8PDhAQDw8PDw8QDg0SDwkVDBIPEw4MFA4OEhIREg4TEAsNEhALEA0LFBAOCgkOEg4NEhEREQwLDQsRDhEMDxISEBIKDg8QEQ8RDgwOEg8SEA0PFA4ODgwODw0QEBANFAwQDg4NDgsSDRAPExAWCwsRFBAPEA4SDw8OERAPEQoNDRAPERQNEQ0QEQ8OChESDxAOEQsQCxIMDw0REAoPDxMREBQMDQ8PEAgODBALEw4IDRQUDBAMDwwOEAsQDxERDg0QDgwQDQ8QDREQEhASDg0TFA8MEg4VFBAODhQOEg8LEA4JEQ4TDgsLERELDQoNEhEQCQwMCxUPChESDA8MDxEQDg8QCxANDRIMDwwPDRAQGA0ODxERDQ0MDw8SDRAQDQ4NEw4OEA0PDhANDA4REg8MEQ4QGA0PEA4MEg8LDg4TEhEVDA8PDhIPChAQEg4KCg0PEBYQEBEMDQ8TDAwUDw0MEQ0MEBMPDw4RDxISDBIRDRMTDRAQDw4QEA8RDBAUFAsPEAsSCw0PDw4RDRMNDBIMFA4ODQwPEhAQDw4PCxENCw8UDg8PDwwMCRAQDxARDhMRDREVDRIQDgoRDxUQDRYTDRAPCw8OExMLDRMMDhASChAUEA4QDRMNEQ8OEhESDQwKEw4SDRENExETDhESEA8TDRINDQ0OEA8PChEMDxAPEA8SDg8LDg8QEwwKDg4MDw4KEg8PEwoODhAODxESDQoODwsNCg0QDhEMDhEMDQ8PEA0UEBQMDhAMDREMDBEMEBENDQwNDhMTDRAODRAODxMMExEREBIOExIPEwkTEBAUDg0TDxEOCw0PDQ4NFBANDgwNEBQMDQsQExEMEhQPERANDA4NFg4VEhEMCw4VEw0ODw8NDBEUEBISExQODxEMEBMNDRAPDBARExIMDQ4NEhIODRMOEBEPFA8PFA4QDw4ODgwNDxETDQwODhUREg8REAsREA8QDREKDw8JDxIMDg4NDwwOCgwNEQ4ODgoPDw8LDhQPDw8JEREOEg0PDxARDhIQBw0LEQ8OCwwNDw0HDxAODRILDxEOEBEPEgwRDRASExINEw4PCxEODBITEA4PEgsQCw0NEBMQExEPEA4MDRAOEBILDwsOEBUQDQ4RDBQPEA0LDgoQEAwUDw8SCxIQEQ8PDg0SEQ8OERENDRIQDhYVEBINDhMMDA8KDg4OEhEPEA4QDQ8PEhESDg0NDQ8REBAODxASDhEQDg8OEQ8TEQ0PDhEODw4SEA0LERANCw4NEgwODg4SDA4OFA4OFQsKFQ0LDA0SEA4PDxASDQ0QDRENDg8MCRQOEQoRDg4MEhUVFgoHERIMEBMODA8ODwwUDQ8NEAwQEQ4SFAoQChAVDQ8VEQ8JDwkNEg4NCw4PDhMMERAODw4SDhAOERANDhIMDxEMEBIOERAPEQwQDRIPChcMEhELCQwOEA4ODg8OEQ0PDBIUERIPEBAQGA0UEBMNDhIOEA8QERUTEhAPERMQFBYIEQ0PEBERDQsPCw0QEBIQDhAQEBMQChQPERENDhQOCg4PEAsREw8QDw8RDQ4SDQwNCRMRFBEOCgwNDgsREQ4PDxMNFAkQCw4MEA8TDhAOCxATDw0UDw4PDxIREg8PCg0LEA4SDAwSDBUIChQPDA0QChALFA8TEBENExIPCA0PFBETDA8REBIUDhQRDw4OFAsOEhMOEA4ODQ4MEAsLDhAPCxEQDg4RERQRDA0SEhINDw0REQ8ODw4REQkPEg4KEA8NCw0UDAwTDBAQDxEPDRIUCg0MDQwRDhESDwwPEhMPDxAPEQ8NDBQMEgoJERAPDBENEhYQChEJDg4NEBAPCw4UEBESDxALEBERDBIQDA0KEhENExIQEQ8KDwwQEBAMDw4SFBILDxYSEA0PDA0UChISEw8SEBETDgwNEQsQDxAPEQ0OERALDw4NDhANEA0PDg4MDxISDhATEBARDBAPDgsPEw4QDQ4OEQ8PEAwOEBAUDAwODA8PCwsLEw0MDxEJERETDw8PDQ8RDgsTDRILChINDhIMDwwLEBAMDg8SChITDQsWDBMPFRAREBAPCxAODw0QDQ0QDw8MEBAQEREOEgwTEg4QERARDA0RERARDA0PCw8ICg4SExIPDg8MDRMODBIMDQsLDhQTDhAPEg4PEQ0QDQ4PDxIPEhEREgoSFBARDxIQDBAOERMNERAQDwwQEBAQDA4TDxAPDhMNEQwMEAwPERENDg4RERARDg4ODhIQCQsQDwwTDQ8REw8SDhIRDw4KEA8QEAsNEQwMDgsNEBAODA4NDg4PDQ4ODQ0QEA8TEA4SEhIQChMNEg8WDRINDwwNEBIODxIQDg4QDgoMEA0NDhAPCBIOEAsRFBMOFA0NExEODgsNEA8PDg0QEgsQDhAMCwwRERAJDA8PDhENEg4ODRARDxIOFA4TEg0QDQ0RERIQERISDhcRDw8QDwoQDgsRDQ8TDRINFRARERINEBIQEg0SEgsTERAJDwwODAsRDAsTDxAQEA4QEw4PEBAQEA4OCRIMDw4NEw0RFAwQFA8RDxATDQ4RDw0OEA4ICgsRDhAOGQ4MEA4NDBAMDw0JDw8JDhAOEQ4QEA0ODw8TExMRCw4RDQ4NEAsMERUSDQwQEBUPDw0MEhMRDRENEg4PEg8LDg4MDBASDxEPDQwPDg8OCg0LEAoOFQ8RBg0ODQsRCxEQDw8REQ4ODw8ODQ0REhINDRAQEREPDhASFA0KERESEgoNFRMQEhYPFBARDQsQFA4RDRUQDQsQDhAOEAsRDg8SFBAQDhEOEA4TDxMOEQsLDw0MFQ0QDQ8PEBAMDxEIEw0NEg4NDhMJDg4MDw0PCw0OEhIQEBALDRISDRAPDw4RDQkQCw8PEBEQEBIOEQ8NEg0NEQwPCxULDggKDBITDg8PEQkREBIODgwREBAJDxEREgwRDA0NDQ0TEQ0QDRERERIQFAwQDA8OERETDQ8QDQwSDw0RDBAWFRMODw4ODQ8ODg8OEwwNDw0LEw8LEQ8TDhETDRILDwwMDw4QDg0ODhASDw4PDQsODwwPDxEPEwwODBALFQ4LCwoTEQ0NEA8MDA8RDw4SDBAJEA8REA0REA4RDA8ODAoOCw0ODhMSEAwLDw8NDhESDwwOEBITDxAOEAkPEBESDw4OCwwTDg4MEg0RDhAPEw4MEA8ODw4XChYRDA8REBILDQ8REA8ODw4PDRENEQ8RDQ0SDQ4SDhANDRAKEhMPEQsNCw4OCg4ODhAQEhISCxAKDQ8QEg8ODAwPCw0TERUSDhENDg8PDA4MEw4NDBMSEQ4PDQkQDw4KEBAPCw0QEg4TDw8PDRMSDQ8QDQ4QEhMMDw4KEQwNDA4VDBIRDA4TEA4REwsUCQwPCxIODhINDhAMEBMPEQ4NEBANDg4LDBAPDwoNEA4NDRINDxARDg4PDBAQCw8NDhMQEw8RDQ8NDw0MDwwPDRAUEBAQEQ4MCgwQCw0OEBQQFBQLEA4LFA0ODw0QEBIKEBAJCxASEhYREhMSDw8RDgkRDxIQDBIOExIUDQ4PFhQJDQ8QDgwSDQsNDg4RFRcPDgwPDg0NCxISDwwVDg4QDxASDgoQCQwNEQ4PEQ0SDQ8OEg0LDgwREA4PEQ8QDREOFBEODRAMDhAMDw0MEwwTFREUEBAMDBASDAwRDQwTDQsMDRARDgwSEQwPEhQKEg8OCxESEgsJEg8JEg8LEQwREAsRDA8NDw4KDwsNFBQOCQ8RFgwQDgwTFBEMDA4QDg4OEQ4UCwwMDxASDg8NEBASEA8LEA0TDw4OChMMEBANDg8MDhISDw8SEhAPDREQDhMPEQgODg8NFRAPDhEREQsUDw4SDQwSEA8TDhATEA8LFQ8RDxQOEA8OEgwMDg8KEg8ODxAQEQwNDhMOFRMUEAsRDxATEwgLDgwQCxAPDREQEBEQDxMNDRIODRERDBAJEA0TDhAQEA4LFBIMFw0OEQ0LFg8PEAwPDhAOFA4TEQsPEA4QCQsQCxERDQ8QExAQDw8ODw4KCwwQDQwTCxEQEBATDw8QDxINDQ8ODBMQDg8ODQ8ODw0REg4OEBMMDQ0ODRUQERMQFwwPFRASEBMRCw4MDBAODg8TDBAOERAOCw8UFQ8NFg0PDBEQDBELEw8VDw8ODhIRDg8SDA8PDw8MDg8MEg4OEA0TEg8TDRIQCw0MDxASEA4SEg8RDw0RCwwJEBEIEhEOFRIOEBANEAsMEQ8PChUREQ4WDhcREgwLEhMPDgoQCxAODQ8OERIREhAQDxMQEhQUEhAQCxAOChEPEBMODhURDwkPDQsODQ8TEA0MDxIPDBENDREOFQwMCw0SDxMOEA8MDQ4REQ8NEA8QEw0TDAsQEBAPDgkNEBIPCxANDQ4OEA8MCxIOEBILEREPEhAREAsQEA0RDw4QDhIOEQoOEwwQEgkNERAODRAVDhESDxMLEA8ODQ8RDxMSFA8RDg4IEBMOEhENDhERDw0NDg0QERASDAsRCw8MExEMEBIPDxANDREMERIQFBAREBISEAoQDQ4PEQ0LDRASDAoPCQ4QEhMQEBYUExASCRMQExIMCw8PExIMDwsSCxMODRAQEhATDxEPDgwQDRAQCQ0QDwkSDgoWDw4KDQ8MDw8SCxINCw4TERENFQ0QEg0LEg8QDREPEBMLEw0NDQsODg4MDg8KERUIEw0SEA4PDxIOEBQQDQ0KDg8QDAsMFQ8QCg4LDwwLEA4QCw4TEQ8QFhQTEQ4QDBEOCxENEREMChISEA8KDQ8NEQ0RDw8ODg4MFAwPCxEODQ8OEQ4KDQ0SERAQDxAPEA8RDQ8NDg0IDw0OEhAMDhIQEwsPDhQSEAoVBxARDwwPEREPExATDA0QEg4TDgwNDA8OFQwPDBEMEg8QEQ8QDhENDBUNEA0RFhARFBISFhMLDRAODA0ODAwODxAMFRMOCg4XEAoMDhEKEhQLCQ4MCwkRDwkNDxAJCgwPERINEAwRERMSFQsOEAsNDw4RDw0SDxATDg4KEA8KCxILEwsNEA4QEAsPDAsPEg4MDQ0SDg4REREMDRAODxAMDgoQEQ8QDxESChESDxQKDgwPExEPEBERExMOCxANEA4KDg4QEBQQDBAMDBEPEA4RDw8PCgoPEA0REQ0REhIODwoOEQ8PDw8MEA4SEQsKExINEBMQCg8LDRAMDwsTDg4NDxISDhEPDxQUEw8QDxYRDA4PEA0RCRINBw8WEQ0QDRQNEhQWDg8PCwgSDAcTDxMUDQ4QDA0RChMOEQ8QDwsPChISDxMKDxERDwsSDg4ODxANEhEJEhEMDBEQDg4NDAsQDQ4PEA4SDQ8ODRAQEA8QDxAPDRINEA0QEAwODA0SDg0VEw0REw0PEQwSERAOFA4KEAcKDhEODw4NFAwMDRARDQ4MDA4MFBMVEBINDQ0MDRAQEBERDA0PDBcQDw8OEBASDw8MERAPDRURDA4SCxAQCw4RDw4NEBESDhQQDhELDxEPDw8MEw8LERAOEw4MDA4TBw8ODBINDhAOEBASDg4MEgwPDw4REg8TDhESEA8QEw4JEBERDQ8QDhUQDA8ODwoOEQsSFBIMEBETDA8UEhIOEQ8PFAwQEQ4SDxMODwoQERMOEQ4NFAwJExESEg0TFQ0VDA4RFQwNDxQQFA4PCwwKFBELDg8QFAwPERIMEQ4NDQ4LEgwRCw8WChEVDg0TDA4QDBERCA4OCw4QEBMNEhASEg8PEA0JEhANDQ4NDAoQDQ0NDBMPExAQCwsODwoMDhIRERAQEA8TDg4QBw8OCw4RDxAOEQ8JDxENDREMERAKDQsPEAwPDhATDRMPDQ8ODQ0QDQoSDQ0NDREODxEQFRISEwsRChUQEREODRARFBESEBANDQ4VDAwWChANCwsQEhAODxESDQkJEQ0RDw4WEAwPDBMODhEQDRELDw4RExIPDg4NEA0TFBQPDQwREw0PCxAPDw8ODwwKFA8PDw0QEBAPDg8RDg8QDA4MEBMNEA8PEA4RDxMODA4QDREQEA4NEwsMDg8SDAwSDAwOChEMDw4QDhQREhMODRASEgwPEQoTDQ4RDgoODxMPDw8OEQ0OFBALFBQNERARDQ8SDREKCA4REA0PDg4PEg8NDw8SDA0QCw0NDw0RDg8QExAREQ4KDQ0JCwwQDQsQEg8MDQ8REA0JDQwODBERDw0ODxEQDg4ODxIOEg0NDw8UDxEOEhQODw8RChIPEQwJDwsRDw4MEQoQDw0NEhAPCA0RDBETCg8OEhINDRAQEA8MEBAOERILFxANDQ8PEREQEgsPDREKDQ0OERAQCxAODw8MDg4SEhEQDw4LDxAPDQ0ODhEPDhAJCxITDhALDwsRDxETEAwSERIMDQ4TERMPDRALEAoQEQ4NERANDQ0MCgoPEAkODw4RDQoKDQsNDhQPDBMRDw8TEBENEg8OEQkQDxIREg8OCw4NDwkQEBIMDQ8NDhUQEg8QDhQPEA0MEQ8RDRIREBMNDBMSDhMNExAQEw4PExAPDA0WEg4MExUNExAQDwwNFREMDRIPExEUDQ8JExIODRMNEBALEBAPEQsSDhAPCxITERAJCw0PEAwSDg0VDwsNEw0RDhMQDxEPDg8ODhALEhEWDAsRDRQQChEOEQwNEA4QDRIRCxARExAPDQ8RERMQDwwNDg0SEAoNCxAPExERDw8QEAwRCw4SDRIOFQkUFBAQEw0REAsQDAwMDREKDRIQEA4QEg4OEwwOCgwRDA0QExEQEhANDxESDREPDAwNEw8ODxENEg4TEw8NExEPDhAODg8PEAsTEQ4VCw8ODQ8OEBAQEREPEQ4QEhQTDA0HDxAMExAQEw8MDhIPDQsOEA8MEAoSEQ0PERAREg8OERQSDA0REg4REBERChAOEA4PERINDQ0VERQUEw8OCgkQDw0TEBEQDQ0TEQ4QEQ8RDBQOEg4NDRQREQgQDhAPDA0LERENFA0PDQ4LCwwVDhENEBAXDg0QDQsODhAPDgwQCQ0NDxANCxIQDAwPEQ4LCRUPEA8UDg4PDhIKDg4RCQ8MDw4NEgwLDQ8ODg4RERMMDxARDhIJEQ4QDhMKEA0REAsPDgwQEAoODhMQEA8KEAsREA0PDg8QDRQNDhMSDxENDQ8QFQgREhALEQwNEg0PDA0OEAsJEQ0QERENDAwSExUODg0YDRIPCRISDgwPDg4QDwsPDBMQDg8TEAoLEgwODxAQDhAREBELEgkPEg4MCRAOCw4RDhAMDxMSERIODgwPEgoPDg8PEg4MDw8OCQoOEA4TDBIPCxANEBIQCw4WEgwQCxAKCwsSChANDBAPEBAQEA0QDAkQEBEODw8OFA4ODxAPEQsQEA4MDg4NEA4MERIPDAkPEg0RChELCxMQDA0RDQ4PEA4NEA8PDxIODwwNEBIVCxMOEhENDw4MDhIOEQ4RCxMVEBMTEAwPDg0QEhAREA8PEg8ODQ0SEBEUDQ8PERQSDAwTEhASDg4NEA8TDRASDBAVDQ0OEBEMFA4SDQ8LDhIKEg8TEA0REAgQDhALEhAVDBMMFAwNDw4PCwwLDRIPEAwLEwsLCw0OEAwPDxMSDxALEBIOCg4RFRAMDQ8PDBUSDhEQCxEPEg0QDxMQEgwODRAPDwwQCxENDAwODxEUEBQPDg8ODw4PDhISDA0KDxEMERMJCwcPDw4UDxIVFA8REg0QDA4QDxELDhAPDhIQDAsJDw8LDwsPChIQCg4LDA4PDA4OEBELDhQPEA8PEREMEA0NDwsKDhEQEQwQExAPERARDQ0PCxEMEBIODwwNCxAMEBELEQ8MEg8QDBMSDgwQDxALDxQOEBASCxYPDxAQDBIOChQVEA0PDg4NDQ4UDQsTEhQRDw8PDg8TDxIODw0XCw8LERMSFA8VEREOCw0LEA4PDhERDREPDxEPEhETEw0RDwsNDgoQFA8QEBARCxAODw4ODw4NDhAPDhAPCg0LEw8PDwwSDREUEg8NEBAOERAPCw4PCg4RERIPDgkODg0REA8NDA8REhAODwgNEBILDBMODhIUEhANCw8QEQsPExAMEBAMCw4QEhIOEA8QEAoRDxIPDRQQFBASEQ4QEhASDwwNExAREhANDw0LEhARDhAPDQ0PEQ4RFRQPExIODg4NEBQMEQ0SDQ8LCxQUDAwVEQ4QEA8NEBEOCxANEg4NCgwOFg0MDBQKDw8QDw8PEg0JEhAODg8PDxEKDxAQDQ8OEA0NEgsMDQ8MCw0ODQ4NCQ0QFA4ODhAPEgoNCg8MEREQEBEPEgwMDxIPExIKEBAKEQ4SCRASDxANEBcREBILEg8RDxEODg4ODQ0PDxAPEQoSEA4PDxIWDAwNEBERFRANExAOERARDw4RDhANDRANDw0MEhATDgwRDw8ODhINEA8ODRQMEA8PExEOFBATEBAODgsUCxAQDxAPDhEPEA4NDxMQEQ0SDg4KEAgNCxQPFBEREA0JDBEPDBAQEQ0REBEOCw0RERETDgwREBUREAwNChISDBEQDgoMEQ0RDg8UDBEPDwoMDw8NEAoRFA8RFQsQDhANDA0PDhQREA0RDw4JDhIQDxEQERINEREPEhASEhMLDw8REQkPEg0RDBAQEREPEgoOCg8LDw4QDBQLEBIQEA0UDxAPDhELDQsPDBIUDRAMEg0MEA0ODwwPDA0QDQwTDQ4QEg0QFQsTChMODg8PDQ4QDQ4XEQ8PDxEPDREQEBAPERAPDhAMCQ0SDQsMDg8ODQ0ODxEOEQsODxINCA8TEhINDhERChMODA8OEw8TCRQNDxIQEAwOEQ0LEAsNCgsMDxAREwwPDg8OExAODA4NCQ0UDwsPCw4RERAOEQ4QEQsODQsQDg0REAoRDBMPDxESDA0SDg0RDRIQDxIODxATDg0LDg8VEBAPDw4TExIODg8PDBARDQoLDxESEw8TDQ0PExEQDxIQEQ4KDhQLDhAPEQ4UDhASDBUQEBANCxAMEBMQERMMDxARERISDg8RDQ8PDw8QEhAMEQ0QEhIJEw8TDQkPERAPDhUTDw8OEhIIDAsREhARDw8UDwoPCwcPERIRDhUQDxIREBIMDQ4OEw0SEg8MDhMPDxIODg4OEA8NEAsSDBAOEREQDRARDxEQDBAPEQ4SBQ0PFRETDQ8REBAKCxERDg8QDA4RDg8RDg8NCQ8JFBEVDBETDQkMEg8OERMPDBAOCwkSEBMPEBAOCw8RDw8NCxAREg8ODw4OERANDxAQEg8RCw8TEhQSDRYNCwwREQ4PFQwSDRALDxIQDAwPDRAPDRQNERIPEBASEA4ODhAMEQwRDwwMDxERDAoODQ0ODAoSFgURDw8QDxEMDxINDg0PEQwQEBAODRITDw4SEBEPDhIMEg4SDg4PEhANDhEOEhENDhAOEQ4OEg0ODhAJDxAOEg0QDRQSEhAPEhARERIPEBAOEwwREBEQDQwPDw0UERERCw4RDg8OEgsODQ0NEhINEBMWEA4RDA8OCxIODxMQCw4ODxEKDhAQEQ8JERIODw4NEw4ODw8RCxEUERMSFA8NEhISERETEhEQEAwPCg4PDw4RDRIKDw0PEAgQDg4NFBIPDxIPDw0RDBYPEw8LDQ0OEA8PExERCw0ODRIQCxUTDgkMDAoSEQwQDw4QDw4RDxMPCwsPEBISDhANCw0PDwsQCBMOEBAOEg8KEBAMEQ8QEQ0NEQ0TDhUSDBASExUUEAwQEREKEBMQDQsOEBATEBIOEA4UDBMPFA8NEg8OEhAQDBEPEBIOEw0QFBISDQoPDRIOEBAUDxAMCgwRCBAPDRAUCwsODBAPEg8PEA4QDgsPDgsMCxIRDQ8NDQwPDwkRDxINEBMQERAOERIOEggTEBMOEhQSDg4QDg8RDQ4PDg8LCxMODBARDAwMDxIMEA4NEg8PEw4NDRESCxAODhAPEA8SDgwMDw8NEhQVDRAODA0QERIRFhEPDwsRDA4PDg4ODRQPDBQNEgwRDQ8QDAkNDA4NDBAMEhMTFBIUDhARDhEQEwoNEhUQEQsOCgwLERENDRAREAwPEhUPDwwQDQwPEQ4PDg8NDxERDhEMEA8UDwwRCwoPDw8RDw4SDw4ODA4NEhASEQ8OCxEPDg4SDw8NDxERERAREAwNDBAPEQ8KDwoLEAwMDwsLFBAPEA0QEQwTDhINDw8NEBELEQ4NDQ0RDhEREBIPDBMQEBQLDRIPDREMEQ0TExAMDw0OEQ8OEQ4RDgoQDg8NEw8NEQwMDg0KFAoOERMVDQ8QEA8TDQ0MDhANDA8PERMMEg4QDA4LEA8QCxIOFAsRDhERDw8QDRAVFQ0QEBANDhESFA8RDhINEQwMEgwTERAOFA4TEgwNEA8OEBILDQ0NEBENDwoUFBERDw4NERENEw8MDxYREQ4ODwwSDg0REhAQEBAODRASFA0LDhIRDhILFA4NEREQCQkLEBARERMRDg0SDhALDhAPEQ8NEAsNEA4ODwsNDw0MDhATDwwTDBAODw8SEA8NDxIMCw4REw4NDQ8KEw4QDBEPDxMNDxAREhQQDQ8PDQ8PDQwPEw8MDhAODxQQDw0RDxENERIMDhAMDhANDhcQDhQREw4SEBANEQ8ODBUPEBEREA8KDQsOCw4KEQwNBxINEBEPEQwNEA0LDQ8ODxARDg0SDxQTEBEPDA4NDg8TCw0OFAwKDRAQEQ4SDhMSDgwODQ4OEw8RDw4QERIUDAkQDgwUDxERDQ8ODA4RDRQRDw0ODgoPFBINEg0NEw8QDRASDg4MDg0LEREMEBATDw8OEgsNEA8WEBAQCxMMEA0ODREQEQ8MDxEODBIRDw0PDAoSCw8LEQwVEg8RERUQEBMMERMNDA8RDRANEBMOEBASDhEUEA4QDg8HDgwMEA0ODhEMEREQEBAODxAKDxATEQ4REhEMEBAUDQ0TEwwSDA4LDwwRDhMQDg8QEwoSEA4ODw8TDxIPDw0OEwwTDAwQERASEg4REA0MCw4JDRQPDQwMCRAPEQ4NEAoVFQwSDRIPDQ0ODBQNEhEMDgsWEA0PDAsTFQ4TEQ4KDg8LEQ4SDhENEBIPEA0VDQ4SEA4PExQMDBMQEA8OEBQUDwsOEBMRDhMRCgsNEg4SDhMQChEODhYNEgwPCQwPCw0NEQ8LDA0QEw0MEQ4NEREODhERChIIEBEPDhEODRMREA4ODw8QExATEAwNChAPEg8QDBMPCxMODBUPDxIKEw8NDQ4TDBMKCxASEA0OEA8KDgsPDQ0ODgwPEBULCBIMEBEOExEPEBEQEA4REBcRDxMODw8UDhIQDREQCw8PEQ0QDw0RDAwPEg4LDQ0SEgwTEBIODwsPEw4OEw4KCwsMFA4PFg4QDQwPDgoODgoSDQ0PDhAOChENEgoUDhIOEg8NDREUDgwQExINDgsLEg0MFQ0KEQ0SEg8KDw8QERIPDhETEBIPEQ4RDg8SFggRCw4PDRMODgwLDwsQDQ4OEA4MDg0UDwwNCREPFQYNDg0SEA8MDQ8TDBEPDgoSDAsREQsKEg0PEAwSDw0OERAODAwQERENCw8ODw4SDBEPEQ4RDhMXDA4REgsNDREVDwwPEA4QEQsNDxEQDA4VDwcNCgkWDw0NDQ8ODw4REwwQEhARDw0MDg8PDhENEg8QDBMNEBISEBQQDAwPExUKDhETCw0UDgsNDg0NDw4UEwwNEAoOEQ0ODhIODw8NEw0SDgwMDw4MDQ0QDRASCw0QEA0ODwwUDg4SDQ4JDgoPDw4MDREMFQ8KDAgRDxANEBAUDw0RDQ8GCRIREAoNFA4TERAPDRANFA8GChAUDhIODBAPDQwLCw4SEA8OERQSDhENEQ8RDRANEgkRDREMEBAOEQwQFBQMDw4QDw8RDxETEBEPDQ4SDwoSDQ8PEREMEQsTFA4SFQ4NDxINEQ8TEw8VEAkSDhAQEA0SEg0ODwgTEhENDA4RCwwRDhASDQ8QDRQPEQkLEw8NEQ0QEQ8REg4REhAIERENDwoQDQ8QDxMQEQ0ODg0RDQwNEA0NDQ0QDw8QBxESDREREBMNDhAOFwoSDA8OEBIQDw8SEhIQEg8QEw0TERENDxESDw8SDhMMERIOEg4TEBIUDhEMDQ0TERAODg4PDRANEQ8PERANDBANEhESDw8SDA8RDxEOEQwRDxAPDBMNDw4REBQTDQ8PDA8OEQ0ODg8PDw0LCg0NDw8NDw4OCQ8ODAoNDA0NExIQERYUExARCwoQEAwOCxQNDg8OFRIPEA4QDg8TCxINFBELDhETExQQCg0PEg4RDxAODhELEg8QChARDxURDRMMDg8OChESDxETDQ0UDQ==",
          "dtype": "i1"
         },
         "xaxis": "x",
         "yaxis": "y"
        }
       ],
       "layout": {
        "barmode": "relative",
        "height": 600,
        "legend": {
         "title": {
          "text": "variable"
         },
         "tracegroupgap": 0
        },
        "margin": {
         "t": 60
        },
        "template": {
         "data": {
          "bar": [
           {
            "error_x": {
             "color": "#2a3f5f"
            },
            "error_y": {
             "color": "#2a3f5f"
            },
            "marker": {
             "line": {
              "color": "#E5ECF6",
              "width": 0.5
             },
             "pattern": {
              "fillmode": "overlay",
              "size": 10,
              "solidity": 0.2
             }
            },
            "type": "bar"
           }
          ],
          "barpolar": [
           {
            "marker": {
             "line": {
              "color": "#E5ECF6",
              "width": 0.5
             },
             "pattern": {
              "fillmode": "overlay",
              "size": 10,
              "solidity": 0.2
             }
            },
            "type": "barpolar"
           }
          ],
          "carpet": [
           {
            "aaxis": {
             "endlinecolor": "#2a3f5f",
             "gridcolor": "white",
             "linecolor": "white",
             "minorgridcolor": "white",
             "startlinecolor": "#2a3f5f"
            },
            "baxis": {
             "endlinecolor": "#2a3f5f",
             "gridcolor": "white",
             "linecolor": "white",
             "minorgridcolor": "white",
             "startlinecolor": "#2a3f5f"
            },
            "type": "carpet"
           }
          ],
          "choropleth": [
           {
            "colorbar": {
             "outlinewidth": 0,
             "ticks": ""
            },
            "type": "choropleth"
           }
          ],
          "contour": [
           {
            "colorbar": {
             "outlinewidth": 0,
             "ticks": ""
            },
            "colorscale": [
             [
              0,
              "#0d0887"
             ],
             [
              0.1111111111111111,
              "#46039f"
             ],
             [
              0.2222222222222222,
              "#7201a8"
             ],
             [
              0.3333333333333333,
              "#9c179e"
             ],
             [
              0.4444444444444444,
              "#bd3786"
             ],
             [
              0.5555555555555556,
              "#d8576b"
             ],
             [
              0.6666666666666666,
              "#ed7953"
             ],
             [
              0.7777777777777778,
              "#fb9f3a"
             ],
             [
              0.8888888888888888,
              "#fdca26"
             ],
             [
              1,
              "#f0f921"
             ]
            ],
            "type": "contour"
           }
          ],
          "contourcarpet": [
           {
            "colorbar": {
             "outlinewidth": 0,
             "ticks": ""
            },
            "type": "contourcarpet"
           }
          ],
          "heatmap": [
           {
            "colorbar": {
             "outlinewidth": 0,
             "ticks": ""
            },
            "colorscale": [
             [
              0,
              "#0d0887"
             ],
             [
              0.1111111111111111,
              "#46039f"
             ],
             [
              0.2222222222222222,
              "#7201a8"
             ],
             [
              0.3333333333333333,
              "#9c179e"
             ],
             [
              0.4444444444444444,
              "#bd3786"
             ],
             [
              0.5555555555555556,
              "#d8576b"
             ],
             [
              0.6666666666666666,
              "#ed7953"
             ],
             [
              0.7777777777777778,
              "#fb9f3a"
             ],
             [
              0.8888888888888888,
              "#fdca26"
             ],
             [
              1,
              "#f0f921"
             ]
            ],
            "type": "heatmap"
           }
          ],
          "histogram": [
           {
            "marker": {
             "pattern": {
              "fillmode": "overlay",
              "size": 10,
              "solidity": 0.2
             }
            },
            "type": "histogram"
           }
          ],
          "histogram2d": [
           {
            "colorbar": {
             "outlinewidth": 0,
             "ticks": ""
            },
            "colorscale": [
             [
              0,
              "#0d0887"
             ],
             [
              0.1111111111111111,
              "#46039f"
             ],
             [
              0.2222222222222222,
              "#7201a8"
             ],
             [
              0.3333333333333333,
              "#9c179e"
             ],
             [
              0.4444444444444444,
              "#bd3786"
             ],
             [
              0.5555555555555556,
              "#d8576b"
             ],
             [
              0.6666666666666666,
              "#ed7953"
             ],
             [
              0.7777777777777778,
              "#fb9f3a"
             ],
             [
              0.8888888888888888,
              "#fdca26"
             ],
             [
              1,
              "#f0f921"
             ]
            ],
            "type": "histogram2d"
           }
          ],
          "histogram2dcontour": [
           {
            "colorbar": {
             "outlinewidth": 0,
             "ticks": ""
            },
            "colorscale": [
             [
              0,
              "#0d0887"
             ],
             [
              0.1111111111111111,
              "#46039f"
             ],
             [
              0.2222222222222222,
              "#7201a8"
             ],
             [
              0.3333333333333333,
              "#9c179e"
             ],
             [
              0.4444444444444444,
              "#bd3786"
             ],
             [
              0.5555555555555556,
              "#d8576b"
             ],
             [
              0.6666666666666666,
              "#ed7953"
             ],
             [
              0.7777777777777778,
              "#fb9f3a"
             ],
             [
              0.8888888888888888,
              "#fdca26"
             ],
             [
              1,
              "#f0f921"
             ]
            ],
            "type": "histogram2dcontour"
           }
          ],
          "mesh3d": [
           {
            "colorbar": {
             "outlinewidth": 0,
             "ticks": ""
            },
            "type": "mesh3d"
           }
          ],
          "parcoords": [
           {
            "line": {
             "colorbar": {
              "outlinewidth": 0,
              "ticks": ""
             }
            },
            "type": "parcoords"
           }
          ],
          "pie": [
           {
            "automargin": true,
            "type": "pie"
           }
          ],
          "scatter": [
           {
            "fillpattern": {
             "fillmode": "overlay",
             "size": 10,
             "solidity": 0.2
            },
            "type": "scatter"
           }
          ],
          "scatter3d": [
           {
            "line": {
             "colorbar": {
              "outlinewidth": 0,
              "ticks": ""
             }
            },
            "marker": {
             "colorbar": {
              "outlinewidth": 0,
              "ticks": ""
             }
            },
            "type": "scatter3d"
           }
          ],
          "scattercarpet": [
           {
            "marker": {
             "colorbar": {
              "outlinewidth": 0,
              "ticks": ""
             }
            },
            "type": "scattercarpet"
           }
          ],
          "scattergeo": [
           {
            "marker": {
             "colorbar": {
              "outlinewidth": 0,
              "ticks": ""
             }
            },
            "type": "scattergeo"
           }
          ],
          "scattergl": [
           {
            "marker": {
             "colorbar": {
              "outlinewidth": 0,
              "ticks": ""
             }
            },
            "type": "scattergl"
           }
          ],
          "scattermap": [
           {
            "marker": {
             "colorbar": {
              "outlinewidth": 0,
              "ticks": ""
             }
            },
            "type": "scattermap"
           }
          ],
          "scattermapbox": [
           {
            "marker": {
             "colorbar": {
              "outlinewidth": 0,
              "ticks": ""
             }
            },
            "type": "scattermapbox"
           }
          ],
          "scatterpolar": [
           {
            "marker": {
             "colorbar": {
              "outlinewidth": 0,
              "ticks": ""
             }
            },
            "type": "scatterpolar"
           }
          ],
          "scatterpolargl": [
           {
            "marker": {
             "colorbar": {
              "outlinewidth": 0,
              "ticks": ""
             }
            },
            "type": "scatterpolargl"
           }
          ],
          "scatterternary": [
           {
            "marker": {
             "colorbar": {
              "outlinewidth": 0,
              "ticks": ""
             }
            },
            "type": "scatterternary"
           }
          ],
          "surface": [
           {
            "colorbar": {
             "outlinewidth": 0,
             "ticks": ""
            },
            "colorscale": [
             [
              0,
              "#0d0887"
             ],
             [
              0.1111111111111111,
              "#46039f"
             ],
             [
              0.2222222222222222,
              "#7201a8"
             ],
             [
              0.3333333333333333,
              "#9c179e"
             ],
             [
              0.4444444444444444,
              "#bd3786"
             ],
             [
              0.5555555555555556,
              "#d8576b"
             ],
             [
              0.6666666666666666,
              "#ed7953"
             ],
             [
              0.7777777777777778,
              "#fb9f3a"
             ],
             [
              0.8888888888888888,
              "#fdca26"
             ],
             [
              1,
              "#f0f921"
             ]
            ],
            "type": "surface"
           }
          ],
          "table": [
           {
            "cells": {
             "fill": {
              "color": "#EBF0F8"
             },
             "line": {
              "color": "white"
             }
            },
            "header": {
             "fill": {
              "color": "#C8D4E3"
             },
             "line": {
              "color": "white"
             }
            },
            "type": "table"
           }
          ]
         },
         "layout": {
          "annotationdefaults": {
           "arrowcolor": "#2a3f5f",
           "arrowhead": 0,
           "arrowwidth": 1
          },
          "autotypenumbers": "strict",
          "coloraxis": {
           "colorbar": {
            "outlinewidth": 0,
            "ticks": ""
           }
          },
          "colorscale": {
           "diverging": [
            [
             0,
             "#8e0152"
            ],
            [
             0.1,
             "#c51b7d"
            ],
            [
             0.2,
             "#de77ae"
            ],
            [
             0.3,
             "#f1b6da"
            ],
            [
             0.4,
             "#fde0ef"
            ],
            [
             0.5,
             "#f7f7f7"
            ],
            [
             0.6,
             "#e6f5d0"
            ],
            [
             0.7,
             "#b8e186"
            ],
            [
             0.8,
             "#7fbc41"
            ],
            [
             0.9,
             "#4d9221"
            ],
            [
             1,
             "#276419"
            ]
           ],
           "sequential": [
            [
             0,
             "#0d0887"
            ],
            [
             0.1111111111111111,
             "#46039f"
            ],
            [
             0.2222222222222222,
             "#7201a8"
            ],
            [
             0.3333333333333333,
             "#9c179e"
            ],
            [
             0.4444444444444444,
             "#bd3786"
            ],
            [
             0.5555555555555556,
             "#d8576b"
            ],
            [
             0.6666666666666666,
             "#ed7953"
            ],
            [
             0.7777777777777778,
             "#fb9f3a"
            ],
            [
             0.8888888888888888,
             "#fdca26"
            ],
            [
             1,
             "#f0f921"
            ]
           ],
           "sequentialminus": [
            [
             0,
             "#0d0887"
            ],
            [
             0.1111111111111111,
             "#46039f"
            ],
            [
             0.2222222222222222,
             "#7201a8"
            ],
            [
             0.3333333333333333,
             "#9c179e"
            ],
            [
             0.4444444444444444,
             "#bd3786"
            ],
            [
             0.5555555555555556,
             "#d8576b"
            ],
            [
             0.6666666666666666,
             "#ed7953"
            ],
            [
             0.7777777777777778,
             "#fb9f3a"
            ],
            [
             0.8888888888888888,
             "#fdca26"
            ],
            [
             1,
             "#f0f921"
            ]
           ]
          },
          "colorway": [
           "#636efa",
           "#EF553B",
           "#00cc96",
           "#ab63fa",
           "#FFA15A",
           "#19d3f3",
           "#FF6692",
           "#B6E880",
           "#FF97FF",
           "#FECB52"
          ],
          "font": {
           "color": "#2a3f5f"
          },
          "geo": {
           "bgcolor": "white",
           "lakecolor": "white",
           "landcolor": "#E5ECF6",
           "showlakes": true,
           "showland": true,
           "subunitcolor": "white"
          },
          "hoverlabel": {
           "align": "left"
          },
          "hovermode": "closest",
          "mapbox": {
           "style": "light"
          },
          "paper_bgcolor": "white",
          "plot_bgcolor": "#E5ECF6",
          "polar": {
           "angularaxis": {
            "gridcolor": "white",
            "linecolor": "white",
            "ticks": ""
           },
           "bgcolor": "#E5ECF6",
           "radialaxis": {
            "gridcolor": "white",
            "linecolor": "white",
            "ticks": ""
           }
          },
          "scene": {
           "xaxis": {
            "backgroundcolor": "#E5ECF6",
            "gridcolor": "white",
            "gridwidth": 2,
            "linecolor": "white",
            "showbackground": true,
            "ticks": "",
            "zerolinecolor": "white"
           },
           "yaxis": {
            "backgroundcolor": "#E5ECF6",
            "gridcolor": "white",
            "gridwidth": 2,
            "linecolor": "white",
            "showbackground": true,
            "ticks": "",
            "zerolinecolor": "white"
           },
           "zaxis": {
            "backgroundcolor": "#E5ECF6",
            "gridcolor": "white",
            "gridwidth": 2,
            "linecolor": "white",
            "showbackground": true,
            "ticks": "",
            "zerolinecolor": "white"
           }
          },
          "shapedefaults": {
           "line": {
            "color": "#2a3f5f"
           }
          },
          "ternary": {
           "aaxis": {
            "gridcolor": "white",
            "linecolor": "white",
            "ticks": ""
           },
           "baxis": {
            "gridcolor": "white",
            "linecolor": "white",
            "ticks": ""
           },
           "bgcolor": "#E5ECF6",
           "caxis": {
            "gridcolor": "white",
            "linecolor": "white",
            "ticks": ""
           }
          },
          "title": {
           "x": 0.05
          },
          "xaxis": {
           "automargin": true,
           "gridcolor": "white",
           "linecolor": "white",
           "ticks": "",
           "title": {
            "standoff": 15
           },
           "zerolinecolor": "white",
           "zerolinewidth": 2
          },
          "yaxis": {
           "automargin": true,
           "gridcolor": "white",
           "linecolor": "white",
           "ticks": "",
           "title": {
            "standoff": 15
           },
           "zerolinecolor": "white",
           "zerolinewidth": 2
          }
         }
        },
        "xaxis": {
         "anchor": "y",
         "domain": [
          0,
          1
         ],
         "title": {
          "text": "value"
         }
        },
        "yaxis": {
         "anchor": "x",
         "domain": [
          0,
          1
         ],
         "title": {
          "text": "count"
         }
        }
       }
      }
     },
     "metadata": {},
     "output_type": "display_data"
    }
   ],
   "source": [
    "px.histogram(resultado, height=600)"
   ]
  },
  {
   "cell_type": "markdown",
   "metadata": {},
   "source": [
    "## Caso em que não conhecemos bem o funcionamento do sistema"
   ]
  },
  {
   "cell_type": "markdown",
   "metadata": {},
   "source": [
    "## A/B Test"
   ]
  },
  {
   "cell_type": "code",
   "execution_count": 29,
   "metadata": {},
   "outputs": [],
   "source": [
    "A = np.array([84, 72, 57, 46, 63, 76, 99, 91])\n",
    "B = np.array([81, 69, 74, 61, 56, 87, 69, 56, 66, 44, 62, 69])"
   ]
  },
  {
   "cell_type": "code",
   "execution_count": 30,
   "metadata": {},
   "outputs": [],
   "source": [
    "from statsmodels.stats.weightstats import ttest_ind\n",
    "\n",
    "t, p, dof = ttest_ind(A, B, alternative='larger', usevar='unequal')"
   ]
  },
  {
   "cell_type": "code",
   "execution_count": 31,
   "id": "37bd7623",
   "metadata": {},
   "outputs": [
    {
     "name": "stdout",
     "output_type": "stream",
     "text": [
      "t-statistic: 1.0293\n",
      "p-value: 0.1627\n",
      "degrees of freedom: 11.0\n",
      "\n",
      "Interpretação:\n",
      "Grupo A média: 73.50\n",
      "Grupo B média: 66.17\n",
      "Diferença das médias: 7.33\n",
      "Resultado não significativo (p >= 0.05): não há evidência suficiente de diferença\n"
     ]
    }
   ],
   "source": [
    "print(f\"t-statistic: {t:.4f}\")\n",
    "print(f\"p-value: {p:.4f}\")\n",
    "print(f\"degrees of freedom: {dof:.1f}\")\n",
    "print(f\"\\nInterpretação:\")\n",
    "print(f\"Grupo A média: {A.mean():.2f}\")\n",
    "print(f\"Grupo B média: {B.mean():.2f}\")\n",
    "print(f\"Diferença das médias: {A.mean() - B.mean():.2f}\")\n",
    "if p < 0.05:\n",
    "    print(\"Resultado significativo (p < 0.05): há evidência de diferença entre os grupos\")\n",
    "else:\n",
    "    print(\"Resultado não significativo (p >= 0.05): não há evidência suficiente de diferença\")"
   ]
  },
  {
   "cell_type": "markdown",
   "id": "92feb340",
   "metadata": {},
   "source": [
    "### ttest_ind(A, B, alternative='larger', usevar='unequal')\n",
    "\n",
    "**Return values**\n",
    "- **t (t-statistic)**  \n",
    "  Ratio of observed mean difference to the standard error of the difference:  \n",
    "  \\[\n",
    "  t = \\frac{\\bar{X}_A - \\bar{X}_B}{SE}\n",
    "  \\]  \n",
    "  Large |t| = stronger evidence against the null hypothesis.\n",
    "\n",
    "- **p (p-value)**  \n",
    "  Probability of observing a statistic as extreme as `t` under the null hypothesis.  \n",
    "  With `alternative=\"larger\"`, it is the probability that mean(A) ≤ mean(B) but the data look at least this extreme.\n",
    "\n",
    "- **dof (degrees of freedom)**  \n",
    "  Effective sample size adjustment for variance estimation.  \n",
    "  With `usevar=\"unequal\"`, Welch–Satterthwaite formula applies:  \n",
    "  \\[\n",
    "  df = \\frac{\\left(\\frac{s_A^2}{n_A} + \\frac{s_B^2}{n_B}\\right)^2}{\\frac{(s_A^2/n_A)^2}{n_A-1} + \\frac{(s_B^2/n_B)^2}{n_B-1}}\n",
    "  \\]\n",
    "\n",
    "---\n",
    "\n",
    "**Parameters**\n",
    "\n",
    "- **alternative**  \n",
    "  - `\"two-sided\"`: \\(H_0: \\mu_A = \\mu_B\\) vs \\(H_1: \\mu_A \\neq \\mu_B\\)  \n",
    "  - `\"less\"`: \\(H_0: \\mu_A \\geq \\mu_B\\) vs \\(H_1: \\mu_A < \\mu_B\\)  \n",
    "  - `\"greater\"` / `\"larger\"`: \\(H_0: \\mu_A \\leq \\mu_B\\) vs \\(H_1: \\mu_A > \\mu_B\\)\n",
    "\n",
    "- **usevar**  \n",
    "  - `\"pooled\"`: Student’s t-test, assumes equal variances.  \n",
    "  - `\"unequal\"`: Welch’s t-test, robust to unequal variances/sample sizes.  \n",
    "  - `\"bf\"`: Bayesian approximation (rarely used).\n",
    "\n",
    "---\n",
    "\n",
    "**Summary**\n",
    "- `t`: standardized mean difference.  \n",
    "- `p`: probability under null.  \n",
    "- `dof`: degrees of freedom, exact (pooled) or approximate (unequal).  \n",
    "- `alternative`: test direction.  \n",
    "- `usevar`: variance assumption.\n"
   ]
  },
  {
   "cell_type": "markdown",
   "metadata": {},
   "source": [
    "## Se os grupos são iguais, não deve importar alterar elementos do grupo A para o B e vice versa\n",
    "\n",
    "* Shuffle\n",
    "\n",
    "* Rearranja\n",
    "\n",
    "* Calcula a média"
   ]
  },
  {
   "cell_type": "code",
   "execution_count": 32,
   "metadata": {},
   "outputs": [
    {
     "name": "stdout",
     "output_type": "stream",
     "text": [
      "7.333333333333329\n"
     ]
    }
   ],
   "source": [
    "diferenca = A.mean() - B.mean()\n",
    "print(diferenca)"
   ]
  },
  {
   "cell_type": "code",
   "execution_count": 33,
   "metadata": {},
   "outputs": [],
   "source": [
    "trials = 10000\n",
    "diferencas = np.zeros(trials)\n",
    "total = np.concatenate((A, B)) \n",
    "for i in range(trials):\n",
    "    np.random.shuffle(total)\n",
    "    A_new = total[:8]\n",
    "    B_new = total[8:]\n",
    "    diferenca = A_new.mean() - B_new.mean()\n",
    "    diferencas[i] = diferenca"
   ]
  },
  {
   "cell_type": "code",
   "execution_count": 34,
   "metadata": {},
   "outputs": [
    {
     "data": {
      "application/vnd.plotly.v1+json": {
       "config": {
        "plotlyServerURL": "https://plot.ly"
       },
       "data": [
        {
         "bingroup": "x",
         "hovertemplate": "variable=0<br>value=%{x}<br>count=%{y}<extra></extra>",
         "legendgroup": "0",
         "marker": {
          "color": "#636efa",
          "pattern": {
           "shape": ""
          }
         },
         "name": "0",
         "orientation": "v",
         "showlegend": true,
         "type": "histogram",
         "x": {
          "bdata": "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",
          "dtype": "f8"
         },
         "xaxis": "x",
         "yaxis": "y"
        }
       ],
       "layout": {
        "barmode": "relative",
        "height": 600,
        "legend": {
         "title": {
          "text": "variable"
         },
         "tracegroupgap": 0
        },
        "margin": {
         "t": 60
        },
        "template": {
         "data": {
          "bar": [
           {
            "error_x": {
             "color": "#2a3f5f"
            },
            "error_y": {
             "color": "#2a3f5f"
            },
            "marker": {
             "line": {
              "color": "#E5ECF6",
              "width": 0.5
             },
             "pattern": {
              "fillmode": "overlay",
              "size": 10,
              "solidity": 0.2
             }
            },
            "type": "bar"
           }
          ],
          "barpolar": [
           {
            "marker": {
             "line": {
              "color": "#E5ECF6",
              "width": 0.5
             },
             "pattern": {
              "fillmode": "overlay",
              "size": 10,
              "solidity": 0.2
             }
            },
            "type": "barpolar"
           }
          ],
          "carpet": [
           {
            "aaxis": {
             "endlinecolor": "#2a3f5f",
             "gridcolor": "white",
             "linecolor": "white",
             "minorgridcolor": "white",
             "startlinecolor": "#2a3f5f"
            },
            "baxis": {
             "endlinecolor": "#2a3f5f",
             "gridcolor": "white",
             "linecolor": "white",
             "minorgridcolor": "white",
             "startlinecolor": "#2a3f5f"
            },
            "type": "carpet"
           }
          ],
          "choropleth": [
           {
            "colorbar": {
             "outlinewidth": 0,
             "ticks": ""
            },
            "type": "choropleth"
           }
          ],
          "contour": [
           {
            "colorbar": {
             "outlinewidth": 0,
             "ticks": ""
            },
            "colorscale": [
             [
              0,
              "#0d0887"
             ],
             [
              0.1111111111111111,
              "#46039f"
             ],
             [
              0.2222222222222222,
              "#7201a8"
             ],
             [
              0.3333333333333333,
              "#9c179e"
             ],
             [
              0.4444444444444444,
              "#bd3786"
             ],
             [
              0.5555555555555556,
              "#d8576b"
             ],
             [
              0.6666666666666666,
              "#ed7953"
             ],
             [
              0.7777777777777778,
              "#fb9f3a"
             ],
             [
              0.8888888888888888,
              "#fdca26"
             ],
             [
              1,
              "#f0f921"
             ]
            ],
            "type": "contour"
           }
          ],
          "contourcarpet": [
           {
            "colorbar": {
             "outlinewidth": 0,
             "ticks": ""
            },
            "type": "contourcarpet"
           }
          ],
          "heatmap": [
           {
            "colorbar": {
             "outlinewidth": 0,
             "ticks": ""
            },
            "colorscale": [
             [
              0,
              "#0d0887"
             ],
             [
              0.1111111111111111,
              "#46039f"
             ],
             [
              0.2222222222222222,
              "#7201a8"
             ],
             [
              0.3333333333333333,
              "#9c179e"
             ],
             [
              0.4444444444444444,
              "#bd3786"
             ],
             [
              0.5555555555555556,
              "#d8576b"
             ],
             [
              0.6666666666666666,
              "#ed7953"
             ],
             [
              0.7777777777777778,
              "#fb9f3a"
             ],
             [
              0.8888888888888888,
              "#fdca26"
             ],
             [
              1,
              "#f0f921"
             ]
            ],
            "type": "heatmap"
           }
          ],
          "histogram": [
           {
            "marker": {
             "pattern": {
              "fillmode": "overlay",
              "size": 10,
              "solidity": 0.2
             }
            },
            "type": "histogram"
           }
          ],
          "histogram2d": [
           {
            "colorbar": {
             "outlinewidth": 0,
             "ticks": ""
            },
            "colorscale": [
             [
              0,
              "#0d0887"
             ],
             [
              0.1111111111111111,
              "#46039f"
             ],
             [
              0.2222222222222222,
              "#7201a8"
             ],
             [
              0.3333333333333333,
              "#9c179e"
             ],
             [
              0.4444444444444444,
              "#bd3786"
             ],
             [
              0.5555555555555556,
              "#d8576b"
             ],
             [
              0.6666666666666666,
              "#ed7953"
             ],
             [
              0.7777777777777778,
              "#fb9f3a"
             ],
             [
              0.8888888888888888,
              "#fdca26"
             ],
             [
              1,
              "#f0f921"
             ]
            ],
            "type": "histogram2d"
           }
          ],
          "histogram2dcontour": [
           {
            "colorbar": {
             "outlinewidth": 0,
             "ticks": ""
            },
            "colorscale": [
             [
              0,
              "#0d0887"
             ],
             [
              0.1111111111111111,
              "#46039f"
             ],
             [
              0.2222222222222222,
              "#7201a8"
             ],
             [
              0.3333333333333333,
              "#9c179e"
             ],
             [
              0.4444444444444444,
              "#bd3786"
             ],
             [
              0.5555555555555556,
              "#d8576b"
             ],
             [
              0.6666666666666666,
              "#ed7953"
             ],
             [
              0.7777777777777778,
              "#fb9f3a"
             ],
             [
              0.8888888888888888,
              "#fdca26"
             ],
             [
              1,
              "#f0f921"
             ]
            ],
            "type": "histogram2dcontour"
           }
          ],
          "mesh3d": [
           {
            "colorbar": {
             "outlinewidth": 0,
             "ticks": ""
            },
            "type": "mesh3d"
           }
          ],
          "parcoords": [
           {
            "line": {
             "colorbar": {
              "outlinewidth": 0,
              "ticks": ""
             }
            },
            "type": "parcoords"
           }
          ],
          "pie": [
           {
            "automargin": true,
            "type": "pie"
           }
          ],
          "scatter": [
           {
            "fillpattern": {
             "fillmode": "overlay",
             "size": 10,
             "solidity": 0.2
            },
            "type": "scatter"
           }
          ],
          "scatter3d": [
           {
            "line": {
             "colorbar": {
              "outlinewidth": 0,
              "ticks": ""
             }
            },
            "marker": {
             "colorbar": {
              "outlinewidth": 0,
              "ticks": ""
             }
            },
            "type": "scatter3d"
           }
          ],
          "scattercarpet": [
           {
            "marker": {
             "colorbar": {
              "outlinewidth": 0,
              "ticks": ""
             }
            },
            "type": "scattercarpet"
           }
          ],
          "scattergeo": [
           {
            "marker": {
             "colorbar": {
              "outlinewidth": 0,
              "ticks": ""
             }
            },
            "type": "scattergeo"
           }
          ],
          "scattergl": [
           {
            "marker": {
             "colorbar": {
              "outlinewidth": 0,
              "ticks": ""
             }
            },
            "type": "scattergl"
           }
          ],
          "scattermap": [
           {
            "marker": {
             "colorbar": {
              "outlinewidth": 0,
              "ticks": ""
             }
            },
            "type": "scattermap"
           }
          ],
          "scattermapbox": [
           {
            "marker": {
             "colorbar": {
              "outlinewidth": 0,
              "ticks": ""
             }
            },
            "type": "scattermapbox"
           }
          ],
          "scatterpolar": [
           {
            "marker": {
             "colorbar": {
              "outlinewidth": 0,
              "ticks": ""
             }
            },
            "type": "scatterpolar"
           }
          ],
          "scatterpolargl": [
           {
            "marker": {
             "colorbar": {
              "outlinewidth": 0,
              "ticks": ""
             }
            },
            "type": "scatterpolargl"
           }
          ],
          "scatterternary": [
           {
            "marker": {
             "colorbar": {
              "outlinewidth": 0,
              "ticks": ""
             }
            },
            "type": "scatterternary"
           }
          ],
          "surface": [
           {
            "colorbar": {
             "outlinewidth": 0,
             "ticks": ""
            },
            "colorscale": [
             [
              0,
              "#0d0887"
             ],
             [
              0.1111111111111111,
              "#46039f"
             ],
             [
              0.2222222222222222,
              "#7201a8"
             ],
             [
              0.3333333333333333,
              "#9c179e"
             ],
             [
              0.4444444444444444,
              "#bd3786"
             ],
             [
              0.5555555555555556,
              "#d8576b"
             ],
             [
              0.6666666666666666,
              "#ed7953"
             ],
             [
              0.7777777777777778,
              "#fb9f3a"
             ],
             [
              0.8888888888888888,
              "#fdca26"
             ],
             [
              1,
              "#f0f921"
             ]
            ],
            "type": "surface"
           }
          ],
          "table": [
           {
            "cells": {
             "fill": {
              "color": "#EBF0F8"
             },
             "line": {
              "color": "white"
             }
            },
            "header": {
             "fill": {
              "color": "#C8D4E3"
             },
             "line": {
              "color": "white"
             }
            },
            "type": "table"
           }
          ]
         },
         "layout": {
          "annotationdefaults": {
           "arrowcolor": "#2a3f5f",
           "arrowhead": 0,
           "arrowwidth": 1
          },
          "autotypenumbers": "strict",
          "coloraxis": {
           "colorbar": {
            "outlinewidth": 0,
            "ticks": ""
           }
          },
          "colorscale": {
           "diverging": [
            [
             0,
             "#8e0152"
            ],
            [
             0.1,
             "#c51b7d"
            ],
            [
             0.2,
             "#de77ae"
            ],
            [
             0.3,
             "#f1b6da"
            ],
            [
             0.4,
             "#fde0ef"
            ],
            [
             0.5,
             "#f7f7f7"
            ],
            [
             0.6,
             "#e6f5d0"
            ],
            [
             0.7,
             "#b8e186"
            ],
            [
             0.8,
             "#7fbc41"
            ],
            [
             0.9,
             "#4d9221"
            ],
            [
             1,
             "#276419"
            ]
           ],
           "sequential": [
            [
             0,
             "#0d0887"
            ],
            [
             0.1111111111111111,
             "#46039f"
            ],
            [
             0.2222222222222222,
             "#7201a8"
            ],
            [
             0.3333333333333333,
             "#9c179e"
            ],
            [
             0.4444444444444444,
             "#bd3786"
            ],
            [
             0.5555555555555556,
             "#d8576b"
            ],
            [
             0.6666666666666666,
             "#ed7953"
            ],
            [
             0.7777777777777778,
             "#fb9f3a"
            ],
            [
             0.8888888888888888,
             "#fdca26"
            ],
            [
             1,
             "#f0f921"
            ]
           ],
           "sequentialminus": [
            [
             0,
             "#0d0887"
            ],
            [
             0.1111111111111111,
             "#46039f"
            ],
            [
             0.2222222222222222,
             "#7201a8"
            ],
            [
             0.3333333333333333,
             "#9c179e"
            ],
            [
             0.4444444444444444,
             "#bd3786"
            ],
            [
             0.5555555555555556,
             "#d8576b"
            ],
            [
             0.6666666666666666,
             "#ed7953"
            ],
            [
             0.7777777777777778,
             "#fb9f3a"
            ],
            [
             0.8888888888888888,
             "#fdca26"
            ],
            [
             1,
             "#f0f921"
            ]
           ]
          },
          "colorway": [
           "#636efa",
           "#EF553B",
           "#00cc96",
           "#ab63fa",
           "#FFA15A",
           "#19d3f3",
           "#FF6692",
           "#B6E880",
           "#FF97FF",
           "#FECB52"
          ],
          "font": {
           "color": "#2a3f5f"
          },
          "geo": {
           "bgcolor": "white",
           "lakecolor": "white",
           "landcolor": "#E5ECF6",
           "showlakes": true,
           "showland": true,
           "subunitcolor": "white"
          },
          "hoverlabel": {
           "align": "left"
          },
          "hovermode": "closest",
          "mapbox": {
           "style": "light"
          },
          "paper_bgcolor": "white",
          "plot_bgcolor": "#E5ECF6",
          "polar": {
           "angularaxis": {
            "gridcolor": "white",
            "linecolor": "white",
            "ticks": ""
           },
           "bgcolor": "#E5ECF6",
           "radialaxis": {
            "gridcolor": "white",
            "linecolor": "white",
            "ticks": ""
           }
          },
          "scene": {
           "xaxis": {
            "backgroundcolor": "#E5ECF6",
            "gridcolor": "white",
            "gridwidth": 2,
            "linecolor": "white",
            "showbackground": true,
            "ticks": "",
            "zerolinecolor": "white"
           },
           "yaxis": {
            "backgroundcolor": "#E5ECF6",
            "gridcolor": "white",
            "gridwidth": 2,
            "linecolor": "white",
            "showbackground": true,
            "ticks": "",
            "zerolinecolor": "white"
           },
           "zaxis": {
            "backgroundcolor": "#E5ECF6",
            "gridcolor": "white",
            "gridwidth": 2,
            "linecolor": "white",
            "showbackground": true,
            "ticks": "",
            "zerolinecolor": "white"
           }
          },
          "shapedefaults": {
           "line": {
            "color": "#2a3f5f"
           }
          },
          "ternary": {
           "aaxis": {
            "gridcolor": "white",
            "linecolor": "white",
            "ticks": ""
           },
           "baxis": {
            "gridcolor": "white",
            "linecolor": "white",
            "ticks": ""
           },
           "bgcolor": "#E5ECF6",
           "caxis": {
            "gridcolor": "white",
            "linecolor": "white",
            "ticks": ""
           }
          },
          "title": {
           "x": 0.05
          },
          "xaxis": {
           "automargin": true,
           "gridcolor": "white",
           "linecolor": "white",
           "ticks": "",
           "title": {
            "standoff": 15
           },
           "zerolinecolor": "white",
           "zerolinewidth": 2
          },
          "yaxis": {
           "automargin": true,
           "gridcolor": "white",
           "linecolor": "white",
           "ticks": "",
           "title": {
            "standoff": 15
           },
           "zerolinecolor": "white",
           "zerolinewidth": 2
          }
         }
        },
        "xaxis": {
         "anchor": "y",
         "domain": [
          0,
          1
         ],
         "title": {
          "text": "value"
         }
        },
        "yaxis": {
         "anchor": "x",
         "domain": [
          0,
          1
         ],
         "title": {
          "text": "count"
         }
        }
       }
      }
     },
     "metadata": {},
     "output_type": "display_data"
    }
   ],
   "source": [
    "px.histogram(diferencas, height=600)"
   ]
  },
  {
   "cell_type": "code",
   "execution_count": 35,
   "metadata": {},
   "outputs": [
    {
     "data": {
      "text/plain": [
       "0.1271"
      ]
     },
     "execution_count": 35,
     "metadata": {},
     "output_type": "execute_result"
    }
   ],
   "source": [
    "np.where(diferencas > 7.7)[0].size/trials"
   ]
  },
  {
   "cell_type": "markdown",
   "metadata": {},
   "source": [
    "## Referências e leituras complementares\n",
    "\n",
    "[t-student](https://pt.wikipedia.org/wiki/Distribui%C3%A7%C3%A3o_t_de_Student)\n",
    "\n",
    "[binomial](https://en.wikipedia.org/wiki/Binomial_distribution)\n",
    "\n",
    "[pycon - statistics for hackers](https://www.youtube.com/watch?v=Iq9DzN6mvYA)\n",
    "\n",
    "[3blue1brown - Binomial](https://www.youtube.com/watch?v=8idr1WZ1A7Q)\n",
    "\n",
    "[3blue1brown - Binomial pt2](https://www.youtube.com/watch?v=ZA4JkHKZM50)"
   ]
  },
  {
   "cell_type": "markdown",
   "metadata": {},
   "source": []
  }
 ],
 "metadata": {
  "kernelspec": {
   "display_name": "tf",
   "language": "python",
   "name": "python3"
  },
  "language_info": {
   "codemirror_mode": {
    "name": "ipython",
    "version": 3
   },
   "file_extension": ".py",
   "mimetype": "text/x-python",
   "name": "python",
   "nbconvert_exporter": "python",
   "pygments_lexer": "ipython3",
   "version": "3.12.11"
  }
 },
 "nbformat": 4,
 "nbformat_minor": 5
}
