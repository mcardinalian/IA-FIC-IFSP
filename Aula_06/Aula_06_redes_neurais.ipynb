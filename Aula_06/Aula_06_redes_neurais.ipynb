{
 "cells": [
  {
   "cell_type": "markdown",
   "metadata": {},
   "source": [
    "# Aula 06 - RNA (Redes Neuraus Artificiais)\n",
    "\n",
    "Tópicos da aula de Hoje:\n",
    "\n",
    "* Perceptron\n",
    "* MLP\n",
    "* Keras API - Tensorflow\n",
    "* Model Fully connected\n",
    "* Exemplo Pima Diabetes"
   ]
  },
  {
   "cell_type": "code",
   "execution_count": 53,
   "metadata": {},
   "outputs": [],
   "source": [
    "import pandas as pd\n",
    "import numpy as np\n",
    "\n",
    "import plotly.express as px\n",
    "import plotly.graph_objects as go\n",
    "\n",
    "from sklearn.metrics import mean_squared_error, accuracy_score\n",
    "from sklearn.model_selection import train_test_split\n",
    "from sklearn.preprocessing import normalize, MinMaxScaler, StandardScaler\n",
    "\n",
    "import tensorflow as tf\n",
    "from tensorflow.keras.layers import Dense\n",
    "from tensorflow.keras.utils import plot_model"
   ]
  },
  {
   "cell_type": "code",
   "execution_count": 55,
   "metadata": {},
   "outputs": [],
   "source": [
    "df = pd.read_csv('diabetes.csv')"
   ]
  },
  {
   "cell_type": "code",
   "execution_count": 56,
   "metadata": {},
   "outputs": [
    {
     "data": {
      "text/html": [
       "<div>\n",
       "<style scoped>\n",
       "    .dataframe tbody tr th:only-of-type {\n",
       "        vertical-align: middle;\n",
       "    }\n",
       "\n",
       "    .dataframe tbody tr th {\n",
       "        vertical-align: top;\n",
       "    }\n",
       "\n",
       "    .dataframe thead th {\n",
       "        text-align: right;\n",
       "    }\n",
       "</style>\n",
       "<table border=\"1\" class=\"dataframe\">\n",
       "  <thead>\n",
       "    <tr style=\"text-align: right;\">\n",
       "      <th></th>\n",
       "      <th>Pregnancies</th>\n",
       "      <th>Glucose</th>\n",
       "      <th>BloodPressure</th>\n",
       "      <th>SkinThickness</th>\n",
       "      <th>Insulin</th>\n",
       "      <th>BMI</th>\n",
       "      <th>DiabetesPedigreeFunction</th>\n",
       "      <th>Age</th>\n",
       "      <th>Outcome</th>\n",
       "    </tr>\n",
       "  </thead>\n",
       "  <tbody>\n",
       "    <tr>\n",
       "      <th>count</th>\n",
       "      <td>768.000000</td>\n",
       "      <td>768.000000</td>\n",
       "      <td>768.000000</td>\n",
       "      <td>768.000000</td>\n",
       "      <td>768.000000</td>\n",
       "      <td>768.000000</td>\n",
       "      <td>768.000000</td>\n",
       "      <td>768.000000</td>\n",
       "      <td>768.000000</td>\n",
       "    </tr>\n",
       "    <tr>\n",
       "      <th>mean</th>\n",
       "      <td>3.845052</td>\n",
       "      <td>120.894531</td>\n",
       "      <td>69.105469</td>\n",
       "      <td>20.536458</td>\n",
       "      <td>79.799479</td>\n",
       "      <td>31.992578</td>\n",
       "      <td>0.471876</td>\n",
       "      <td>33.240885</td>\n",
       "      <td>0.348958</td>\n",
       "    </tr>\n",
       "    <tr>\n",
       "      <th>std</th>\n",
       "      <td>3.369578</td>\n",
       "      <td>31.972618</td>\n",
       "      <td>19.355807</td>\n",
       "      <td>15.952218</td>\n",
       "      <td>115.244002</td>\n",
       "      <td>7.884160</td>\n",
       "      <td>0.331329</td>\n",
       "      <td>11.760232</td>\n",
       "      <td>0.476951</td>\n",
       "    </tr>\n",
       "    <tr>\n",
       "      <th>min</th>\n",
       "      <td>0.000000</td>\n",
       "      <td>0.000000</td>\n",
       "      <td>0.000000</td>\n",
       "      <td>0.000000</td>\n",
       "      <td>0.000000</td>\n",
       "      <td>0.000000</td>\n",
       "      <td>0.078000</td>\n",
       "      <td>21.000000</td>\n",
       "      <td>0.000000</td>\n",
       "    </tr>\n",
       "    <tr>\n",
       "      <th>25%</th>\n",
       "      <td>1.000000</td>\n",
       "      <td>99.000000</td>\n",
       "      <td>62.000000</td>\n",
       "      <td>0.000000</td>\n",
       "      <td>0.000000</td>\n",
       "      <td>27.300000</td>\n",
       "      <td>0.243750</td>\n",
       "      <td>24.000000</td>\n",
       "      <td>0.000000</td>\n",
       "    </tr>\n",
       "    <tr>\n",
       "      <th>50%</th>\n",
       "      <td>3.000000</td>\n",
       "      <td>117.000000</td>\n",
       "      <td>72.000000</td>\n",
       "      <td>23.000000</td>\n",
       "      <td>30.500000</td>\n",
       "      <td>32.000000</td>\n",
       "      <td>0.372500</td>\n",
       "      <td>29.000000</td>\n",
       "      <td>0.000000</td>\n",
       "    </tr>\n",
       "    <tr>\n",
       "      <th>75%</th>\n",
       "      <td>6.000000</td>\n",
       "      <td>140.250000</td>\n",
       "      <td>80.000000</td>\n",
       "      <td>32.000000</td>\n",
       "      <td>127.250000</td>\n",
       "      <td>36.600000</td>\n",
       "      <td>0.626250</td>\n",
       "      <td>41.000000</td>\n",
       "      <td>1.000000</td>\n",
       "    </tr>\n",
       "    <tr>\n",
       "      <th>max</th>\n",
       "      <td>17.000000</td>\n",
       "      <td>199.000000</td>\n",
       "      <td>122.000000</td>\n",
       "      <td>99.000000</td>\n",
       "      <td>846.000000</td>\n",
       "      <td>67.100000</td>\n",
       "      <td>2.420000</td>\n",
       "      <td>81.000000</td>\n",
       "      <td>1.000000</td>\n",
       "    </tr>\n",
       "  </tbody>\n",
       "</table>\n",
       "</div>"
      ],
      "text/plain": [
       "       Pregnancies     Glucose  BloodPressure  SkinThickness     Insulin  \\\n",
       "count   768.000000  768.000000     768.000000     768.000000  768.000000   \n",
       "mean      3.845052  120.894531      69.105469      20.536458   79.799479   \n",
       "std       3.369578   31.972618      19.355807      15.952218  115.244002   \n",
       "min       0.000000    0.000000       0.000000       0.000000    0.000000   \n",
       "25%       1.000000   99.000000      62.000000       0.000000    0.000000   \n",
       "50%       3.000000  117.000000      72.000000      23.000000   30.500000   \n",
       "75%       6.000000  140.250000      80.000000      32.000000  127.250000   \n",
       "max      17.000000  199.000000     122.000000      99.000000  846.000000   \n",
       "\n",
       "              BMI  DiabetesPedigreeFunction         Age     Outcome  \n",
       "count  768.000000                768.000000  768.000000  768.000000  \n",
       "mean    31.992578                  0.471876   33.240885    0.348958  \n",
       "std      7.884160                  0.331329   11.760232    0.476951  \n",
       "min      0.000000                  0.078000   21.000000    0.000000  \n",
       "25%     27.300000                  0.243750   24.000000    0.000000  \n",
       "50%     32.000000                  0.372500   29.000000    0.000000  \n",
       "75%     36.600000                  0.626250   41.000000    1.000000  \n",
       "max     67.100000                  2.420000   81.000000    1.000000  "
      ]
     },
     "execution_count": 56,
     "metadata": {},
     "output_type": "execute_result"
    }
   ],
   "source": [
    "df.describe()"
   ]
  },
  {
   "cell_type": "code",
   "execution_count": 57,
   "metadata": {},
   "outputs": [
    {
     "data": {
      "text/html": [
       "<div>\n",
       "<style scoped>\n",
       "    .dataframe tbody tr th:only-of-type {\n",
       "        vertical-align: middle;\n",
       "    }\n",
       "\n",
       "    .dataframe tbody tr th {\n",
       "        vertical-align: top;\n",
       "    }\n",
       "\n",
       "    .dataframe thead th {\n",
       "        text-align: right;\n",
       "    }\n",
       "</style>\n",
       "<table border=\"1\" class=\"dataframe\">\n",
       "  <thead>\n",
       "    <tr style=\"text-align: right;\">\n",
       "      <th></th>\n",
       "      <th>Pregnancies</th>\n",
       "      <th>Glucose</th>\n",
       "      <th>BloodPressure</th>\n",
       "      <th>SkinThickness</th>\n",
       "      <th>Insulin</th>\n",
       "      <th>BMI</th>\n",
       "      <th>DiabetesPedigreeFunction</th>\n",
       "      <th>Age</th>\n",
       "      <th>Outcome</th>\n",
       "    </tr>\n",
       "  </thead>\n",
       "  <tbody>\n",
       "    <tr>\n",
       "      <th>0</th>\n",
       "      <td>6</td>\n",
       "      <td>148</td>\n",
       "      <td>72</td>\n",
       "      <td>35</td>\n",
       "      <td>0</td>\n",
       "      <td>33.6</td>\n",
       "      <td>0.627</td>\n",
       "      <td>50</td>\n",
       "      <td>1</td>\n",
       "    </tr>\n",
       "    <tr>\n",
       "      <th>1</th>\n",
       "      <td>1</td>\n",
       "      <td>85</td>\n",
       "      <td>66</td>\n",
       "      <td>29</td>\n",
       "      <td>0</td>\n",
       "      <td>26.6</td>\n",
       "      <td>0.351</td>\n",
       "      <td>31</td>\n",
       "      <td>0</td>\n",
       "    </tr>\n",
       "    <tr>\n",
       "      <th>2</th>\n",
       "      <td>8</td>\n",
       "      <td>183</td>\n",
       "      <td>64</td>\n",
       "      <td>0</td>\n",
       "      <td>0</td>\n",
       "      <td>23.3</td>\n",
       "      <td>0.672</td>\n",
       "      <td>32</td>\n",
       "      <td>1</td>\n",
       "    </tr>\n",
       "    <tr>\n",
       "      <th>3</th>\n",
       "      <td>1</td>\n",
       "      <td>89</td>\n",
       "      <td>66</td>\n",
       "      <td>23</td>\n",
       "      <td>94</td>\n",
       "      <td>28.1</td>\n",
       "      <td>0.167</td>\n",
       "      <td>21</td>\n",
       "      <td>0</td>\n",
       "    </tr>\n",
       "    <tr>\n",
       "      <th>4</th>\n",
       "      <td>0</td>\n",
       "      <td>137</td>\n",
       "      <td>40</td>\n",
       "      <td>35</td>\n",
       "      <td>168</td>\n",
       "      <td>43.1</td>\n",
       "      <td>2.288</td>\n",
       "      <td>33</td>\n",
       "      <td>1</td>\n",
       "    </tr>\n",
       "  </tbody>\n",
       "</table>\n",
       "</div>"
      ],
      "text/plain": [
       "   Pregnancies  Glucose  BloodPressure  SkinThickness  Insulin   BMI  \\\n",
       "0            6      148             72             35        0  33.6   \n",
       "1            1       85             66             29        0  26.6   \n",
       "2            8      183             64              0        0  23.3   \n",
       "3            1       89             66             23       94  28.1   \n",
       "4            0      137             40             35      168  43.1   \n",
       "\n",
       "   DiabetesPedigreeFunction  Age  Outcome  \n",
       "0                     0.627   50        1  \n",
       "1                     0.351   31        0  \n",
       "2                     0.672   32        1  \n",
       "3                     0.167   21        0  \n",
       "4                     2.288   33        1  "
      ]
     },
     "execution_count": 57,
     "metadata": {},
     "output_type": "execute_result"
    }
   ],
   "source": [
    "df.head()"
   ]
  },
  {
   "cell_type": "code",
   "execution_count": 58,
   "metadata": {},
   "outputs": [],
   "source": [
    "x_features = ['Pregnancies', 'Glucose', 'BloodPressure', 'SkinThickness', 'Insulin', 'BMI', 'DiabetesPedigreeFunction', 'Age']"
   ]
  },
  {
   "cell_type": "code",
   "execution_count": 59,
   "metadata": {},
   "outputs": [
    {
     "data": {
      "application/vnd.plotly.v1+json": {
       "config": {
        "plotlyServerURL": "https://plot.ly"
       },
       "data": [
        {
         "alignmentgroup": "True",
         "box": {
          "visible": false
         },
         "hovertemplate": "variable=%{x}<br>value=%{y}<extra></extra>",
         "legendgroup": "",
         "marker": {
          "color": "#636efa"
         },
         "name": "",
         "offsetgroup": "",
         "orientation": "v",
         "scalegroup": "True",
         "showlegend": false,
         "type": "violin",
         "x": [
          "Pregnancies",
          "Pregnancies",
          "Pregnancies",
          "Pregnancies",
          "Pregnancies",
          "Pregnancies",
          "Pregnancies",
          "Pregnancies",
          "Pregnancies",
          "Pregnancies",
          "Pregnancies",
          "Pregnancies",
          "Pregnancies",
          "Pregnancies",
          "Pregnancies",
          "Pregnancies",
          "Pregnancies",
          "Pregnancies",
          "Pregnancies",
          "Pregnancies",
          "Pregnancies",
          "Pregnancies",
          "Pregnancies",
          "Pregnancies",
          "Pregnancies",
          "Pregnancies",
          "Pregnancies",
          "Pregnancies",
          "Pregnancies",
          "Pregnancies",
          "Pregnancies",
          "Pregnancies",
          "Pregnancies",
          "Pregnancies",
          "Pregnancies",
          "Pregnancies",
          "Pregnancies",
          "Pregnancies",
          "Pregnancies",
          "Pregnancies",
          "Pregnancies",
          "Pregnancies",
          "Pregnancies",
          "Pregnancies",
          "Pregnancies",
          "Pregnancies",
          "Pregnancies",
          "Pregnancies",
          "Pregnancies",
          "Pregnancies",
          "Pregnancies",
          "Pregnancies",
          "Pregnancies",
          "Pregnancies",
          "Pregnancies",
          "Pregnancies",
          "Pregnancies",
          "Pregnancies",
          "Pregnancies",
          "Pregnancies",
          "Pregnancies",
          "Pregnancies",
          "Pregnancies",
          "Pregnancies",
          "Pregnancies",
          "Pregnancies",
          "Pregnancies",
          "Pregnancies",
          "Pregnancies",
          "Pregnancies",
          "Pregnancies",
          "Pregnancies",
          "Pregnancies",
          "Pregnancies",
          "Pregnancies",
          "Pregnancies",
          "Pregnancies",
          "Pregnancies",
          "Pregnancies",
          "Pregnancies",
          "Pregnancies",
          "Pregnancies",
          "Pregnancies",
          "Pregnancies",
          "Pregnancies",
          "Pregnancies",
          "Pregnancies",
          "Pregnancies",
          "Pregnancies",
          "Pregnancies",
          "Pregnancies",
          "Pregnancies",
          "Pregnancies",
          "Pregnancies",
          "Pregnancies",
          "Pregnancies",
          "Pregnancies",
          "Pregnancies",
          "Pregnancies",
          "Pregnancies",
          "Pregnancies",
          "Pregnancies",
          "Pregnancies",
          "Pregnancies",
          "Pregnancies",
          "Pregnancies",
          "Pregnancies",
          "Pregnancies",
          "Pregnancies",
          "Pregnancies",
          "Pregnancies",
          "Pregnancies",
          "Pregnancies",
          "Pregnancies",
          "Pregnancies",
          "Pregnancies",
          "Pregnancies",
          "Pregnancies",
          "Pregnancies",
          "Pregnancies",
          "Pregnancies",
          "Pregnancies",
          "Pregnancies",
          "Pregnancies",
          "Pregnancies",
          "Pregnancies",
          "Pregnancies",
          "Pregnancies",
          "Pregnancies",
          "Pregnancies",
          "Pregnancies",
          "Pregnancies",
          "Pregnancies",
          "Pregnancies",
          "Pregnancies",
          "Pregnancies",
          "Pregnancies",
          "Pregnancies",
          "Pregnancies",
          "Pregnancies",
          "Pregnancies",
          "Pregnancies",
          "Pregnancies",
          "Pregnancies",
          "Pregnancies",
          "Pregnancies",
          "Pregnancies",
          "Pregnancies",
          "Pregnancies",
          "Pregnancies",
          "Pregnancies",
          "Pregnancies",
          "Pregnancies",
          "Pregnancies",
          "Pregnancies",
          "Pregnancies",
          "Pregnancies",
          "Pregnancies",
          "Pregnancies",
          "Pregnancies",
          "Pregnancies",
          "Pregnancies",
          "Pregnancies",
          "Pregnancies",
          "Pregnancies",
          "Pregnancies",
          "Pregnancies",
          "Pregnancies",
          "Pregnancies",
          "Pregnancies",
          "Pregnancies",
          "Pregnancies",
          "Pregnancies",
          "Pregnancies",
          "Pregnancies",
          "Pregnancies",
          "Pregnancies",
          "Pregnancies",
          "Pregnancies",
          "Pregnancies",
          "Pregnancies",
          "Pregnancies",
          "Pregnancies",
          "Pregnancies",
          "Pregnancies",
          "Pregnancies",
          "Pregnancies",
          "Pregnancies",
          "Pregnancies",
          "Pregnancies",
          "Pregnancies",
          "Pregnancies",
          "Pregnancies",
          "Pregnancies",
          "Pregnancies",
          "Pregnancies",
          "Pregnancies",
          "Pregnancies",
          "Pregnancies",
          "Pregnancies",
          "Pregnancies",
          "Pregnancies",
          "Pregnancies",
          "Pregnancies",
          "Pregnancies",
          "Pregnancies",
          "Pregnancies",
          "Pregnancies",
          "Pregnancies",
          "Pregnancies",
          "Pregnancies",
          "Pregnancies",
          "Pregnancies",
          "Pregnancies",
          "Pregnancies",
          "Pregnancies",
          "Pregnancies",
          "Pregnancies",
          "Pregnancies",
          "Pregnancies",
          "Pregnancies",
          "Pregnancies",
          "Pregnancies",
          "Pregnancies",
          "Pregnancies",
          "Pregnancies",
          "Pregnancies",
          "Pregnancies",
          "Pregnancies",
          "Pregnancies",
          "Pregnancies",
          "Pregnancies",
          "Pregnancies",
          "Pregnancies",
          "Pregnancies",
          "Pregnancies",
          "Pregnancies",
          "Pregnancies",
          "Pregnancies",
          "Pregnancies",
          "Pregnancies",
          "Pregnancies",
          "Pregnancies",
          "Pregnancies",
          "Pregnancies",
          "Pregnancies",
          "Pregnancies",
          "Pregnancies",
          "Pregnancies",
          "Pregnancies",
          "Pregnancies",
          "Pregnancies",
          "Pregnancies",
          "Pregnancies",
          "Pregnancies",
          "Pregnancies",
          "Pregnancies",
          "Pregnancies",
          "Pregnancies",
          "Pregnancies",
          "Pregnancies",
          "Pregnancies",
          "Pregnancies",
          "Pregnancies",
          "Pregnancies",
          "Pregnancies",
          "Pregnancies",
          "Pregnancies",
          "Pregnancies",
          "Pregnancies",
          "Pregnancies",
          "Pregnancies",
          "Pregnancies",
          "Pregnancies",
          "Pregnancies",
          "Pregnancies",
          "Pregnancies",
          "Pregnancies",
          "Pregnancies",
          "Pregnancies",
          "Pregnancies",
          "Pregnancies",
          "Pregnancies",
          "Pregnancies",
          "Pregnancies",
          "Pregnancies",
          "Pregnancies",
          "Pregnancies",
          "Pregnancies",
          "Pregnancies",
          "Pregnancies",
          "Pregnancies",
          "Pregnancies",
          "Pregnancies",
          "Pregnancies",
          "Pregnancies",
          "Pregnancies",
          "Pregnancies",
          "Pregnancies",
          "Pregnancies",
          "Pregnancies",
          "Pregnancies",
          "Pregnancies",
          "Pregnancies",
          "Pregnancies",
          "Pregnancies",
          "Pregnancies",
          "Pregnancies",
          "Pregnancies",
          "Pregnancies",
          "Pregnancies",
          "Pregnancies",
          "Pregnancies",
          "Pregnancies",
          "Pregnancies",
          "Pregnancies",
          "Pregnancies",
          "Pregnancies",
          "Pregnancies",
          "Pregnancies",
          "Pregnancies",
          "Pregnancies",
          "Pregnancies",
          "Pregnancies",
          "Pregnancies",
          "Pregnancies",
          "Pregnancies",
          "Pregnancies",
          "Pregnancies",
          "Pregnancies",
          "Pregnancies",
          "Pregnancies",
          "Pregnancies",
          "Pregnancies",
          "Pregnancies",
          "Pregnancies",
          "Pregnancies",
          "Pregnancies",
          "Pregnancies",
          "Pregnancies",
          "Pregnancies",
          "Pregnancies",
          "Pregnancies",
          "Pregnancies",
          "Pregnancies",
          "Pregnancies",
          "Pregnancies",
          "Pregnancies",
          "Pregnancies",
          "Pregnancies",
          "Pregnancies",
          "Pregnancies",
          "Pregnancies",
          "Pregnancies",
          "Pregnancies",
          "Pregnancies",
          "Pregnancies",
          "Pregnancies",
          "Pregnancies",
          "Pregnancies",
          "Pregnancies",
          "Pregnancies",
          "Pregnancies",
          "Pregnancies",
          "Pregnancies",
          "Pregnancies",
          "Pregnancies",
          "Pregnancies",
          "Pregnancies",
          "Pregnancies",
          "Pregnancies",
          "Pregnancies",
          "Pregnancies",
          "Pregnancies",
          "Pregnancies",
          "Pregnancies",
          "Pregnancies",
          "Pregnancies",
          "Pregnancies",
          "Pregnancies",
          "Pregnancies",
          "Pregnancies",
          "Pregnancies",
          "Pregnancies",
          "Pregnancies",
          "Pregnancies",
          "Pregnancies",
          "Pregnancies",
          "Pregnancies",
          "Pregnancies",
          "Pregnancies",
          "Pregnancies",
          "Pregnancies",
          "Pregnancies",
          "Pregnancies",
          "Pregnancies",
          "Pregnancies",
          "Pregnancies",
          "Pregnancies",
          "Pregnancies",
          "Pregnancies",
          "Pregnancies",
          "Pregnancies",
          "Pregnancies",
          "Pregnancies",
          "Pregnancies",
          "Pregnancies",
          "Pregnancies",
          "Pregnancies",
          "Pregnancies",
          "Pregnancies",
          "Pregnancies",
          "Pregnancies",
          "Pregnancies",
          "Pregnancies",
          "Pregnancies",
          "Pregnancies",
          "Pregnancies",
          "Pregnancies",
          "Pregnancies",
          "Pregnancies",
          "Pregnancies",
          "Pregnancies",
          "Pregnancies",
          "Pregnancies",
          "Pregnancies",
          "Pregnancies",
          "Pregnancies",
          "Pregnancies",
          "Pregnancies",
          "Pregnancies",
          "Pregnancies",
          "Pregnancies",
          "Pregnancies",
          "Pregnancies",
          "Pregnancies",
          "Pregnancies",
          "Pregnancies",
          "Pregnancies",
          "Pregnancies",
          "Pregnancies",
          "Pregnancies",
          "Pregnancies",
          "Pregnancies",
          "Pregnancies",
          "Pregnancies",
          "Pregnancies",
          "Pregnancies",
          "Pregnancies",
          "Pregnancies",
          "Pregnancies",
          "Pregnancies",
          "Pregnancies",
          "Pregnancies",
          "Pregnancies",
          "Pregnancies",
          "Pregnancies",
          "Pregnancies",
          "Pregnancies",
          "Pregnancies",
          "Pregnancies",
          "Pregnancies",
          "Pregnancies",
          "Pregnancies",
          "Pregnancies",
          "Pregnancies",
          "Pregnancies",
          "Pregnancies",
          "Pregnancies",
          "Pregnancies",
          "Pregnancies",
          "Pregnancies",
          "Pregnancies",
          "Pregnancies",
          "Pregnancies",
          "Pregnancies",
          "Pregnancies",
          "Pregnancies",
          "Pregnancies",
          "Pregnancies",
          "Pregnancies",
          "Pregnancies",
          "Pregnancies",
          "Pregnancies",
          "Pregnancies",
          "Pregnancies",
          "Pregnancies",
          "Pregnancies",
          "Pregnancies",
          "Pregnancies",
          "Pregnancies",
          "Pregnancies",
          "Pregnancies",
          "Pregnancies",
          "Pregnancies",
          "Pregnancies",
          "Pregnancies",
          "Pregnancies",
          "Pregnancies",
          "Pregnancies",
          "Pregnancies",
          "Pregnancies",
          "Pregnancies",
          "Pregnancies",
          "Pregnancies",
          "Pregnancies",
          "Pregnancies",
          "Pregnancies",
          "Pregnancies",
          "Pregnancies",
          "Pregnancies",
          "Pregnancies",
          "Pregnancies",
          "Pregnancies",
          "Pregnancies",
          "Pregnancies",
          "Pregnancies",
          "Pregnancies",
          "Pregnancies",
          "Pregnancies",
          "Pregnancies",
          "Pregnancies",
          "Pregnancies",
          "Pregnancies",
          "Pregnancies",
          "Pregnancies",
          "Pregnancies",
          "Pregnancies",
          "Pregnancies",
          "Pregnancies",
          "Pregnancies",
          "Pregnancies",
          "Pregnancies",
          "Pregnancies",
          "Pregnancies",
          "Pregnancies",
          "Pregnancies",
          "Pregnancies",
          "Pregnancies",
          "Pregnancies",
          "Pregnancies",
          "Pregnancies",
          "Pregnancies",
          "Pregnancies",
          "Pregnancies",
          "Pregnancies",
          "Pregnancies",
          "Pregnancies",
          "Pregnancies",
          "Pregnancies",
          "Pregnancies",
          "Pregnancies",
          "Pregnancies",
          "Pregnancies",
          "Pregnancies",
          "Pregnancies",
          "Pregnancies",
          "Pregnancies",
          "Pregnancies",
          "Pregnancies",
          "Pregnancies",
          "Pregnancies",
          "Pregnancies",
          "Pregnancies",
          "Pregnancies",
          "Pregnancies",
          "Pregnancies",
          "Pregnancies",
          "Pregnancies",
          "Pregnancies",
          "Pregnancies",
          "Pregnancies",
          "Pregnancies",
          "Pregnancies",
          "Pregnancies",
          "Pregnancies",
          "Pregnancies",
          "Pregnancies",
          "Pregnancies",
          "Pregnancies",
          "Pregnancies",
          "Pregnancies",
          "Pregnancies",
          "Pregnancies",
          "Pregnancies",
          "Pregnancies",
          "Pregnancies",
          "Pregnancies",
          "Pregnancies",
          "Pregnancies",
          "Pregnancies",
          "Pregnancies",
          "Pregnancies",
          "Pregnancies",
          "Pregnancies",
          "Pregnancies",
          "Pregnancies",
          "Pregnancies",
          "Pregnancies",
          "Pregnancies",
          "Pregnancies",
          "Pregnancies",
          "Pregnancies",
          "Pregnancies",
          "Pregnancies",
          "Pregnancies",
          "Pregnancies",
          "Pregnancies",
          "Pregnancies",
          "Pregnancies",
          "Pregnancies",
          "Pregnancies",
          "Pregnancies",
          "Pregnancies",
          "Pregnancies",
          "Pregnancies",
          "Pregnancies",
          "Pregnancies",
          "Pregnancies",
          "Pregnancies",
          "Pregnancies",
          "Pregnancies",
          "Pregnancies",
          "Pregnancies",
          "Pregnancies",
          "Pregnancies",
          "Pregnancies",
          "Pregnancies",
          "Pregnancies",
          "Pregnancies",
          "Pregnancies",
          "Pregnancies",
          "Pregnancies",
          "Pregnancies",
          "Pregnancies",
          "Pregnancies",
          "Pregnancies",
          "Pregnancies",
          "Pregnancies",
          "Pregnancies",
          "Pregnancies",
          "Pregnancies",
          "Pregnancies",
          "Pregnancies",
          "Pregnancies",
          "Pregnancies",
          "Pregnancies",
          "Pregnancies",
          "Pregnancies",
          "Pregnancies",
          "Pregnancies",
          "Pregnancies",
          "Pregnancies",
          "Pregnancies",
          "Pregnancies",
          "Pregnancies",
          "Pregnancies",
          "Pregnancies",
          "Pregnancies",
          "Pregnancies",
          "Pregnancies",
          "Pregnancies",
          "Pregnancies",
          "Pregnancies",
          "Pregnancies",
          "Pregnancies",
          "Pregnancies",
          "Pregnancies",
          "Pregnancies",
          "Pregnancies",
          "Pregnancies",
          "Pregnancies",
          "Pregnancies",
          "Pregnancies",
          "Pregnancies",
          "Pregnancies",
          "Pregnancies",
          "Pregnancies",
          "Pregnancies",
          "Pregnancies",
          "Pregnancies",
          "Pregnancies",
          "Pregnancies",
          "Pregnancies",
          "Pregnancies",
          "Pregnancies",
          "Pregnancies",
          "Pregnancies",
          "Pregnancies",
          "Pregnancies",
          "Pregnancies",
          "Pregnancies",
          "Pregnancies",
          "Pregnancies",
          "Pregnancies",
          "Pregnancies",
          "Pregnancies",
          "Pregnancies",
          "Pregnancies",
          "Pregnancies",
          "Pregnancies",
          "Pregnancies",
          "Pregnancies",
          "Pregnancies",
          "Pregnancies",
          "Pregnancies",
          "Pregnancies",
          "Pregnancies",
          "Pregnancies",
          "Pregnancies",
          "Pregnancies",
          "Pregnancies",
          "Pregnancies",
          "Pregnancies",
          "Pregnancies",
          "Pregnancies",
          "Pregnancies",
          "Pregnancies",
          "Pregnancies",
          "Pregnancies",
          "Pregnancies",
          "Pregnancies",
          "Pregnancies",
          "Pregnancies",
          "Pregnancies",
          "Pregnancies",
          "Pregnancies",
          "Pregnancies",
          "Pregnancies",
          "Pregnancies",
          "Pregnancies",
          "Pregnancies",
          "Pregnancies",
          "Pregnancies",
          "Pregnancies",
          "Pregnancies",
          "Pregnancies",
          "Pregnancies",
          "Pregnancies",
          "Pregnancies",
          "Pregnancies",
          "Pregnancies",
          "Pregnancies",
          "Pregnancies",
          "Pregnancies",
          "Pregnancies",
          "Pregnancies",
          "Pregnancies",
          "Pregnancies",
          "Pregnancies",
          "Pregnancies",
          "Pregnancies",
          "Pregnancies",
          "Pregnancies",
          "Pregnancies",
          "Pregnancies",
          "Pregnancies",
          "Pregnancies",
          "Pregnancies",
          "Pregnancies",
          "Pregnancies",
          "Pregnancies",
          "Pregnancies",
          "Pregnancies",
          "Pregnancies",
          "Pregnancies",
          "Pregnancies",
          "Pregnancies"
         ],
         "x0": " ",
         "xaxis": "x",
         "y": [
          6,
          1,
          8,
          1,
          0,
          5,
          3,
          10,
          2,
          8,
          4,
          10,
          10,
          1,
          5,
          7,
          0,
          7,
          1,
          1,
          3,
          8,
          7,
          9,
          11,
          10,
          7,
          1,
          13,
          5,
          5,
          3,
          3,
          6,
          10,
          4,
          11,
          9,
          2,
          4,
          3,
          7,
          7,
          9,
          7,
          0,
          1,
          2,
          7,
          7,
          1,
          1,
          5,
          8,
          7,
          1,
          7,
          0,
          0,
          0,
          2,
          8,
          5,
          2,
          7,
          5,
          0,
          2,
          1,
          4,
          2,
          5,
          13,
          4,
          1,
          1,
          7,
          5,
          0,
          2,
          3,
          2,
          7,
          0,
          5,
          2,
          13,
          2,
          15,
          1,
          1,
          4,
          7,
          4,
          2,
          6,
          2,
          1,
          6,
          1,
          1,
          1,
          0,
          1,
          2,
          1,
          1,
          4,
          3,
          0,
          3,
          8,
          1,
          4,
          7,
          4,
          5,
          5,
          4,
          4,
          0,
          6,
          2,
          5,
          0,
          1,
          3,
          1,
          1,
          0,
          4,
          9,
          3,
          8,
          2,
          2,
          0,
          0,
          0,
          5,
          3,
          5,
          2,
          10,
          4,
          0,
          9,
          2,
          5,
          2,
          1,
          4,
          9,
          1,
          8,
          7,
          2,
          1,
          2,
          17,
          4,
          7,
          0,
          2,
          0,
          6,
          3,
          4,
          4,
          3,
          6,
          6,
          2,
          1,
          2,
          8,
          6,
          0,
          5,
          5,
          6,
          0,
          1,
          5,
          4,
          7,
          8,
          1,
          8,
          5,
          3,
          9,
          7,
          11,
          8,
          5,
          1,
          3,
          4,
          4,
          0,
          1,
          0,
          2,
          6,
          5,
          8,
          5,
          1,
          7,
          2,
          0,
          7,
          0,
          9,
          12,
          5,
          6,
          5,
          5,
          0,
          2,
          7,
          7,
          1,
          1,
          0,
          3,
          4,
          0,
          4,
          6,
          1,
          4,
          3,
          4,
          7,
          0,
          9,
          0,
          1,
          4,
          3,
          6,
          2,
          9,
          10,
          0,
          9,
          1,
          9,
          2,
          2,
          0,
          12,
          1,
          3,
          2,
          1,
          11,
          3,
          3,
          4,
          3,
          4,
          5,
          0,
          2,
          0,
          2,
          10,
          2,
          3,
          1,
          13,
          2,
          7,
          0,
          5,
          2,
          0,
          10,
          7,
          7,
          2,
          7,
          5,
          1,
          4,
          5,
          0,
          0,
          2,
          1,
          0,
          6,
          2,
          0,
          14,
          8,
          0,
          2,
          5,
          5,
          3,
          2,
          10,
          0,
          0,
          2,
          6,
          0,
          2,
          3,
          7,
          2,
          3,
          3,
          3,
          6,
          4,
          3,
          0,
          13,
          2,
          1,
          1,
          10,
          2,
          6,
          8,
          2,
          1,
          12,
          1,
          0,
          0,
          5,
          9,
          7,
          1,
          1,
          1,
          5,
          8,
          8,
          1,
          3,
          3,
          5,
          4,
          4,
          3,
          1,
          3,
          9,
          1,
          13,
          12,
          1,
          5,
          5,
          5,
          4,
          4,
          5,
          6,
          0,
          3,
          1,
          3,
          0,
          0,
          2,
          2,
          12,
          0,
          1,
          4,
          0,
          1,
          0,
          1,
          1,
          1,
          1,
          5,
          8,
          5,
          3,
          1,
          5,
          1,
          4,
          4,
          2,
          3,
          0,
          3,
          3,
          4,
          6,
          5,
          9,
          5,
          2,
          4,
          0,
          8,
          1,
          6,
          1,
          1,
          1,
          0,
          3,
          1,
          4,
          1,
          3,
          1,
          2,
          0,
          2,
          8,
          4,
          0,
          1,
          0,
          1,
          2,
          3,
          1,
          2,
          1,
          0,
          12,
          5,
          1,
          6,
          0,
          2,
          4,
          8,
          4,
          0,
          1,
          0,
          0,
          0,
          1,
          2,
          0,
          2,
          2,
          14,
          1,
          5,
          10,
          9,
          9,
          1,
          8,
          5,
          10,
          0,
          0,
          0,
          8,
          6,
          1,
          0,
          0,
          7,
          4,
          0,
          2,
          7,
          8,
          4,
          3,
          0,
          4,
          0,
          0,
          0,
          1,
          0,
          4,
          8,
          2,
          2,
          4,
          4,
          3,
          6,
          5,
          2,
          7,
          6,
          2,
          3,
          6,
          7,
          3,
          10,
          0,
          1,
          2,
          8,
          12,
          0,
          9,
          2,
          3,
          3,
          9,
          7,
          13,
          6,
          2,
          3,
          6,
          9,
          3,
          3,
          1,
          3,
          0,
          0,
          2,
          0,
          1,
          6,
          1,
          4,
          0,
          0,
          0,
          3,
          8,
          3,
          10,
          4,
          1,
          8,
          5,
          4,
          1,
          4,
          1,
          3,
          6,
          1,
          1,
          7,
          1,
          8,
          11,
          11,
          6,
          0,
          1,
          6,
          0,
          2,
          1,
          6,
          4,
          0,
          3,
          2,
          3,
          2,
          1,
          1,
          6,
          2,
          10,
          2,
          0,
          6,
          12,
          8,
          8,
          1,
          8,
          6,
          3,
          0,
          11,
          2,
          3,
          2,
          6,
          0,
          0,
          1,
          1,
          1,
          1,
          6,
          1,
          7,
          4,
          1,
          1,
          1,
          0,
          1,
          3,
          3,
          7,
          6,
          11,
          3,
          6,
          2,
          9,
          0,
          2,
          2,
          6,
          0,
          2,
          4,
          0,
          0,
          5,
          4,
          7,
          0,
          2,
          1,
          10,
          13,
          5,
          2,
          7,
          1,
          0,
          4,
          6,
          4,
          3,
          2,
          1,
          0,
          11,
          0,
          1,
          1,
          5,
          2,
          1,
          2,
          2,
          1,
          11,
          3,
          10,
          1,
          8,
          9,
          6,
          1,
          4,
          10,
          6,
          9,
          6,
          1,
          10,
          3,
          8,
          6,
          9,
          0,
          3,
          2,
          2,
          0,
          0,
          4,
          5,
          2,
          3,
          1,
          1,
          1,
          8,
          13,
          2,
          7,
          2,
          7,
          3,
          0,
          4,
          4,
          2,
          6,
          1,
          2,
          4,
          6,
          10,
          2,
          9,
          2,
          3,
          5,
          10,
          0,
          3,
          7,
          3,
          10,
          1,
          5,
          4,
          1,
          1,
          5,
          1,
          4,
          1,
          0,
          2,
          2,
          3,
          8,
          2,
          2,
          2,
          4,
          0,
          8,
          2,
          1,
          11,
          3,
          1,
          9,
          13,
          12,
          1,
          1,
          3,
          6,
          4,
          1,
          3,
          0,
          8,
          1,
          7,
          0,
          1,
          6,
          2,
          9,
          9,
          10,
          2,
          5,
          1,
          1
         ],
         "y0": " ",
         "yaxis": "y"
        }
       ],
       "layout": {
        "legend": {
         "tracegroupgap": 0
        },
        "margin": {
         "t": 60
        },
        "template": {
         "data": {
          "bar": [
           {
            "error_x": {
             "color": "#2a3f5f"
            },
            "error_y": {
             "color": "#2a3f5f"
            },
            "marker": {
             "line": {
              "color": "#E5ECF6",
              "width": 0.5
             },
             "pattern": {
              "fillmode": "overlay",
              "size": 10,
              "solidity": 0.2
             }
            },
            "type": "bar"
           }
          ],
          "barpolar": [
           {
            "marker": {
             "line": {
              "color": "#E5ECF6",
              "width": 0.5
             },
             "pattern": {
              "fillmode": "overlay",
              "size": 10,
              "solidity": 0.2
             }
            },
            "type": "barpolar"
           }
          ],
          "carpet": [
           {
            "aaxis": {
             "endlinecolor": "#2a3f5f",
             "gridcolor": "white",
             "linecolor": "white",
             "minorgridcolor": "white",
             "startlinecolor": "#2a3f5f"
            },
            "baxis": {
             "endlinecolor": "#2a3f5f",
             "gridcolor": "white",
             "linecolor": "white",
             "minorgridcolor": "white",
             "startlinecolor": "#2a3f5f"
            },
            "type": "carpet"
           }
          ],
          "choropleth": [
           {
            "colorbar": {
             "outlinewidth": 0,
             "ticks": ""
            },
            "type": "choropleth"
           }
          ],
          "contour": [
           {
            "colorbar": {
             "outlinewidth": 0,
             "ticks": ""
            },
            "colorscale": [
             [
              0,
              "#0d0887"
             ],
             [
              0.1111111111111111,
              "#46039f"
             ],
             [
              0.2222222222222222,
              "#7201a8"
             ],
             [
              0.3333333333333333,
              "#9c179e"
             ],
             [
              0.4444444444444444,
              "#bd3786"
             ],
             [
              0.5555555555555556,
              "#d8576b"
             ],
             [
              0.6666666666666666,
              "#ed7953"
             ],
             [
              0.7777777777777778,
              "#fb9f3a"
             ],
             [
              0.8888888888888888,
              "#fdca26"
             ],
             [
              1,
              "#f0f921"
             ]
            ],
            "type": "contour"
           }
          ],
          "contourcarpet": [
           {
            "colorbar": {
             "outlinewidth": 0,
             "ticks": ""
            },
            "type": "contourcarpet"
           }
          ],
          "heatmap": [
           {
            "colorbar": {
             "outlinewidth": 0,
             "ticks": ""
            },
            "colorscale": [
             [
              0,
              "#0d0887"
             ],
             [
              0.1111111111111111,
              "#46039f"
             ],
             [
              0.2222222222222222,
              "#7201a8"
             ],
             [
              0.3333333333333333,
              "#9c179e"
             ],
             [
              0.4444444444444444,
              "#bd3786"
             ],
             [
              0.5555555555555556,
              "#d8576b"
             ],
             [
              0.6666666666666666,
              "#ed7953"
             ],
             [
              0.7777777777777778,
              "#fb9f3a"
             ],
             [
              0.8888888888888888,
              "#fdca26"
             ],
             [
              1,
              "#f0f921"
             ]
            ],
            "type": "heatmap"
           }
          ],
          "heatmapgl": [
           {
            "colorbar": {
             "outlinewidth": 0,
             "ticks": ""
            },
            "colorscale": [
             [
              0,
              "#0d0887"
             ],
             [
              0.1111111111111111,
              "#46039f"
             ],
             [
              0.2222222222222222,
              "#7201a8"
             ],
             [
              0.3333333333333333,
              "#9c179e"
             ],
             [
              0.4444444444444444,
              "#bd3786"
             ],
             [
              0.5555555555555556,
              "#d8576b"
             ],
             [
              0.6666666666666666,
              "#ed7953"
             ],
             [
              0.7777777777777778,
              "#fb9f3a"
             ],
             [
              0.8888888888888888,
              "#fdca26"
             ],
             [
              1,
              "#f0f921"
             ]
            ],
            "type": "heatmapgl"
           }
          ],
          "histogram": [
           {
            "marker": {
             "pattern": {
              "fillmode": "overlay",
              "size": 10,
              "solidity": 0.2
             }
            },
            "type": "histogram"
           }
          ],
          "histogram2d": [
           {
            "colorbar": {
             "outlinewidth": 0,
             "ticks": ""
            },
            "colorscale": [
             [
              0,
              "#0d0887"
             ],
             [
              0.1111111111111111,
              "#46039f"
             ],
             [
              0.2222222222222222,
              "#7201a8"
             ],
             [
              0.3333333333333333,
              "#9c179e"
             ],
             [
              0.4444444444444444,
              "#bd3786"
             ],
             [
              0.5555555555555556,
              "#d8576b"
             ],
             [
              0.6666666666666666,
              "#ed7953"
             ],
             [
              0.7777777777777778,
              "#fb9f3a"
             ],
             [
              0.8888888888888888,
              "#fdca26"
             ],
             [
              1,
              "#f0f921"
             ]
            ],
            "type": "histogram2d"
           }
          ],
          "histogram2dcontour": [
           {
            "colorbar": {
             "outlinewidth": 0,
             "ticks": ""
            },
            "colorscale": [
             [
              0,
              "#0d0887"
             ],
             [
              0.1111111111111111,
              "#46039f"
             ],
             [
              0.2222222222222222,
              "#7201a8"
             ],
             [
              0.3333333333333333,
              "#9c179e"
             ],
             [
              0.4444444444444444,
              "#bd3786"
             ],
             [
              0.5555555555555556,
              "#d8576b"
             ],
             [
              0.6666666666666666,
              "#ed7953"
             ],
             [
              0.7777777777777778,
              "#fb9f3a"
             ],
             [
              0.8888888888888888,
              "#fdca26"
             ],
             [
              1,
              "#f0f921"
             ]
            ],
            "type": "histogram2dcontour"
           }
          ],
          "mesh3d": [
           {
            "colorbar": {
             "outlinewidth": 0,
             "ticks": ""
            },
            "type": "mesh3d"
           }
          ],
          "parcoords": [
           {
            "line": {
             "colorbar": {
              "outlinewidth": 0,
              "ticks": ""
             }
            },
            "type": "parcoords"
           }
          ],
          "pie": [
           {
            "automargin": true,
            "type": "pie"
           }
          ],
          "scatter": [
           {
            "fillpattern": {
             "fillmode": "overlay",
             "size": 10,
             "solidity": 0.2
            },
            "type": "scatter"
           }
          ],
          "scatter3d": [
           {
            "line": {
             "colorbar": {
              "outlinewidth": 0,
              "ticks": ""
             }
            },
            "marker": {
             "colorbar": {
              "outlinewidth": 0,
              "ticks": ""
             }
            },
            "type": "scatter3d"
           }
          ],
          "scattercarpet": [
           {
            "marker": {
             "colorbar": {
              "outlinewidth": 0,
              "ticks": ""
             }
            },
            "type": "scattercarpet"
           }
          ],
          "scattergeo": [
           {
            "marker": {
             "colorbar": {
              "outlinewidth": 0,
              "ticks": ""
             }
            },
            "type": "scattergeo"
           }
          ],
          "scattergl": [
           {
            "marker": {
             "colorbar": {
              "outlinewidth": 0,
              "ticks": ""
             }
            },
            "type": "scattergl"
           }
          ],
          "scattermapbox": [
           {
            "marker": {
             "colorbar": {
              "outlinewidth": 0,
              "ticks": ""
             }
            },
            "type": "scattermapbox"
           }
          ],
          "scatterpolar": [
           {
            "marker": {
             "colorbar": {
              "outlinewidth": 0,
              "ticks": ""
             }
            },
            "type": "scatterpolar"
           }
          ],
          "scatterpolargl": [
           {
            "marker": {
             "colorbar": {
              "outlinewidth": 0,
              "ticks": ""
             }
            },
            "type": "scatterpolargl"
           }
          ],
          "scatterternary": [
           {
            "marker": {
             "colorbar": {
              "outlinewidth": 0,
              "ticks": ""
             }
            },
            "type": "scatterternary"
           }
          ],
          "surface": [
           {
            "colorbar": {
             "outlinewidth": 0,
             "ticks": ""
            },
            "colorscale": [
             [
              0,
              "#0d0887"
             ],
             [
              0.1111111111111111,
              "#46039f"
             ],
             [
              0.2222222222222222,
              "#7201a8"
             ],
             [
              0.3333333333333333,
              "#9c179e"
             ],
             [
              0.4444444444444444,
              "#bd3786"
             ],
             [
              0.5555555555555556,
              "#d8576b"
             ],
             [
              0.6666666666666666,
              "#ed7953"
             ],
             [
              0.7777777777777778,
              "#fb9f3a"
             ],
             [
              0.8888888888888888,
              "#fdca26"
             ],
             [
              1,
              "#f0f921"
             ]
            ],
            "type": "surface"
           }
          ],
          "table": [
           {
            "cells": {
             "fill": {
              "color": "#EBF0F8"
             },
             "line": {
              "color": "white"
             }
            },
            "header": {
             "fill": {
              "color": "#C8D4E3"
             },
             "line": {
              "color": "white"
             }
            },
            "type": "table"
           }
          ]
         },
         "layout": {
          "annotationdefaults": {
           "arrowcolor": "#2a3f5f",
           "arrowhead": 0,
           "arrowwidth": 1
          },
          "autotypenumbers": "strict",
          "coloraxis": {
           "colorbar": {
            "outlinewidth": 0,
            "ticks": ""
           }
          },
          "colorscale": {
           "diverging": [
            [
             0,
             "#8e0152"
            ],
            [
             0.1,
             "#c51b7d"
            ],
            [
             0.2,
             "#de77ae"
            ],
            [
             0.3,
             "#f1b6da"
            ],
            [
             0.4,
             "#fde0ef"
            ],
            [
             0.5,
             "#f7f7f7"
            ],
            [
             0.6,
             "#e6f5d0"
            ],
            [
             0.7,
             "#b8e186"
            ],
            [
             0.8,
             "#7fbc41"
            ],
            [
             0.9,
             "#4d9221"
            ],
            [
             1,
             "#276419"
            ]
           ],
           "sequential": [
            [
             0,
             "#0d0887"
            ],
            [
             0.1111111111111111,
             "#46039f"
            ],
            [
             0.2222222222222222,
             "#7201a8"
            ],
            [
             0.3333333333333333,
             "#9c179e"
            ],
            [
             0.4444444444444444,
             "#bd3786"
            ],
            [
             0.5555555555555556,
             "#d8576b"
            ],
            [
             0.6666666666666666,
             "#ed7953"
            ],
            [
             0.7777777777777778,
             "#fb9f3a"
            ],
            [
             0.8888888888888888,
             "#fdca26"
            ],
            [
             1,
             "#f0f921"
            ]
           ],
           "sequentialminus": [
            [
             0,
             "#0d0887"
            ],
            [
             0.1111111111111111,
             "#46039f"
            ],
            [
             0.2222222222222222,
             "#7201a8"
            ],
            [
             0.3333333333333333,
             "#9c179e"
            ],
            [
             0.4444444444444444,
             "#bd3786"
            ],
            [
             0.5555555555555556,
             "#d8576b"
            ],
            [
             0.6666666666666666,
             "#ed7953"
            ],
            [
             0.7777777777777778,
             "#fb9f3a"
            ],
            [
             0.8888888888888888,
             "#fdca26"
            ],
            [
             1,
             "#f0f921"
            ]
           ]
          },
          "colorway": [
           "#636efa",
           "#EF553B",
           "#00cc96",
           "#ab63fa",
           "#FFA15A",
           "#19d3f3",
           "#FF6692",
           "#B6E880",
           "#FF97FF",
           "#FECB52"
          ],
          "font": {
           "color": "#2a3f5f"
          },
          "geo": {
           "bgcolor": "white",
           "lakecolor": "white",
           "landcolor": "#E5ECF6",
           "showlakes": true,
           "showland": true,
           "subunitcolor": "white"
          },
          "hoverlabel": {
           "align": "left"
          },
          "hovermode": "closest",
          "mapbox": {
           "style": "light"
          },
          "paper_bgcolor": "white",
          "plot_bgcolor": "#E5ECF6",
          "polar": {
           "angularaxis": {
            "gridcolor": "white",
            "linecolor": "white",
            "ticks": ""
           },
           "bgcolor": "#E5ECF6",
           "radialaxis": {
            "gridcolor": "white",
            "linecolor": "white",
            "ticks": ""
           }
          },
          "scene": {
           "xaxis": {
            "backgroundcolor": "#E5ECF6",
            "gridcolor": "white",
            "gridwidth": 2,
            "linecolor": "white",
            "showbackground": true,
            "ticks": "",
            "zerolinecolor": "white"
           },
           "yaxis": {
            "backgroundcolor": "#E5ECF6",
            "gridcolor": "white",
            "gridwidth": 2,
            "linecolor": "white",
            "showbackground": true,
            "ticks": "",
            "zerolinecolor": "white"
           },
           "zaxis": {
            "backgroundcolor": "#E5ECF6",
            "gridcolor": "white",
            "gridwidth": 2,
            "linecolor": "white",
            "showbackground": true,
            "ticks": "",
            "zerolinecolor": "white"
           }
          },
          "shapedefaults": {
           "line": {
            "color": "#2a3f5f"
           }
          },
          "ternary": {
           "aaxis": {
            "gridcolor": "white",
            "linecolor": "white",
            "ticks": ""
           },
           "baxis": {
            "gridcolor": "white",
            "linecolor": "white",
            "ticks": ""
           },
           "bgcolor": "#E5ECF6",
           "caxis": {
            "gridcolor": "white",
            "linecolor": "white",
            "ticks": ""
           }
          },
          "title": {
           "x": 0.05
          },
          "xaxis": {
           "automargin": true,
           "gridcolor": "white",
           "linecolor": "white",
           "ticks": "",
           "title": {
            "standoff": 15
           },
           "zerolinecolor": "white",
           "zerolinewidth": 2
          },
          "yaxis": {
           "automargin": true,
           "gridcolor": "white",
           "linecolor": "white",
           "ticks": "",
           "title": {
            "standoff": 15
           },
           "zerolinecolor": "white",
           "zerolinewidth": 2
          }
         }
        },
        "violinmode": "group",
        "xaxis": {
         "anchor": "y",
         "domain": [
          0,
          1
         ],
         "title": {
          "text": "variable"
         }
        },
        "yaxis": {
         "anchor": "x",
         "domain": [
          0,
          1
         ],
         "title": {
          "text": "value"
         }
        }
       }
      }
     },
     "metadata": {},
     "output_type": "display_data"
    }
   ],
   "source": [
    "px.violin(df['Pregnancies'])"
   ]
  },
  {
   "cell_type": "code",
   "execution_count": 60,
   "metadata": {},
   "outputs": [
    {
     "data": {
      "text/plain": [
       "17"
      ]
     },
     "execution_count": 60,
     "metadata": {},
     "output_type": "execute_result"
    }
   ],
   "source": [
    "df['Pregnancies'].max()"
   ]
  },
  {
   "cell_type": "code",
   "execution_count": 61,
   "metadata": {},
   "outputs": [
    {
     "data": {
      "application/vnd.plotly.v1+json": {
       "config": {
        "plotlyServerURL": "https://plot.ly"
       },
       "data": [
        {
         "alignmentgroup": "True",
         "bingroup": "x",
         "hovertemplate": "BMI=%{x}<br>count=%{y}<extra></extra>",
         "legendgroup": "",
         "marker": {
          "color": "#636efa",
          "pattern": {
           "shape": ""
          }
         },
         "name": "",
         "offsetgroup": "",
         "orientation": "v",
         "showlegend": false,
         "type": "histogram",
         "x": [
          33.6,
          26.6,
          23.3,
          28.1,
          43.1,
          25.6,
          31,
          35.3,
          30.5,
          0,
          37.6,
          38,
          27.1,
          30.1,
          25.8,
          30,
          45.8,
          29.6,
          43.3,
          34.6,
          39.3,
          35.4,
          39.8,
          29,
          36.6,
          31.1,
          39.4,
          23.2,
          22.2,
          34.1,
          36,
          31.6,
          24.8,
          19.9,
          27.6,
          24,
          33.2,
          32.9,
          38.2,
          37.1,
          34,
          40.2,
          22.7,
          45.4,
          27.4,
          42,
          29.7,
          28,
          39.1,
          0,
          19.4,
          24.2,
          24.4,
          33.7,
          34.7,
          23,
          37.7,
          46.8,
          40.5,
          41.5,
          0,
          32.9,
          25,
          25.4,
          32.8,
          29,
          32.5,
          42.7,
          19.6,
          28.9,
          32.9,
          28.6,
          43.4,
          35.1,
          32,
          24.7,
          32.6,
          37.7,
          43.2,
          25,
          22.4,
          0,
          29.3,
          24.6,
          48.8,
          32.4,
          36.6,
          38.5,
          37.1,
          26.5,
          19.1,
          32,
          46.7,
          23.8,
          24.7,
          33.9,
          31.6,
          20.4,
          28.7,
          49.7,
          39,
          26.1,
          22.5,
          26.6,
          39.6,
          28.7,
          22.4,
          29.5,
          34.3,
          37.4,
          33.3,
          34,
          31.2,
          34,
          30.5,
          31.2,
          34,
          33.7,
          28.2,
          23.2,
          53.2,
          34.2,
          33.6,
          26.8,
          33.3,
          55,
          42.9,
          33.3,
          34.5,
          27.9,
          29.7,
          33.3,
          34.5,
          38.3,
          21.1,
          33.8,
          30.8,
          28.7,
          31.2,
          36.9,
          21.1,
          39.5,
          32.5,
          32.4,
          32.8,
          0,
          32.8,
          30.5,
          33.7,
          27.3,
          37.4,
          21.9,
          34.3,
          40.6,
          47.9,
          50,
          24.6,
          25.2,
          29,
          40.9,
          29.7,
          37.2,
          44.2,
          29.7,
          31.6,
          29.9,
          32.5,
          29.6,
          31.9,
          28.4,
          30.8,
          35.4,
          28.9,
          43.5,
          29.7,
          32.7,
          31.2,
          67.1,
          45,
          39.1,
          23.2,
          34.9,
          27.7,
          26.8,
          27.6,
          35.9,
          30.1,
          32,
          27.9,
          31.6,
          22.6,
          33.1,
          30.4,
          52.3,
          24.4,
          39.4,
          24.3,
          22.9,
          34.8,
          30.9,
          31,
          40.1,
          27.3,
          20.4,
          37.7,
          23.9,
          37.5,
          37.7,
          33.2,
          35.5,
          27.7,
          42.8,
          34.2,
          42.6,
          34.2,
          41.8,
          35.8,
          30,
          29,
          37.8,
          34.6,
          31.6,
          25.2,
          28.8,
          23.6,
          34.6,
          35.7,
          37.2,
          36.7,
          45.2,
          44,
          46.2,
          25.4,
          35,
          29.7,
          43.6,
          35.9,
          44.1,
          30.8,
          18.4,
          29.2,
          33.1,
          25.6,
          27.1,
          38.2,
          30,
          31.2,
          52.3,
          35.4,
          30.1,
          31.2,
          28,
          24.4,
          35.8,
          27.6,
          33.6,
          30.1,
          28.7,
          25.9,
          33.3,
          30.9,
          30,
          32.1,
          32.4,
          32,
          33.6,
          36.3,
          40,
          25.1,
          27.5,
          45.6,
          25.2,
          23,
          33.2,
          34.2,
          40.5,
          26.5,
          27.8,
          24.9,
          25.3,
          37.9,
          35.9,
          32.4,
          30.4,
          27,
          26,
          38.7,
          45.6,
          20.8,
          36.1,
          36.9,
          36.6,
          43.3,
          40.5,
          21.9,
          35.5,
          28,
          30.7,
          36.6,
          23.6,
          32.3,
          31.6,
          35.8,
          52.9,
          21,
          39.7,
          25.5,
          24.8,
          30.5,
          32.9,
          26.2,
          39.4,
          26.6,
          29.5,
          35.9,
          34.1,
          19.3,
          30.5,
          38.1,
          23.5,
          27.5,
          31.6,
          27.4,
          26.8,
          35.7,
          25.6,
          35.1,
          35.1,
          45.5,
          30.8,
          23.1,
          32.7,
          43.3,
          23.6,
          23.9,
          47.9,
          33.8,
          31.2,
          34.2,
          39.9,
          25.9,
          25.9,
          32,
          34.7,
          36.8,
          38.5,
          28.7,
          23.5,
          21.8,
          41,
          42.2,
          31.2,
          34.4,
          27.2,
          42.7,
          30.4,
          33.3,
          39.9,
          35.3,
          36.5,
          31.2,
          29.8,
          39.2,
          38.5,
          34.9,
          34,
          27.6,
          21,
          27.5,
          32.8,
          38.4,
          0,
          35.8,
          34.9,
          36.2,
          39.2,
          25.2,
          37.2,
          48.3,
          43.4,
          30.8,
          20,
          25.4,
          25.1,
          24.3,
          22.3,
          32.3,
          43.3,
          32,
          31.6,
          32,
          45.7,
          23.7,
          22.1,
          32.9,
          27.7,
          24.7,
          34.3,
          21.1,
          34.9,
          32,
          24.2,
          35,
          31.6,
          32.9,
          42.1,
          28.9,
          21.9,
          25.9,
          42.4,
          35.7,
          34.4,
          42.4,
          26.2,
          34.6,
          35.7,
          27.2,
          38.5,
          18.2,
          26.4,
          45.3,
          26,
          40.6,
          30.8,
          42.9,
          37,
          0,
          34.1,
          40.6,
          35,
          22.2,
          30.4,
          30,
          25.6,
          24.5,
          42.4,
          37.4,
          29.9,
          18.2,
          36.8,
          34.3,
          32.2,
          33.2,
          30.5,
          29.7,
          59.4,
          25.3,
          36.5,
          33.6,
          30.5,
          21.2,
          28.9,
          39.9,
          19.6,
          37.8,
          33.6,
          26.7,
          30.2,
          37.6,
          25.9,
          20.8,
          21.8,
          35.3,
          27.6,
          24,
          21.8,
          27.8,
          36.8,
          30,
          46.1,
          41.3,
          33.2,
          38.8,
          29.9,
          28.9,
          27.3,
          33.7,
          23.8,
          25.9,
          28,
          35.5,
          35.2,
          27.8,
          38.2,
          44.2,
          42.3,
          40.7,
          46.5,
          25.6,
          26.1,
          36.8,
          33.5,
          32.8,
          28.9,
          0,
          26.6,
          26,
          30.1,
          25.1,
          29.3,
          25.2,
          37.2,
          39,
          33.3,
          37.3,
          33.3,
          36.5,
          28.6,
          30.4,
          25,
          29.7,
          22.1,
          24.2,
          27.3,
          25.6,
          31.6,
          30.3,
          37.6,
          32.8,
          19.6,
          25,
          33.2,
          0,
          34.2,
          31.6,
          21.8,
          18.2,
          26.3,
          30.8,
          24.6,
          29.8,
          45.3,
          41.3,
          29.8,
          33.3,
          32.9,
          29.6,
          21.7,
          36.3,
          36.4,
          39.4,
          32.4,
          34.9,
          39.5,
          32,
          34.5,
          43.6,
          33.1,
          32.8,
          28.5,
          27.4,
          31.9,
          27.8,
          29.9,
          36.9,
          25.5,
          38.1,
          27.8,
          46.2,
          30.1,
          33.8,
          41.3,
          37.6,
          26.9,
          32.4,
          26.1,
          38.6,
          32,
          31.3,
          34.3,
          32.5,
          22.6,
          29.5,
          34.7,
          30.1,
          35.5,
          24,
          42.9,
          27,
          34.7,
          42.1,
          25,
          26.5,
          38.7,
          28.7,
          22.5,
          34.9,
          24.3,
          33.3,
          21.1,
          46.8,
          39.4,
          34.4,
          28.5,
          33.6,
          32,
          45.3,
          27.8,
          36.8,
          23.1,
          27.1,
          23.7,
          27.8,
          35.2,
          28.4,
          35.8,
          40,
          19.5,
          41.5,
          24,
          30.9,
          32.9,
          38.2,
          32.5,
          36.1,
          25.8,
          28.7,
          20.1,
          28.2,
          32.4,
          38.4,
          24.2,
          40.8,
          43.5,
          30.8,
          37.7,
          24.7,
          32.4,
          34.6,
          24.7,
          27.4,
          34.5,
          26.2,
          27.5,
          25.9,
          31.2,
          28.8,
          31.6,
          40.9,
          19.5,
          29.3,
          34.3,
          29.5,
          28,
          27.6,
          39.4,
          23.4,
          37.8,
          28.3,
          26.4,
          25.2,
          33.8,
          34.1,
          26.8,
          34.2,
          38.7,
          21.8,
          38.9,
          39,
          34.2,
          27.7,
          42.9,
          37.6,
          37.9,
          33.7,
          34.8,
          32.5,
          27.5,
          34,
          30.9,
          33.6,
          25.4,
          35.5,
          57.3,
          35.6,
          30.9,
          24.8,
          35.3,
          36,
          24.2,
          24.2,
          49.6,
          44.6,
          32.3,
          0,
          33.2,
          23.1,
          28.3,
          24.1,
          46.1,
          24.6,
          42.3,
          39.1,
          38.5,
          23.5,
          30.4,
          29.9,
          25,
          34.5,
          44.5,
          35.9,
          27.6,
          35,
          38.5,
          28.4,
          39.8,
          0,
          34.4,
          32.8,
          38,
          31.2,
          29.6,
          41.2,
          26.4,
          29.5,
          33.9,
          33.8,
          23.1,
          35.5,
          35.6,
          29.3,
          38.1,
          29.3,
          39.1,
          32.8,
          39.4,
          36.1,
          32.4,
          22.9,
          30.1,
          28.4,
          28.4,
          44.5,
          29,
          23.3,
          35.4,
          27.4,
          32,
          36.6,
          39.5,
          42.3,
          30.8,
          28.5,
          32.7,
          40.6,
          30,
          49.3,
          46.3,
          36.4,
          24.3,
          31.2,
          39,
          26,
          43.3,
          32.4,
          36.5,
          32,
          36.3,
          37.5,
          35.5,
          28.4,
          44,
          22.5,
          32.9,
          36.8,
          26.2,
          30.1,
          30.4
         ],
         "xaxis": "x",
         "yaxis": "y"
        }
       ],
       "layout": {
        "barmode": "relative",
        "legend": {
         "tracegroupgap": 0
        },
        "margin": {
         "t": 60
        },
        "template": {
         "data": {
          "bar": [
           {
            "error_x": {
             "color": "#2a3f5f"
            },
            "error_y": {
             "color": "#2a3f5f"
            },
            "marker": {
             "line": {
              "color": "#E5ECF6",
              "width": 0.5
             },
             "pattern": {
              "fillmode": "overlay",
              "size": 10,
              "solidity": 0.2
             }
            },
            "type": "bar"
           }
          ],
          "barpolar": [
           {
            "marker": {
             "line": {
              "color": "#E5ECF6",
              "width": 0.5
             },
             "pattern": {
              "fillmode": "overlay",
              "size": 10,
              "solidity": 0.2
             }
            },
            "type": "barpolar"
           }
          ],
          "carpet": [
           {
            "aaxis": {
             "endlinecolor": "#2a3f5f",
             "gridcolor": "white",
             "linecolor": "white",
             "minorgridcolor": "white",
             "startlinecolor": "#2a3f5f"
            },
            "baxis": {
             "endlinecolor": "#2a3f5f",
             "gridcolor": "white",
             "linecolor": "white",
             "minorgridcolor": "white",
             "startlinecolor": "#2a3f5f"
            },
            "type": "carpet"
           }
          ],
          "choropleth": [
           {
            "colorbar": {
             "outlinewidth": 0,
             "ticks": ""
            },
            "type": "choropleth"
           }
          ],
          "contour": [
           {
            "colorbar": {
             "outlinewidth": 0,
             "ticks": ""
            },
            "colorscale": [
             [
              0,
              "#0d0887"
             ],
             [
              0.1111111111111111,
              "#46039f"
             ],
             [
              0.2222222222222222,
              "#7201a8"
             ],
             [
              0.3333333333333333,
              "#9c179e"
             ],
             [
              0.4444444444444444,
              "#bd3786"
             ],
             [
              0.5555555555555556,
              "#d8576b"
             ],
             [
              0.6666666666666666,
              "#ed7953"
             ],
             [
              0.7777777777777778,
              "#fb9f3a"
             ],
             [
              0.8888888888888888,
              "#fdca26"
             ],
             [
              1,
              "#f0f921"
             ]
            ],
            "type": "contour"
           }
          ],
          "contourcarpet": [
           {
            "colorbar": {
             "outlinewidth": 0,
             "ticks": ""
            },
            "type": "contourcarpet"
           }
          ],
          "heatmap": [
           {
            "colorbar": {
             "outlinewidth": 0,
             "ticks": ""
            },
            "colorscale": [
             [
              0,
              "#0d0887"
             ],
             [
              0.1111111111111111,
              "#46039f"
             ],
             [
              0.2222222222222222,
              "#7201a8"
             ],
             [
              0.3333333333333333,
              "#9c179e"
             ],
             [
              0.4444444444444444,
              "#bd3786"
             ],
             [
              0.5555555555555556,
              "#d8576b"
             ],
             [
              0.6666666666666666,
              "#ed7953"
             ],
             [
              0.7777777777777778,
              "#fb9f3a"
             ],
             [
              0.8888888888888888,
              "#fdca26"
             ],
             [
              1,
              "#f0f921"
             ]
            ],
            "type": "heatmap"
           }
          ],
          "heatmapgl": [
           {
            "colorbar": {
             "outlinewidth": 0,
             "ticks": ""
            },
            "colorscale": [
             [
              0,
              "#0d0887"
             ],
             [
              0.1111111111111111,
              "#46039f"
             ],
             [
              0.2222222222222222,
              "#7201a8"
             ],
             [
              0.3333333333333333,
              "#9c179e"
             ],
             [
              0.4444444444444444,
              "#bd3786"
             ],
             [
              0.5555555555555556,
              "#d8576b"
             ],
             [
              0.6666666666666666,
              "#ed7953"
             ],
             [
              0.7777777777777778,
              "#fb9f3a"
             ],
             [
              0.8888888888888888,
              "#fdca26"
             ],
             [
              1,
              "#f0f921"
             ]
            ],
            "type": "heatmapgl"
           }
          ],
          "histogram": [
           {
            "marker": {
             "pattern": {
              "fillmode": "overlay",
              "size": 10,
              "solidity": 0.2
             }
            },
            "type": "histogram"
           }
          ],
          "histogram2d": [
           {
            "colorbar": {
             "outlinewidth": 0,
             "ticks": ""
            },
            "colorscale": [
             [
              0,
              "#0d0887"
             ],
             [
              0.1111111111111111,
              "#46039f"
             ],
             [
              0.2222222222222222,
              "#7201a8"
             ],
             [
              0.3333333333333333,
              "#9c179e"
             ],
             [
              0.4444444444444444,
              "#bd3786"
             ],
             [
              0.5555555555555556,
              "#d8576b"
             ],
             [
              0.6666666666666666,
              "#ed7953"
             ],
             [
              0.7777777777777778,
              "#fb9f3a"
             ],
             [
              0.8888888888888888,
              "#fdca26"
             ],
             [
              1,
              "#f0f921"
             ]
            ],
            "type": "histogram2d"
           }
          ],
          "histogram2dcontour": [
           {
            "colorbar": {
             "outlinewidth": 0,
             "ticks": ""
            },
            "colorscale": [
             [
              0,
              "#0d0887"
             ],
             [
              0.1111111111111111,
              "#46039f"
             ],
             [
              0.2222222222222222,
              "#7201a8"
             ],
             [
              0.3333333333333333,
              "#9c179e"
             ],
             [
              0.4444444444444444,
              "#bd3786"
             ],
             [
              0.5555555555555556,
              "#d8576b"
             ],
             [
              0.6666666666666666,
              "#ed7953"
             ],
             [
              0.7777777777777778,
              "#fb9f3a"
             ],
             [
              0.8888888888888888,
              "#fdca26"
             ],
             [
              1,
              "#f0f921"
             ]
            ],
            "type": "histogram2dcontour"
           }
          ],
          "mesh3d": [
           {
            "colorbar": {
             "outlinewidth": 0,
             "ticks": ""
            },
            "type": "mesh3d"
           }
          ],
          "parcoords": [
           {
            "line": {
             "colorbar": {
              "outlinewidth": 0,
              "ticks": ""
             }
            },
            "type": "parcoords"
           }
          ],
          "pie": [
           {
            "automargin": true,
            "type": "pie"
           }
          ],
          "scatter": [
           {
            "fillpattern": {
             "fillmode": "overlay",
             "size": 10,
             "solidity": 0.2
            },
            "type": "scatter"
           }
          ],
          "scatter3d": [
           {
            "line": {
             "colorbar": {
              "outlinewidth": 0,
              "ticks": ""
             }
            },
            "marker": {
             "colorbar": {
              "outlinewidth": 0,
              "ticks": ""
             }
            },
            "type": "scatter3d"
           }
          ],
          "scattercarpet": [
           {
            "marker": {
             "colorbar": {
              "outlinewidth": 0,
              "ticks": ""
             }
            },
            "type": "scattercarpet"
           }
          ],
          "scattergeo": [
           {
            "marker": {
             "colorbar": {
              "outlinewidth": 0,
              "ticks": ""
             }
            },
            "type": "scattergeo"
           }
          ],
          "scattergl": [
           {
            "marker": {
             "colorbar": {
              "outlinewidth": 0,
              "ticks": ""
             }
            },
            "type": "scattergl"
           }
          ],
          "scattermapbox": [
           {
            "marker": {
             "colorbar": {
              "outlinewidth": 0,
              "ticks": ""
             }
            },
            "type": "scattermapbox"
           }
          ],
          "scatterpolar": [
           {
            "marker": {
             "colorbar": {
              "outlinewidth": 0,
              "ticks": ""
             }
            },
            "type": "scatterpolar"
           }
          ],
          "scatterpolargl": [
           {
            "marker": {
             "colorbar": {
              "outlinewidth": 0,
              "ticks": ""
             }
            },
            "type": "scatterpolargl"
           }
          ],
          "scatterternary": [
           {
            "marker": {
             "colorbar": {
              "outlinewidth": 0,
              "ticks": ""
             }
            },
            "type": "scatterternary"
           }
          ],
          "surface": [
           {
            "colorbar": {
             "outlinewidth": 0,
             "ticks": ""
            },
            "colorscale": [
             [
              0,
              "#0d0887"
             ],
             [
              0.1111111111111111,
              "#46039f"
             ],
             [
              0.2222222222222222,
              "#7201a8"
             ],
             [
              0.3333333333333333,
              "#9c179e"
             ],
             [
              0.4444444444444444,
              "#bd3786"
             ],
             [
              0.5555555555555556,
              "#d8576b"
             ],
             [
              0.6666666666666666,
              "#ed7953"
             ],
             [
              0.7777777777777778,
              "#fb9f3a"
             ],
             [
              0.8888888888888888,
              "#fdca26"
             ],
             [
              1,
              "#f0f921"
             ]
            ],
            "type": "surface"
           }
          ],
          "table": [
           {
            "cells": {
             "fill": {
              "color": "#EBF0F8"
             },
             "line": {
              "color": "white"
             }
            },
            "header": {
             "fill": {
              "color": "#C8D4E3"
             },
             "line": {
              "color": "white"
             }
            },
            "type": "table"
           }
          ]
         },
         "layout": {
          "annotationdefaults": {
           "arrowcolor": "#2a3f5f",
           "arrowhead": 0,
           "arrowwidth": 1
          },
          "autotypenumbers": "strict",
          "coloraxis": {
           "colorbar": {
            "outlinewidth": 0,
            "ticks": ""
           }
          },
          "colorscale": {
           "diverging": [
            [
             0,
             "#8e0152"
            ],
            [
             0.1,
             "#c51b7d"
            ],
            [
             0.2,
             "#de77ae"
            ],
            [
             0.3,
             "#f1b6da"
            ],
            [
             0.4,
             "#fde0ef"
            ],
            [
             0.5,
             "#f7f7f7"
            ],
            [
             0.6,
             "#e6f5d0"
            ],
            [
             0.7,
             "#b8e186"
            ],
            [
             0.8,
             "#7fbc41"
            ],
            [
             0.9,
             "#4d9221"
            ],
            [
             1,
             "#276419"
            ]
           ],
           "sequential": [
            [
             0,
             "#0d0887"
            ],
            [
             0.1111111111111111,
             "#46039f"
            ],
            [
             0.2222222222222222,
             "#7201a8"
            ],
            [
             0.3333333333333333,
             "#9c179e"
            ],
            [
             0.4444444444444444,
             "#bd3786"
            ],
            [
             0.5555555555555556,
             "#d8576b"
            ],
            [
             0.6666666666666666,
             "#ed7953"
            ],
            [
             0.7777777777777778,
             "#fb9f3a"
            ],
            [
             0.8888888888888888,
             "#fdca26"
            ],
            [
             1,
             "#f0f921"
            ]
           ],
           "sequentialminus": [
            [
             0,
             "#0d0887"
            ],
            [
             0.1111111111111111,
             "#46039f"
            ],
            [
             0.2222222222222222,
             "#7201a8"
            ],
            [
             0.3333333333333333,
             "#9c179e"
            ],
            [
             0.4444444444444444,
             "#bd3786"
            ],
            [
             0.5555555555555556,
             "#d8576b"
            ],
            [
             0.6666666666666666,
             "#ed7953"
            ],
            [
             0.7777777777777778,
             "#fb9f3a"
            ],
            [
             0.8888888888888888,
             "#fdca26"
            ],
            [
             1,
             "#f0f921"
            ]
           ]
          },
          "colorway": [
           "#636efa",
           "#EF553B",
           "#00cc96",
           "#ab63fa",
           "#FFA15A",
           "#19d3f3",
           "#FF6692",
           "#B6E880",
           "#FF97FF",
           "#FECB52"
          ],
          "font": {
           "color": "#2a3f5f"
          },
          "geo": {
           "bgcolor": "white",
           "lakecolor": "white",
           "landcolor": "#E5ECF6",
           "showlakes": true,
           "showland": true,
           "subunitcolor": "white"
          },
          "hoverlabel": {
           "align": "left"
          },
          "hovermode": "closest",
          "mapbox": {
           "style": "light"
          },
          "paper_bgcolor": "white",
          "plot_bgcolor": "#E5ECF6",
          "polar": {
           "angularaxis": {
            "gridcolor": "white",
            "linecolor": "white",
            "ticks": ""
           },
           "bgcolor": "#E5ECF6",
           "radialaxis": {
            "gridcolor": "white",
            "linecolor": "white",
            "ticks": ""
           }
          },
          "scene": {
           "xaxis": {
            "backgroundcolor": "#E5ECF6",
            "gridcolor": "white",
            "gridwidth": 2,
            "linecolor": "white",
            "showbackground": true,
            "ticks": "",
            "zerolinecolor": "white"
           },
           "yaxis": {
            "backgroundcolor": "#E5ECF6",
            "gridcolor": "white",
            "gridwidth": 2,
            "linecolor": "white",
            "showbackground": true,
            "ticks": "",
            "zerolinecolor": "white"
           },
           "zaxis": {
            "backgroundcolor": "#E5ECF6",
            "gridcolor": "white",
            "gridwidth": 2,
            "linecolor": "white",
            "showbackground": true,
            "ticks": "",
            "zerolinecolor": "white"
           }
          },
          "shapedefaults": {
           "line": {
            "color": "#2a3f5f"
           }
          },
          "ternary": {
           "aaxis": {
            "gridcolor": "white",
            "linecolor": "white",
            "ticks": ""
           },
           "baxis": {
            "gridcolor": "white",
            "linecolor": "white",
            "ticks": ""
           },
           "bgcolor": "#E5ECF6",
           "caxis": {
            "gridcolor": "white",
            "linecolor": "white",
            "ticks": ""
           }
          },
          "title": {
           "x": 0.05
          },
          "xaxis": {
           "automargin": true,
           "gridcolor": "white",
           "linecolor": "white",
           "ticks": "",
           "title": {
            "standoff": 15
           },
           "zerolinecolor": "white",
           "zerolinewidth": 2
          },
          "yaxis": {
           "automargin": true,
           "gridcolor": "white",
           "linecolor": "white",
           "ticks": "",
           "title": {
            "standoff": 15
           },
           "zerolinecolor": "white",
           "zerolinewidth": 2
          }
         }
        },
        "xaxis": {
         "anchor": "y",
         "domain": [
          0,
          1
         ],
         "title": {
          "text": "BMI"
         }
        },
        "yaxis": {
         "anchor": "x",
         "domain": [
          0,
          1
         ],
         "title": {
          "text": "count"
         }
        }
       }
      }
     },
     "metadata": {},
     "output_type": "display_data"
    }
   ],
   "source": [
    "px.histogram(df, x='BMI')"
   ]
  },
  {
   "cell_type": "code",
   "execution_count": 62,
   "metadata": {},
   "outputs": [],
   "source": [
    "df.drop(df[df.Glucose < 20].index, inplace=True)\n",
    "df.drop(df[df.BloodPressure < 15].index, inplace=True)\n",
    "df.drop(df[df.BMI < 10].index, inplace=True)\n"
   ]
  },
  {
   "cell_type": "code",
   "execution_count": 63,
   "metadata": {},
   "outputs": [],
   "source": [
    "media_SkinThickness = df['SkinThickness'].mean()\n",
    "media_Insulin = df['Insulin'].mean()"
   ]
  },
  {
   "cell_type": "code",
   "execution_count": 64,
   "metadata": {},
   "outputs": [],
   "source": [
    "df['SkinThickness'] = np.where(df['SkinThickness'] < 5, media_SkinThickness, df['SkinThickness'])\n",
    "df['Insulin'] = np.where(df['Insulin'] < 10, media_Insulin, df['Insulin'])"
   ]
  },
  {
   "cell_type": "code",
   "execution_count": 65,
   "metadata": {},
   "outputs": [
    {
     "data": {
      "text/html": [
       "<div>\n",
       "<style scoped>\n",
       "    .dataframe tbody tr th:only-of-type {\n",
       "        vertical-align: middle;\n",
       "    }\n",
       "\n",
       "    .dataframe tbody tr th {\n",
       "        vertical-align: top;\n",
       "    }\n",
       "\n",
       "    .dataframe thead th {\n",
       "        text-align: right;\n",
       "    }\n",
       "</style>\n",
       "<table border=\"1\" class=\"dataframe\">\n",
       "  <thead>\n",
       "    <tr style=\"text-align: right;\">\n",
       "      <th></th>\n",
       "      <th>Pregnancies</th>\n",
       "      <th>Glucose</th>\n",
       "      <th>BloodPressure</th>\n",
       "      <th>SkinThickness</th>\n",
       "      <th>Insulin</th>\n",
       "      <th>BMI</th>\n",
       "      <th>DiabetesPedigreeFunction</th>\n",
       "      <th>Age</th>\n",
       "      <th>Outcome</th>\n",
       "    </tr>\n",
       "  </thead>\n",
       "  <tbody>\n",
       "    <tr>\n",
       "      <th>763</th>\n",
       "      <td>10</td>\n",
       "      <td>101</td>\n",
       "      <td>76</td>\n",
       "      <td>48.00000</td>\n",
       "      <td>180.000000</td>\n",
       "      <td>32.9</td>\n",
       "      <td>0.171</td>\n",
       "      <td>63</td>\n",
       "      <td>0</td>\n",
       "    </tr>\n",
       "    <tr>\n",
       "      <th>764</th>\n",
       "      <td>2</td>\n",
       "      <td>122</td>\n",
       "      <td>70</td>\n",
       "      <td>27.00000</td>\n",
       "      <td>84.494475</td>\n",
       "      <td>36.8</td>\n",
       "      <td>0.340</td>\n",
       "      <td>27</td>\n",
       "      <td>0</td>\n",
       "    </tr>\n",
       "    <tr>\n",
       "      <th>765</th>\n",
       "      <td>5</td>\n",
       "      <td>121</td>\n",
       "      <td>72</td>\n",
       "      <td>23.00000</td>\n",
       "      <td>112.000000</td>\n",
       "      <td>26.2</td>\n",
       "      <td>0.245</td>\n",
       "      <td>30</td>\n",
       "      <td>0</td>\n",
       "    </tr>\n",
       "    <tr>\n",
       "      <th>766</th>\n",
       "      <td>1</td>\n",
       "      <td>126</td>\n",
       "      <td>60</td>\n",
       "      <td>21.44337</td>\n",
       "      <td>84.494475</td>\n",
       "      <td>30.1</td>\n",
       "      <td>0.349</td>\n",
       "      <td>47</td>\n",
       "      <td>1</td>\n",
       "    </tr>\n",
       "    <tr>\n",
       "      <th>767</th>\n",
       "      <td>1</td>\n",
       "      <td>93</td>\n",
       "      <td>70</td>\n",
       "      <td>31.00000</td>\n",
       "      <td>84.494475</td>\n",
       "      <td>30.4</td>\n",
       "      <td>0.315</td>\n",
       "      <td>23</td>\n",
       "      <td>0</td>\n",
       "    </tr>\n",
       "  </tbody>\n",
       "</table>\n",
       "</div>"
      ],
      "text/plain": [
       "     Pregnancies  Glucose  BloodPressure  SkinThickness     Insulin   BMI  \\\n",
       "763           10      101             76       48.00000  180.000000  32.9   \n",
       "764            2      122             70       27.00000   84.494475  36.8   \n",
       "765            5      121             72       23.00000  112.000000  26.2   \n",
       "766            1      126             60       21.44337   84.494475  30.1   \n",
       "767            1       93             70       31.00000   84.494475  30.4   \n",
       "\n",
       "     DiabetesPedigreeFunction  Age  Outcome  \n",
       "763                     0.171   63        0  \n",
       "764                     0.340   27        0  \n",
       "765                     0.245   30        0  \n",
       "766                     0.349   47        1  \n",
       "767                     0.315   23        0  "
      ]
     },
     "execution_count": 65,
     "metadata": {},
     "output_type": "execute_result"
    }
   ],
   "source": [
    "df.tail()"
   ]
  },
  {
   "cell_type": "code",
   "execution_count": 18,
   "metadata": {},
   "outputs": [
    {
     "data": {
      "text/html": [
       "<div>\n",
       "<style scoped>\n",
       "    .dataframe tbody tr th:only-of-type {\n",
       "        vertical-align: middle;\n",
       "    }\n",
       "\n",
       "    .dataframe tbody tr th {\n",
       "        vertical-align: top;\n",
       "    }\n",
       "\n",
       "    .dataframe thead th {\n",
       "        text-align: right;\n",
       "    }\n",
       "</style>\n",
       "<table border=\"1\" class=\"dataframe\">\n",
       "  <thead>\n",
       "    <tr style=\"text-align: right;\">\n",
       "      <th></th>\n",
       "      <th>Pregnancies</th>\n",
       "      <th>Glucose</th>\n",
       "      <th>BloodPressure</th>\n",
       "      <th>SkinThickness</th>\n",
       "      <th>Insulin</th>\n",
       "      <th>BMI</th>\n",
       "      <th>DiabetesPedigreeFunction</th>\n",
       "      <th>Age</th>\n",
       "      <th>Outcome</th>\n",
       "    </tr>\n",
       "  </thead>\n",
       "  <tbody>\n",
       "    <tr>\n",
       "      <th>count</th>\n",
       "      <td>724.000000</td>\n",
       "      <td>724.000000</td>\n",
       "      <td>724.000000</td>\n",
       "      <td>724.000000</td>\n",
       "      <td>724.000000</td>\n",
       "      <td>724.000000</td>\n",
       "      <td>724.000000</td>\n",
       "      <td>724.000000</td>\n",
       "      <td>724.000000</td>\n",
       "    </tr>\n",
       "    <tr>\n",
       "      <th>mean</th>\n",
       "      <td>3.866022</td>\n",
       "      <td>121.882597</td>\n",
       "      <td>72.400552</td>\n",
       "      <td>27.130010</td>\n",
       "      <td>123.240560</td>\n",
       "      <td>32.467127</td>\n",
       "      <td>0.474765</td>\n",
       "      <td>33.350829</td>\n",
       "      <td>0.343923</td>\n",
       "    </tr>\n",
       "    <tr>\n",
       "      <th>std</th>\n",
       "      <td>3.362803</td>\n",
       "      <td>30.750030</td>\n",
       "      <td>12.379870</td>\n",
       "      <td>9.645083</td>\n",
       "      <td>94.398997</td>\n",
       "      <td>6.888941</td>\n",
       "      <td>0.332315</td>\n",
       "      <td>11.765393</td>\n",
       "      <td>0.475344</td>\n",
       "    </tr>\n",
       "    <tr>\n",
       "      <th>min</th>\n",
       "      <td>0.000000</td>\n",
       "      <td>44.000000</td>\n",
       "      <td>24.000000</td>\n",
       "      <td>7.000000</td>\n",
       "      <td>14.000000</td>\n",
       "      <td>18.200000</td>\n",
       "      <td>0.078000</td>\n",
       "      <td>21.000000</td>\n",
       "      <td>0.000000</td>\n",
       "    </tr>\n",
       "    <tr>\n",
       "      <th>25%</th>\n",
       "      <td>1.000000</td>\n",
       "      <td>99.750000</td>\n",
       "      <td>64.000000</td>\n",
       "      <td>21.443370</td>\n",
       "      <td>84.494475</td>\n",
       "      <td>27.500000</td>\n",
       "      <td>0.245000</td>\n",
       "      <td>24.000000</td>\n",
       "      <td>0.000000</td>\n",
       "    </tr>\n",
       "    <tr>\n",
       "      <th>50%</th>\n",
       "      <td>3.000000</td>\n",
       "      <td>117.000000</td>\n",
       "      <td>72.000000</td>\n",
       "      <td>24.000000</td>\n",
       "      <td>84.494475</td>\n",
       "      <td>32.400000</td>\n",
       "      <td>0.379000</td>\n",
       "      <td>29.000000</td>\n",
       "      <td>0.000000</td>\n",
       "    </tr>\n",
       "    <tr>\n",
       "      <th>75%</th>\n",
       "      <td>6.000000</td>\n",
       "      <td>142.000000</td>\n",
       "      <td>80.000000</td>\n",
       "      <td>33.000000</td>\n",
       "      <td>130.500000</td>\n",
       "      <td>36.600000</td>\n",
       "      <td>0.627500</td>\n",
       "      <td>41.000000</td>\n",
       "      <td>1.000000</td>\n",
       "    </tr>\n",
       "    <tr>\n",
       "      <th>max</th>\n",
       "      <td>17.000000</td>\n",
       "      <td>199.000000</td>\n",
       "      <td>122.000000</td>\n",
       "      <td>99.000000</td>\n",
       "      <td>846.000000</td>\n",
       "      <td>67.100000</td>\n",
       "      <td>2.420000</td>\n",
       "      <td>81.000000</td>\n",
       "      <td>1.000000</td>\n",
       "    </tr>\n",
       "  </tbody>\n",
       "</table>\n",
       "</div>"
      ],
      "text/plain": [
       "       Pregnancies     Glucose  BloodPressure  SkinThickness     Insulin  \\\n",
       "count   724.000000  724.000000     724.000000     724.000000  724.000000   \n",
       "mean      3.866022  121.882597      72.400552      27.130010  123.240560   \n",
       "std       3.362803   30.750030      12.379870       9.645083   94.398997   \n",
       "min       0.000000   44.000000      24.000000       7.000000   14.000000   \n",
       "25%       1.000000   99.750000      64.000000      21.443370   84.494475   \n",
       "50%       3.000000  117.000000      72.000000      24.000000   84.494475   \n",
       "75%       6.000000  142.000000      80.000000      33.000000  130.500000   \n",
       "max      17.000000  199.000000     122.000000      99.000000  846.000000   \n",
       "\n",
       "              BMI  DiabetesPedigreeFunction         Age     Outcome  \n",
       "count  724.000000                724.000000  724.000000  724.000000  \n",
       "mean    32.467127                  0.474765   33.350829    0.343923  \n",
       "std      6.888941                  0.332315   11.765393    0.475344  \n",
       "min     18.200000                  0.078000   21.000000    0.000000  \n",
       "25%     27.500000                  0.245000   24.000000    0.000000  \n",
       "50%     32.400000                  0.379000   29.000000    0.000000  \n",
       "75%     36.600000                  0.627500   41.000000    1.000000  \n",
       "max     67.100000                  2.420000   81.000000    1.000000  "
      ]
     },
     "execution_count": 18,
     "metadata": {},
     "output_type": "execute_result"
    }
   ],
   "source": [
    "df.describe()"
   ]
  },
  {
   "cell_type": "code",
   "execution_count": 66,
   "metadata": {},
   "outputs": [],
   "source": [
    "X = df.get(x_features).values"
   ]
  },
  {
   "cell_type": "code",
   "execution_count": 67,
   "metadata": {},
   "outputs": [],
   "source": [
    "y = df.get('Outcome').values"
   ]
  },
  {
   "cell_type": "code",
   "execution_count": 68,
   "metadata": {},
   "outputs": [],
   "source": [
    "scaler = MinMaxScaler()\n",
    "X = scaler.fit_transform(X)"
   ]
  },
  {
   "cell_type": "code",
   "execution_count": 75,
   "metadata": {},
   "outputs": [],
   "source": [
    "X_train, X_test, y_train, y_test = train_test_split(X, y, \n",
    "                                                    test_size=0.2, \n",
    "                                                    random_state=42)"
   ]
  },
  {
   "cell_type": "markdown",
   "metadata": {},
   "source": [
    "# Rede Neural - Modelo"
   ]
  },
  {
   "cell_type": "code",
   "execution_count": 81,
   "metadata": {},
   "outputs": [],
   "source": [
    "es = tf.keras.callbacks.EarlyStopping(\n",
    "    monitor='val_loss',\n",
    "    min_delta=0,\n",
    "    patience=5,\n",
    "    verbose=0,\n",
    "    mode='auto',\n",
    "    baseline=None,\n",
    "    restore_best_weights=False\n",
    ")"
   ]
  },
  {
   "cell_type": "code",
   "execution_count": 78,
   "metadata": {},
   "outputs": [
    {
     "data": {
      "text/plain": [
       "8"
      ]
     },
     "execution_count": 78,
     "metadata": {},
     "output_type": "execute_result"
    }
   ],
   "source": [
    "X.shape[1]"
   ]
  },
  {
   "cell_type": "code",
   "execution_count": 96,
   "metadata": {},
   "outputs": [],
   "source": [
    "model = tf.keras.models.Sequential()\n",
    "model.add(Dense(64, input_dim=X.shape[1], activation='relu'))\n",
    "model.add(Dense(128, activation='relu'))\n",
    "model.add(Dense(128, activation='relu'))\n",
    "model.add(Dense(128, activation='relu'))\n",
    "model.add(Dense(128, activation='relu'))\n",
    "model.add(Dense(128, activation='relu'))\n",
    "model.add(Dense(1, activation='sigmoid'))"
   ]
  },
  {
   "cell_type": "code",
   "execution_count": 97,
   "metadata": {},
   "outputs": [],
   "source": [
    "model.compile(loss='binary_crossentropy', \n",
    "              optimizer='adam', \n",
    "              metrics=['accuracy'])   # loss='mean_squared_error'"
   ]
  },
  {
   "cell_type": "code",
   "execution_count": 100,
   "metadata": {},
   "outputs": [
    {
     "name": "stdout",
     "output_type": "stream",
     "text": [
      "Epoch 1/60\n",
      "19/19 [==============================] - 1s 80ms/step - loss: 14741.1396 - accuracy: 0.5959\n",
      "Epoch 2/60\n",
      "19/19 [==============================] - 0s 6ms/step - loss: 74390.2109 - accuracy: 0.5596\n",
      "Epoch 3/60\n",
      "19/19 [==============================] - 0s 6ms/step - loss: 76371.4219 - accuracy: 0.5855\n",
      "Epoch 4/60\n",
      "19/19 [==============================] - 0s 6ms/step - loss: 77551.3750 - accuracy: 0.5924\n",
      "Epoch 5/60\n",
      "19/19 [==============================] - 0s 6ms/step - loss: 74226.1172 - accuracy: 0.5872\n",
      "Epoch 6/60\n",
      "19/19 [==============================] - 0s 7ms/step - loss: 52301.0000 - accuracy: 0.6149\n",
      "Epoch 7/60\n",
      "19/19 [==============================] - 0s 6ms/step - loss: 93097.9062 - accuracy: 0.5665\n",
      "Epoch 8/60\n",
      "19/19 [==============================] - 0s 6ms/step - loss: 113380.2344 - accuracy: 0.5803\n",
      "Epoch 9/60\n",
      "19/19 [==============================] - 0s 6ms/step - loss: 61511.7578 - accuracy: 0.6200\n",
      "Epoch 10/60\n",
      "19/19 [==============================] - 0s 6ms/step - loss: 55896.5117 - accuracy: 0.6373\n",
      "Epoch 11/60\n",
      "19/19 [==============================] - 0s 6ms/step - loss: 78195.4141 - accuracy: 0.6373\n",
      "Epoch 12/60\n",
      "19/19 [==============================] - 0s 5ms/step - loss: 149142.0000 - accuracy: 0.5941\n",
      "Epoch 13/60\n",
      "19/19 [==============================] - 0s 6ms/step - loss: 147346.7031 - accuracy: 0.6028\n",
      "Epoch 14/60\n",
      "19/19 [==============================] - 0s 6ms/step - loss: 87104.7266 - accuracy: 0.6045\n",
      "Epoch 15/60\n",
      "19/19 [==============================] - 0s 6ms/step - loss: 89296.7578 - accuracy: 0.6425\n",
      "Epoch 16/60\n",
      "19/19 [==============================] - 0s 6ms/step - loss: 135394.6562 - accuracy: 0.6390\n",
      "Epoch 17/60\n",
      "19/19 [==============================] - 0s 6ms/step - loss: 92212.3594 - accuracy: 0.6390\n",
      "Epoch 18/60\n",
      "19/19 [==============================] - 0s 6ms/step - loss: 67083.0781 - accuracy: 0.6390\n",
      "Epoch 19/60\n",
      "19/19 [==============================] - 0s 6ms/step - loss: 378351.6562 - accuracy: 0.5527\n",
      "Epoch 20/60\n",
      "19/19 [==============================] - 0s 6ms/step - loss: 122622.2031 - accuracy: 0.6563\n",
      "Epoch 21/60\n",
      "19/19 [==============================] - 0s 6ms/step - loss: 875884.1875 - accuracy: 0.5976\n",
      "Epoch 22/60\n",
      "19/19 [==============================] - 0s 6ms/step - loss: 184765.8125 - accuracy: 0.6114\n",
      "Epoch 23/60\n",
      "19/19 [==============================] - 0s 6ms/step - loss: 82728.8672 - accuracy: 0.6891\n",
      "Epoch 24/60\n",
      "19/19 [==============================] - 0s 6ms/step - loss: 349773.7188 - accuracy: 0.6183\n",
      "Epoch 25/60\n",
      "19/19 [==============================] - 0s 6ms/step - loss: 334190.5312 - accuracy: 0.5872\n",
      "Epoch 26/60\n",
      "19/19 [==============================] - 0s 7ms/step - loss: 239867.9062 - accuracy: 0.5924\n",
      "Epoch 27/60\n",
      "19/19 [==============================] - 0s 6ms/step - loss: 169839.6562 - accuracy: 0.6252\n",
      "Epoch 28/60\n",
      "19/19 [==============================] - 0s 6ms/step - loss: 263416.7812 - accuracy: 0.5579\n",
      "Epoch 29/60\n",
      "19/19 [==============================] - 0s 6ms/step - loss: 243671.8750 - accuracy: 0.6166\n",
      "Epoch 30/60\n",
      "19/19 [==============================] - 0s 6ms/step - loss: 156065.1719 - accuracy: 0.6425\n",
      "Epoch 31/60\n",
      "19/19 [==============================] - 0s 6ms/step - loss: 257855.5000 - accuracy: 0.6045\n",
      "Epoch 32/60\n",
      "19/19 [==============================] - 0s 6ms/step - loss: 635862.6875 - accuracy: 0.5855\n",
      "Epoch 33/60\n",
      "19/19 [==============================] - 0s 6ms/step - loss: 258439.0156 - accuracy: 0.6598\n",
      "Epoch 34/60\n",
      "19/19 [==============================] - 0s 6ms/step - loss: 284792.2500 - accuracy: 0.6373\n",
      "Epoch 35/60\n",
      "19/19 [==============================] - 0s 6ms/step - loss: 436115.4688 - accuracy: 0.6183\n",
      "Epoch 36/60\n",
      "19/19 [==============================] - 0s 6ms/step - loss: 246491.8281 - accuracy: 0.6373\n",
      "Epoch 37/60\n",
      "19/19 [==============================] - 0s 6ms/step - loss: 390695.7500 - accuracy: 0.6097\n",
      "Epoch 38/60\n",
      "19/19 [==============================] - 0s 6ms/step - loss: 892027.7500 - accuracy: 0.5579\n",
      "Epoch 39/60\n",
      "19/19 [==============================] - 0s 7ms/step - loss: 448938.5000 - accuracy: 0.6114\n",
      "Epoch 40/60\n",
      "19/19 [==============================] - 0s 6ms/step - loss: 318975.4688 - accuracy: 0.6373\n",
      "Epoch 41/60\n",
      "19/19 [==============================] - 0s 6ms/step - loss: 1342298.7500 - accuracy: 0.5509\n",
      "Epoch 42/60\n",
      "19/19 [==============================] - 0s 6ms/step - loss: 2409895.2500 - accuracy: 0.6079\n",
      "Epoch 43/60\n",
      "19/19 [==============================] - 0s 6ms/step - loss: 1270082.6250 - accuracy: 0.6028\n",
      "Epoch 44/60\n",
      "19/19 [==============================] - 0s 6ms/step - loss: 522422.5000 - accuracy: 0.6183\n",
      "Epoch 45/60\n",
      "19/19 [==============================] - 0s 6ms/step - loss: 813720.4375 - accuracy: 0.5976\n",
      "Epoch 46/60\n",
      "19/19 [==============================] - 0s 6ms/step - loss: 842531.0625 - accuracy: 0.6373\n",
      "Epoch 47/60\n",
      "19/19 [==============================] - 0s 6ms/step - loss: 304661.4062 - accuracy: 0.6339\n",
      "Epoch 48/60\n",
      "19/19 [==============================] - 0s 6ms/step - loss: 1321798.8750 - accuracy: 0.5993\n",
      "Epoch 49/60\n",
      "19/19 [==============================] - 0s 6ms/step - loss: 1757081.8750 - accuracy: 0.5976\n",
      "Epoch 50/60\n",
      "19/19 [==============================] - 0s 6ms/step - loss: 2390663.5000 - accuracy: 0.5665\n",
      "Epoch 51/60\n",
      "19/19 [==============================] - 0s 6ms/step - loss: 1173937.2500 - accuracy: 0.6131\n",
      "Epoch 52/60\n",
      "19/19 [==============================] - 0s 6ms/step - loss: 1042900.5625 - accuracy: 0.6200\n",
      "Epoch 53/60\n",
      "19/19 [==============================] - 0s 5ms/step - loss: 3390222.2500 - accuracy: 0.5786\n",
      "Epoch 54/60\n",
      "19/19 [==============================] - 0s 5ms/step - loss: 2855695.0000 - accuracy: 0.5717\n",
      "Epoch 55/60\n",
      "19/19 [==============================] - 0s 6ms/step - loss: 1402838.6250 - accuracy: 0.6287\n",
      "Epoch 56/60\n",
      "19/19 [==============================] - 0s 5ms/step - loss: 720774.8750 - accuracy: 0.6425\n",
      "Epoch 57/60\n",
      "19/19 [==============================] - 0s 5ms/step - loss: 756075.1250 - accuracy: 0.5976\n",
      "Epoch 58/60\n",
      "19/19 [==============================] - 0s 6ms/step - loss: 1713413.2500 - accuracy: 0.5613\n",
      "Epoch 59/60\n",
      "19/19 [==============================] - 0s 6ms/step - loss: 877191.3125 - accuracy: 0.6183\n",
      "Epoch 60/60\n",
      "19/19 [==============================] - 0s 6ms/step - loss: 3720201.2500 - accuracy: 0.5492\n"
     ]
    },
    {
     "data": {
      "text/plain": [
       "<keras.src.callbacks.History at 0x173ab2ca0>"
      ]
     },
     "execution_count": 100,
     "metadata": {},
     "output_type": "execute_result"
    }
   ],
   "source": [
    "model.fit(X_train, \n",
    "          y_train, \n",
    "          # validation_split=0.15,\n",
    "        #   validation_data=(X_test, y_test), \n",
    "          epochs=60, \n",
    "          shuffle=True) \n",
    "          # callbacks=[es])"
   ]
  },
  {
   "cell_type": "code",
   "execution_count": 99,
   "metadata": {},
   "outputs": [
    {
     "name": "stdout",
     "output_type": "stream",
     "text": [
      "5/5 [==============================] - 0s 13ms/step - loss: 41303.4141 - accuracy: 0.4966\n"
     ]
    },
    {
     "data": {
      "text/plain": [
       "[41303.4140625, 0.4965517222881317]"
      ]
     },
     "execution_count": 99,
     "metadata": {},
     "output_type": "execute_result"
    }
   ],
   "source": [
    "model.evaluate(X_test, y_test)"
   ]
  },
  {
   "cell_type": "code",
   "execution_count": 31,
   "metadata": {},
   "outputs": [
    {
     "name": "stdout",
     "output_type": "stream",
     "text": [
      "Model: \"sequential\"\n",
      "_________________________________________________________________\n",
      " Layer (type)                Output Shape              Param #   \n",
      "=================================================================\n",
      " dense (Dense)               (None, 80)                720       \n",
      "                                                                 \n",
      " dense_1 (Dense)             (None, 20)                1620      \n",
      "                                                                 \n",
      " dense_2 (Dense)             (None, 1)                 21        \n",
      "                                                                 \n",
      "=================================================================\n",
      "Total params: 2361 (9.22 KB)\n",
      "Trainable params: 2361 (9.22 KB)\n",
      "Non-trainable params: 0 (0.00 Byte)\n",
      "_________________________________________________________________\n"
     ]
    }
   ],
   "source": [
    "model.summary()"
   ]
  },
  {
   "cell_type": "code",
   "execution_count": 29,
   "metadata": {},
   "outputs": [
    {
     "data": {
      "image/png": "[encoded data removed]",
      "text/plain": [
       "<IPython.core.display.Image object>"
      ]
     },
     "execution_count": 29,
     "metadata": {},
     "output_type": "execute_result"
    }
   ],
   "source": [
    "plot_model(model, to_file='model.png')"
   ]
  },
  {
   "cell_type": "code",
   "execution_count": 101,
   "metadata": {},
   "outputs": [
    {
     "name": "stderr",
     "output_type": "stream",
     "text": [
      "/opt/homebrew/anaconda3/envs/tf/lib/python3.9/site-packages/keras/src/engine/training.py:3079: UserWarning:\n",
      "\n",
      "You are saving your model as an HDF5 file via `model.save()`. This file format is considered legacy. We recommend using instead the native Keras format, e.g. `model.save('my_model.keras')`.\n",
      "\n"
     ]
    }
   ],
   "source": [
    "model.save('model.h5')"
   ]
  }
 ],
 "metadata": {
  "kernelspec": {
   "display_name": "tf",
   "language": "python",
   "name": "python3"
  },
  "language_info": {
   "codemirror_mode": {
    "name": "ipython",
    "version": 3
   },
   "file_extension": ".py",
   "mimetype": "text/x-python",
   "name": "python",
   "nbconvert_exporter": "python",
   "pygments_lexer": "ipython3",
   "version": "3.9.18"
  },
  "orig_nbformat": 4
 },
 "nbformat": 4,
 "nbformat_minor": 2
}
